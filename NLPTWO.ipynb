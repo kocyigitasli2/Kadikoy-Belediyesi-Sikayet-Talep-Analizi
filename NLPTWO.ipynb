{
  "nbformat": 4,
  "nbformat_minor": 0,
  "metadata": {
    "colab": {
      "name": "NLPTWO.ipynb",
      "provenance": [],
      "collapsed_sections": [],
      "include_colab_link": true
    },
    "kernelspec": {
      "name": "python3",
      "display_name": "Python 3"
    }
  },
  "cells": [
    {
      "cell_type": "markdown",
      "metadata": {
        "id": "view-in-github",
        "colab_type": "text"
      },
      "source": [
        "<a href=\"https://colab.research.google.com/github/duyqu-chan/Sikayet-Talep-Analizi/blob/master/NLPTWO.ipynb\" target=\"_parent\"><img src=\"https://colab.research.google.com/assets/colab-badge.svg\" alt=\"Open In Colab\"/></a>"
      ]
    },
    {
      "cell_type": "code",
      "metadata": {
        "id": "JqeNAWT5xNV3",
        "colab_type": "code",
        "outputId": "379811f0-68d9-44f9-f986-bc49b624a5a5",
        "colab": {
          "resources": {
            "http://localhost:8080/nbextensions/google.colab/files.js": {
              "data": "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",
              "ok": true,
              "headers": [
                [
                  "content-type",
                  "application/javascript"
                ]
              ],
              "status": 200,
              "status_text": ""
            }
          },
          "base_uri": "https://localhost:8080/",
          "height": 75
        }
      },
      "source": [
        "from google.colab import files\n",
        "uploaded = files.upload()"
      ],
      "execution_count": 0,
      "outputs": [
        {
          "output_type": "display_data",
          "data": {
            "text/html": [
              "\n",
              "     <input type=\"file\" id=\"files-15b9995a-9ecb-430f-a1d0-902924eca4c7\" name=\"files[]\" multiple disabled />\n",
              "     <output id=\"result-15b9995a-9ecb-430f-a1d0-902924eca4c7\">\n",
              "      Upload widget is only available when the cell has been executed in the\n",
              "      current browser session. Please rerun this cell to enable.\n",
              "      </output>\n",
              "      <script src=\"/nbextensions/google.colab/files.js\"></script> "
            ],
            "text/plain": [
              "<IPython.core.display.HTML object>"
            ]
          },
          "metadata": {
            "tags": []
          }
        },
        {
          "output_type": "stream",
          "text": [
            "Saving evrak.xlsx to evrak (1).xlsx\n"
          ],
          "name": "stdout"
        }
      ]
    },
    {
      "cell_type": "code",
      "metadata": {
        "id": "nt9-2uLQx44t",
        "colab_type": "code",
        "outputId": "24bb8784-8e21-42e3-f97a-08841ca22e0c",
        "colab": {
          "base_uri": "https://localhost:8080/",
          "height": 345
        }
      },
      "source": [
        "import pandas as pd\n",
        "veri = pd.read_excel('evrak.xlsx')\n",
        "print(veri.describe())\n",
        "print(veri.shape)\n",
        "print(veri.columns)"
      ],
      "execution_count": 0,
      "outputs": [
        {
          "output_type": "stream",
          "text": [
            "          Doküman No  İşlem Yapılan Süre\n",
            "count   16155.000000        14143.000000\n",
            "mean   202945.278428           11.812204\n",
            "std     59624.220699            7.412819\n",
            "min     91153.000000            1.000000\n",
            "25%    152879.500000            3.000000\n",
            "50%    196221.000000           15.000000\n",
            "75%    245260.000000           15.000000\n",
            "max    317315.000000          180.000000\n",
            "(16155, 23)\n",
            "Index(['Birim Adı', 'Evrak Türü', 'Doküman No', 'Kapsam', 'Geliş Şekli',\n",
            "       'Doküman Metin', 'Evrak Zaman', 'Evrak Sonuç Zaman',\n",
            "       'Hedef/Miat Tarihi', 'İşlem Süresi', 'Evrak Sonuç Durum',\n",
            "       'Doküman Adres Mahalle', 'Doküman Adres Pafta', 'Doküman Adres Ada',\n",
            "       'Doküman Adres Parsel', 'Doküman Yer Adresi', 'Süre Durumu',\n",
            "       'İşlem Durumu', 'İşlem Yapılan Konu', 'İşlem Yapılan Alt Konu',\n",
            "       'İşlem Yapılan Süre', 'İşlem Yapılan Süre Birimi', 'Kurum Görüşü'],\n",
            "      dtype='object')\n"
          ],
          "name": "stdout"
        }
      ]
    },
    {
      "cell_type": "code",
      "metadata": {
        "id": "vvimF6Iiaczv",
        "colab_type": "code",
        "outputId": "899b5401-39da-4666-b35a-88b4e9374482",
        "colab": {
          "base_uri": "https://localhost:8080/",
          "height": 454
        }
      },
      "source": [
        "veri.dtypes"
      ],
      "execution_count": 0,
      "outputs": [
        {
          "output_type": "execute_result",
          "data": {
            "text/plain": [
              "Birim Adı                            object\n",
              "Evrak Türü                           object\n",
              "Doküman No                            int64\n",
              "Kapsam                               object\n",
              "Geliş Şekli                          object\n",
              "Doküman Metin                        object\n",
              "Evrak Zaman                          object\n",
              "Evrak Sonuç Zaman                    object\n",
              "Hedef/Miat Tarihi            datetime64[ns]\n",
              "İşlem Süresi                         object\n",
              "Evrak Sonuç Durum                    object\n",
              "Doküman Adres Mahalle                object\n",
              "Doküman Adres Pafta                  object\n",
              "Doküman Adres Ada                    object\n",
              "Doküman Adres Parsel                 object\n",
              "Doküman Yer Adresi                   object\n",
              "Süre Durumu                          object\n",
              "İşlem Durumu                         object\n",
              "İşlem Yapılan Konu                   object\n",
              "İşlem Yapılan Alt Konu               object\n",
              "İşlem Yapılan Süre                  float64\n",
              "İşlem Yapılan Süre Birimi            object\n",
              "Kurum Görüşü                         object\n",
              "dtype: object"
            ]
          },
          "metadata": {
            "tags": []
          },
          "execution_count": 84
        }
      ]
    },
    {
      "cell_type": "code",
      "metadata": {
        "id": "5WUscQytXBCY",
        "colab_type": "code",
        "outputId": "8529d681-8f5a-4767-8558-09fffe0fbd32",
        "colab": {
          "base_uri": "https://localhost:8080/",
          "height": 1000
        }
      },
      "source": [
        "for col in veri.columns:\n",
        "  if veri[col].dtype.name == \"object\":\n",
        "    print(col, \":\", veri[col].unique())"
      ],
      "execution_count": 0,
      "outputs": [
        {
          "output_type": "stream",
          "text": [
            "Birim Adı : ['Basın Yayın ve Halkla İlişkiler Müdürlüğü' nan 'Bilgi İşlem Müdürlüğü'\n",
            " 'Destek Hizmetleri Müdürlüğü' 'Emlak ve İstimlak Müdürlüğü'\n",
            " 'Fen İşleri Müdürlüğü' 'Gençlik ve Spor Hizmetleri Müdürlüğü'\n",
            " 'Kentsel Tasarım Müdürlüğü' 'Kültür ve Sosyal İşler Müdürlüğü'\n",
            " 'Mali Hizmetler Müdürlüğü' 'Park ve Bahçeler Müdürlüğü'\n",
            " 'Plan ve Proje Müdürlüğü' 'Ruhsat ve Denetim Müdürlüğü'\n",
            " 'Sağlık İşleri Müdürlüğü' 'Sosyal Destek Hizmetleri Müdürlüğü'\n",
            " 'Temizlik İşleri Müdürlüğü' 'Ulaşım Hizmetleri Müdürlüğü'\n",
            " 'Yapı Kontrol Müdürlüğü' 'Yazı İşleri Müdürlüğü' 'Zabıta Müdürlüğü'\n",
            " 'Çevre Koruma ve Kontrol Müdürlüğü' 'Özel Kalem Müdürlüğü'\n",
            " 'İmar ve Şehircilik Müdürlüğü' 'İnsan Kaynakları ve Eğitim Müdürlüğü']\n",
            "Evrak Türü : ['Gelen Evrak' nan]\n",
            "Kapsam : ['Talep' nan 'Şikayet' 'İhbar' 'Öneri' 'Teşekkür']\n",
            "Geliş Şekli : ['Telefon' nan 'Web Form']\n",
            "Doküman Metin : ['İlgili adrese ikramlık talebinde bulunulmuştur.Bilgilerinize.' nan\n",
            " 'İlgili adrese ikramlık talep edilmiştir.Bilgilerinize. ' ...\n",
            " 'Merhaba, ben Peyzaj Mimarlığı bölümünden yeni mezun oldum, kariyerime bu kurumda Peyzaj Mimarı çalışanı olarak devam etmek istemekteyim. Olumlu sonuçlanmasını temenni etmekteyim.'\n",
            " \"İyi günler, iyi çalışmalar diliyorum. Aktif bir şekilde iş aramaktayım. CV'im ektedir. Bana uygun pozisyonunuz olursa geri dönüşünüzü bekliyorum.\"\n",
            " 'İşsizim kadıköy belediyesinde çalışmak istiyorum.']\n",
            "Evrak Zaman : ['02/01/2019 09:35:05' nan '02/01/2019 09:34:18' ... '08/07/2019 10:04:10'\n",
            " '16/07/2019 08:39:06' '25/07/2019 14:00:13']\n",
            "Evrak Sonuç Zaman : ['03/01/2019 11:00:08' nan '03/01/2019 10:56:33' ... '08/07/2019 10:18:14'\n",
            " '16/07/2019 15:47:29' '25/07/2019 14:06:52']\n",
            "İşlem Süresi : ['1 gün 02:30:08.00' nan '1 gün 02:26:33.00' ... '2 gün 03:49:11.00'\n",
            " '0 gün 01:48:14.00' '0 gün 01:06:52.00']\n",
            "Evrak Sonuç Durum : ['Tamamlandı-Olumlu' nan 'Tamamlandı-Olumsuz' 'İptal-Vazgeçme']\n",
            "Doküman Adres Mahalle : ['SAHRAYICEDİT MAH.' nan 'SUADİYE MAH.' 'ACIBADEM MAH.' 'FİKİRTEPE MAH.'\n",
            " 'HASANPAŞA MAH.' 'CADDEBOSTAN MAH.' '19 MAYIS MAH.' '* Mahalle Seçilmedi'\n",
            " 'RASİMPAŞA MAH.' 'GÖZTEPE MAH.' 'CAFERAĞA MAH.' 'ZÜHTÜPAŞA MAH.'\n",
            " 'FENERYOLU MAH.' 'OSMANAĞA MAH.' 'KOŞUYOLU MAH.' 'EĞİTİM MAH.'\n",
            " 'MERDİVENKÖY MAH.' 'DUMLUPINAR MAH.' 'ERENKÖY MAH.' 'BOSTANCI MAH.'\n",
            " 'KOZYATAĞI MAH.' 'FENERBAHÇE MAH.']\n",
            "Doküman Adres Pafta : ['175' nan '118' '140' '287' '142' '172/3' '49' '120' '151' '11' '152' '-'\n",
            " '104' '108/2' '132' '155/2' '143' '194' '145' '168' '179' '102' '7'\n",
            " '106/3' '90' '161' '67' '94' '97' '20' '174' '105' '47' '108/1' '193'\n",
            " '176' '177' '18' '154' '101' '107/1' '48' '178/1' '272' '192' '60' '139'\n",
            " '8' '100' '150' '57/1' '157' '114' '112' 'p.104' '160' '98' '122' '166'\n",
            " '56' '106/2' '141' '271' '21' '119' '50' '51' '185' '158' '283' '146'\n",
            " '12' '133' '170' '162' '109' '43' '131' '282' '148' '25' '124' '144'\n",
            " '191' '136' '180' '110' '106/1' '58' '149' '129' '70' '163' '172/1' 'U76'\n",
            " '130' '89' '206' '68' '156' '10' '30' '96' '28' '155/1' '103' '33' '32'\n",
            " '121' '29' '31' '165' '86' '173' '38' '187' '171' '265' '106/4' '6' '53'\n",
            " '36' '1' '77' '52' '286' '186' '284' '135' '0' '14' '172' '27' '61' '117'\n",
            " '45' '107/2' '65' '24' '184' '123' '73' '22' '183' '189' '167' '40' '113'\n",
            " '15' '5' '84' '154/1' '69' '39' '101-103' '164' '91' '267' '35' '178/2'\n",
            " '111' '125' '169' '270' '72' '296' '34' '116' '147' '57' '82' '159' '108'\n",
            " '44' '37' '81' '188' '75' '19' '71' '93' '87' '62' '230' '2' '23' '115'\n",
            " '59' '95' '88' '155' '195' '9' '4' '46' '83' '79' '138' '63' '266' '17'\n",
            " '137' '268' '227' '126' '76' '153' '16' '207' '269' '85' '*' '80' '3'\n",
            " '78' '66' '99' '106' '294' '194/1' '54' '74' '55' '92' 'p.67' '42'\n",
            " '194-286' '13' '182']\n",
            "Doküman Adres Ada : ['3157' nan '532' '1448' '3431' '482' '1415' '256' '1326' '420' '1274'\n",
            " '578' '0' '394' '440' '463' '1449' '1276' '767' '744' '1126/239' '1023'\n",
            " '1076' '1262' '3224' '3313' '432' '1204' '1198' '1167' '3189' '876'\n",
            " '1042' '3208' '3205' '275' '1133' '7' '838' '404' '219' '1406' '1273'\n",
            " '3240' '3109' '1438' '1026' '621' '1077' '764' '1452' '1318' '622' '712'\n",
            " '1249' '2976' '186' '1062' '1012' '3181' '284' '1119' '1086' '1235'\n",
            " '1199' '562' '2888' '589' '1243' '666' '1268' '861' '2990' '987' '3106'\n",
            " '672' '996' '539' '411' '901' '1064' '3133' '403' '2769' '382' '480'\n",
            " '680' '3142' '1068' '113' '536' '213' '627' '442' '728' '998' '620'\n",
            " '2398' '437' '1405' '719' '1208' '659' '3441' '1051' '398' '10' '466'\n",
            " '1173' '3115' '3151' '465' '1096' '501' '902' '878' '2972' '1171' '834'\n",
            " '1177' '3167' '1282' '3316' '1383' '837' '1236' '95' '441' '543' '601'\n",
            " '110' '751' '494' '3091' '1078' '645' '3179' '502' '1212' '1305' '410'\n",
            " '1015' '1410' '586' '1285' '468' '3309' '870' '393' '1451' '1126' '2225'\n",
            " '715' '3122' '641' '2948' '459' '830' '2959' '421' '506' '1057' '3134'\n",
            " '1232' '839' '3194' '664' '891' '1334' '8' '522' '140' '992' '195' '1172'\n",
            " '565' '1337' '142' '974' '848' '1200' '401' '151' '3108' '3121' '150'\n",
            " '1231' '1213' '3176' '841' '1404' '3367' '3315' '566' '1325' '412' '761'\n",
            " '1165' '136' '3152' '836' '3211' '350' '3125' '3159' '127' '723' '1440'\n",
            " '2173' '2969' '1' '3039' '1238' '198' '119' '846' '673' '875' '368'\n",
            " '1176' '367' '858' '365' '3197' '206' '1260' '1407' '1070' '1351' '211'\n",
            " '3253' '2379' '405' '956' '722' '2222' '2230' '1156' '53' '496' '1097'\n",
            " '2967' '3256' '28' '982' '1416' '16' '3237' '395' '883' '3139' '378'\n",
            " '3241' '3207' '217' '1264' '590' '3238' '843' '94' '993' '564' '951'\n",
            " '1441' '3071' '779' '3247' '531' '629' '3003' '3076' '1170' '864' '1153'\n",
            " '1099' '399' '1148' '1095' '3156' '3161' '361' '315' '704' '1112' '1040'\n",
            " '3100' '109' '478' '1302' '602' '1016' '720' '3242' '1022' '1726' '396'\n",
            " '757' '850' '3144' '3154' '3168' '662' '860' '949' '690' '714' '1400'\n",
            " '3164' '3111' '197' '223/16' '356' '3149' '324' '138' '146' '1219' '521'\n",
            " '3231' '263' '431' '3408' '3086' '700' '3123' '691' '2952' '1166' '887'\n",
            " '114' '490' '737' '1267' '2961' '962' '373' '3113' '2889' '406' '419'\n",
            " '1120' '710' '495' '648' '857' '265' '2395' '1430' '1106' '1107' '607'\n",
            " '1338' '1240' '3188' '2983' '2997' '1352' '215' '3246' '2977' '392'\n",
            " '1403' '538' '833' '1007' '19' '40' '3063' '832' '642' '1092' '1345'\n",
            " '364' '1266' '2982' '190' '442/57' '184' '182' '3180' '80' '79' '70'\n",
            " '988' '267' '1333' '3398' '3407' '1435' '1335' '973' '1259' '157' '592'\n",
            " '1248' '435' '3204' '193' '3201' '3227' '363' '865' '3177' '99' '3401/3'\n",
            " '3401' '384' '279' '655' '670' '212' '899' '391' '1439' '3068' '2187'\n",
            " '3030' '383' '1288' '3241/209' '3169' '106' '2364' '3090' '1278' '2975'\n",
            " '91' '3094' '687' '643' '3097' '548' '2974' '3203/200' '635' '1300' '563'\n",
            " '2179' '500' '257' '984' '3112' '985' '1442' '330' '1422' '3198' '1434'\n",
            " '584' '3868' '1446' '400' '665' '1154' '1210' '130' '3414' '594' '1216'\n",
            " '535' '1280' '1098' '896' '1437' '675' '3138' '1245/16' '428' '3252'\n",
            " '105' '118' '409' '879' '124' '1414' '1058' '347' '1425' '467' '746'\n",
            " '667' '3203' '2963' '3411' '2984' '696' '108' '712/26' '1286' '87' '1315'\n",
            " '760' '122' '72' '3257' '719/72' '408' '1079' '762' '3228' '1085' '3117'\n",
            " '1014' '1017' '226' '3229' '316' '191' '346' '1113' '443' '1408' '626'\n",
            " '1413' '3191' '1409' '862' '969' '963' '625' '693' '1306' '204' '724'\n",
            " '1244' '703' '3402' '1436' '1214' '3397' '2329' '3183' '2986' '2955'\n",
            " '1271' '886' '2397' '223' '475' '1021' '332' '68' '25' '529' '3175'\n",
            " '1245' '717' '612' '292' '702' '353' '1327' '1237' '657' '413' '3307'\n",
            " '716' '351' '976' '1162' '3092' '308' '1055' '2895' '173 PARSEL' '968'\n",
            " '646' '863' '2971' '957' '1163' '1217' '1303' '2737' '214' '1116' '661'\n",
            " '56' '1336' '1205' '132' '656' '3294' '376' '2940' '859' '851' '1142'\n",
            " '681' '1018' '516' '126' '1221' '144' '76' '872' '3148' '477' '528'\n",
            " '3119' '3135' '1418' '2879' '3153' '1144' '523' '147' '3158' '3243' '628'\n",
            " '160' '3096' '544' '1445' '289' '893' '831' '2346' '234' '1065' '203'\n",
            " '1239' '1201' '3141' '3034' '3145' '3310' '1020' '1245 / 17-16-14' '768'\n",
            " '1130' '1284' '1197' '3244' '3403' '613' '65' '1211' '1191' '508' '1388'\n",
            " '1025' '139' '4' '63' '187' '162' '961' '1069' '230' '1317' '727' '3450'\n",
            " '2981' '1091' '155' '3218' '343' '596' '121' '418' '3060' '997' '3178'\n",
            " '474' '890' '1164' '2999' '259' '258' '2992' '148' '313' '2176' '1229'\n",
            " '295' '201' '260' '152' '644' '2' '1222' '2337' '306' '3118' '12' '2277'\n",
            " '2752' '486' '3215' '1370' '3393' '3093' '960' '1855' '3293' '707' '2980'\n",
            " '450' '1084' '668' '3137' '141' '547' '13' '3124' '37' '713' '3057'\n",
            " '3095' '38' '1402' '2336' '507' '3143' '3308' '650' '2885' '449' '3103'\n",
            " '2991' '331' '2899' '660' '224' '43' '208' '451' '464' '493' '264' '1141'\n",
            " '34718' '60' '881' '145' '975' '3136' '866' '3283' '218' '181' '73'\n",
            " '2288' '473' '357' '1150' '3225' '117' '3423' '882' '2941' '280' '159'\n",
            " '484' '2963/47' '349' '2978' '540' '3214' '1155' '1153 - 109' '1431'\n",
            " '3199' '345' '476' '*' '192' '1310' '1041' '2183' '341' '163' '111'\n",
            " '1401' '17' '1168' '335' '323' '318' '446' '3006' '1147' '1215' '1121'\n",
            " '1044' '981' '205' '778' '2229' '2251' '671' '3146' '950' '2740' '161'\n",
            " '3044' '93' '2886' '207' '42' '3058' '322' '26' '874' '873' '2956' '599'\n",
            " '36' '210' '1281' '1175' '504' '669' '3404' '447' '134' '726' '1043'\n",
            " '3196' 'B PARSEL' '176' '2998' '240' '3105' '1432' '1169' '3099' '603'\n",
            " '244' '527' '718' '326' '892' '97' '2399' '647' '252' '143' '1117' '75'\n",
            " '3147' '44' '232' '438' '512' '980' '1087' '682' '362' '1081' '196'\n",
            " '2968' '1145' '32' '3429' '1115' '329' '302' '339' '104' '1856' '123'\n",
            " '1233' '2177' '222' '360' '3165' '15' '3217' '414' '48' '3031' '156'\n",
            " '178' '835' '637' '314' '338' '3173' '3116' '1094' '2381' '49' '3098'\n",
            " '497/24' '970' '450/61' '1853' '730' '995' '334' '614']\n",
            "Doküman Adres Parsel : ['148' nan '16' '221' '7' '9' '190' '37' '23' '13' '18' '41' '0' '2' '17'\n",
            " '24' '54' '50' '3' '157' '69' '106' '48' '118' '169' '196' '34' '26' '30'\n",
            " '33' '79' '1' '10' '82' '111' '102' '35' '171' '91' '218' '62' '129'\n",
            " '186' '72' '88' '137' '172' '132' '55' '5' '80' '25' '139' '64' '279'\n",
            " '90' '27' '12' '8' '185' '243' '4' '19' '81' '78' '56' '38' '42' '275'\n",
            " '84' '159' '153' '6' '201' '122' '66' '31' '22' '44' '67' '57' '210'\n",
            " '273' '252' '144' '29' '21' '51' '11' '89' '39' '117' '76' '20' '43' '97'\n",
            " '140' '52' '74' '151' '208' '15' '121' '40' '101' '59' '58' '96' '116'\n",
            " '32' '293' '203' '85' '147' '98' '104' '152' '228' '128' '164' '77' '149'\n",
            " '287' '94' '175' '141' '60' '45' '138' '73' '63' '270' '181' '184' '70'\n",
            " '109' '174' '126' '114' '177' '92' '395' '318' '123' '127' '71' '366'\n",
            " '189' '282' '28' '145' '202' '161' '14' '53' '65' '99' '68/B' '47' '133'\n",
            " '107' '176' '244' '230' '213' '170' '237' '150' '158' '142' '165' '166'\n",
            " '108' '110' '36' '120' '134' '263' '155' '344' '112' '179' '197' '135'\n",
            " '160' '103' '131' '46' '214' '68' '199' '217' '87' '192' '75' '162' '163'\n",
            " '271' '124' '86' '130' '329' '248' '194' '198' '180' '154' '182' '211'\n",
            " '281' '20 VE 21' '49' '231' '61' '83' '229' '183' '191' '264' '136' '232'\n",
            " '105' '100' '242' '361' '234' '233' '311' '207' '167' '206' '125' '209'\n",
            " '93' '249' '216' '146' '343' '168' '247' '205' '173' '357' '239' '119'\n",
            " '204' '340' '156' '220' '113' '350' '257' '321' '267' '356' '374' '224'\n",
            " '235' '369' '304' '302' '334' '178' '246' '187' '397' '259' '227' '193'\n",
            " '295' '95' '307' '200' '250' '223' '280' '225']\n",
            "Doküman Yer Adresi : [nan 'ACIBADEM MAH., TUR SK. No : 3/9, KADIKÖY-İSTANBUL'\n",
            " 'İNÖNÜ, ULUSU, FATIH No : 101/10, KADIKÖY-İSTANBUL' ...\n",
            " '19 MAYIS MAH., OKUR SK. No : 16/6, Kat : 3, KADIKÖY-İSTANBUL, 5093239902'\n",
            " 'SUADİYE MAH., HALİMAĞA SK., OZEN No : 21/9, KADIKÖY-İSTANBUL, 1576039679'\n",
            " 'CUMHURİYET MAH., BAYRAKLI SOK., FATİH BEY APARTMANI, 6/2, KARTAL-İSTANBUL']\n",
            "Süre Durumu : ['Süresi İçinde' nan 'Süreyi Aştı']\n",
            "İşlem Durumu : ['İş Bitti' nan]\n",
            "İşlem Yapılan Konu : ['Genel Hizmetler' nan 'Talep, Şikayet ve Görüşler'\n",
            " 'Bilgi Belge Talepleri ve Yazışmalar'\n",
            " 'Afiş, Billboard ve Pankart Basılması, Asılması ve Kaldırılması Talepleri'\n",
            " 'E-Uygulama ve Yazılım Çalışmaları'\n",
            " 'Veri girişi İşleme ve Aktarma İşleri' 'Araç Talebi'\n",
            " 'Talep ve Şikayetler' 'Belediyeye Ait Taşınmazların Kiraya Verilmesi'\n",
            " '6306 Sayılı Kanun Çerçevesinde Pay Satışı İşlemleri'\n",
            " 'Yeni Bina Önü Kaldırım Yapımı İşlemleri'\n",
            " 'Yağmur suyu Kanal Yapım, Bakım ve Temizliği İşlemleri'\n",
            " 'Kaldırım Bakım ve Onarım İşi' 'Asfalt Kaplama Yapım İşlemleri'\n",
            " 'Cadde ve Sokaklara Bakım Onarım İşlemleri' 'Yol Daraltma Talepleri'\n",
            " 'Karla Mücadele İşlemleri' 'Asfalt Bakım ve Onarım İşlemleri'\n",
            " 'Engelli Park Yeri Yapımları' 'Okulların Bakım ve Onarımı İşi'\n",
            " 'Belediyemiz Hizmet Binaları ve Kamu Binaları Bakım ve Onarım İşi'\n",
            " 'Mural Festivali'\n",
            " 'Kültür Merkezlerinin Salon Tahsis Taleplerinin Karşılanması'\n",
            " 'Dış Mekan Etkinlikleri' 'Bildirim İşlemleri-Web'\n",
            " 'Bina Vergisi Bildirim Örneği Verilmesi'\n",
            " 'Adres ve Kimlik Tespiti Taleplerinin Karşılanması'\n",
            " 'Tahakkuk Düzeltme İşlemlerinin Yapılması (Tahakkuk)'\n",
            " 'Bildirim İşlemleri' 'Yasal Muafiyetlerinin Uygulanması'\n",
            " 'Tahsilat Makbuz Sureti' 'Vergi Borcu Uzlaşmaları'\n",
            " 'İşyeri Kapanış Beyanı Verilmesi'\n",
            " 'Tahsilat Terkin ve Düzeltme İşlemlerinin Yapılması'\n",
            " 'Arsa Metrekare Birim Bedellerinin Bildirilmesi'\n",
            " 'Mahsup ve Ödeme İadelerinin Yapılması' 'Tapuya Rayiç Bedel Bildirilmesi'\n",
            " 'Tecil ve Taksitlendirme İşlemlerinin Yapılması' 'İcra Servisi Talepleri'\n",
            " 'Haciz Varakası Düzenlenmesi' 'Ödeme İşlemleri'\n",
            " 'Eski Sicil Bilgilerinin TCKN/VKN Bilgilerine Bağlanması'\n",
            " 'Ağaç Budama ve Kesim ile İlgili Talepleri'\n",
            " 'Ağaç Dikim ve Yeşil Alanların Düzenlenme İşlemlerinin Yapılması'\n",
            " 'İzinsiz Ağaç Kesim İşlemleri'\n",
            " 'Bank, Oyun gurubu, Spor Aletleri ve Kent Mobilyalarının Yerleşim Alanlarına Koyulması ve Tamir Edilmesi'\n",
            " 'Ağaçların İlaçlanması ile ilgili Şikayet ve Talepler'\n",
            " 'Tescilli Parsellere İlişkin İşlemler' 'Ağaç Nakil Taleplerinin Alınması'\n",
            " 'İmar Durumu Verilmesi' 'Cadde Sokak İsimlendirme İşlemleri'\n",
            " 'Adres Tespit, Numarataj Belirleme İşlemlerinin Yapılması'\n",
            " 'Resmi Kurumların Veya Gerçek/Tüzel Kişilerin Görüş Talepleri'\n",
            " 'Resmi Kurumlardan, Diğer Müdürlüklerden Gelen Adres Tespit, Numarataj Belirleme İşlemlerinin Yapılması'\n",
            " 'Mahkeme ve Resmi Kurum İşlemleri' 'Kurum İçi-Dışı Bilgi Belge Talepleri'\n",
            " 'İşyerleri ile İlgili Talep ve Şikayetler'\n",
            " 'Başruvu Sahibi Bilgi Belge Talebi Cevabı' 'Görüş Sorma'\n",
            " 'Poliklinik Hizmetleri'\n",
            " 'Sağlık Hizmetleri ve Personelleri ile İlgili Talep, Şikayet, Öneri ve Teşekklürler'\n",
            " 'Yuva İşlemleri' 'Sosyoekonomik Yardımların Yapılması'\n",
            " 'Molozların Toplanması, Budanmış Ağaç Dalları, Evsel Atık Eşyaların ve Bahçe Atıklarının Alınması'\n",
            " 'Çöp Konteyneri İşlemlerinin Yapılması'\n",
            " 'Proje ve İskan Aşamasında Çöp Konteyneri Talepleri'\n",
            " 'Temizlik Hizmetleri İle İlgili Talep ve Şikayetler'\n",
            " 'Yapı Denetiminin Yapılması İşlemleri' 'Yapı Kayıt Belgesi İşlemleri'\n",
            " 'İş Deneyim Belgesi Düzenlenmesi İşlemi'\n",
            " 'Kentsel Dönüşüm Projesi Kapsamında Kira Yardımı yapılması için Başvuruların Alınması, İncelenmesi ve Bağlanması'\n",
            " 'Zabıta Talep ve Şikayetler İşlemleri' 'Zabıta Başvuru İşlemleri'\n",
            " 'Pazar Denetim işlemleri' 'Tebligatlar' 'Çevre Denetim İşlemleri'\n",
            " 'Atık Yönetimi Denetim İşlemleri' 'Kumbara ve Konteyner Temini'\n",
            " 'Tabela, Afiş El İlanı Başvurularının Alımı'\n",
            " 'Atık Yönetimi ile İlgili Talep ve Şikayetler' 'Sıfır Atık'\n",
            " 'Atık Yönetimi İşleri' 'Atık Yönetimi Etkinlik ve Eğitim İşlemleri'\n",
            " 'Salon Tahsis Talepleri'\n",
            " 'Yapı Ruhsatı Düzenlenmesi (Tadilat Ruhsatı) İşlemi'\n",
            " 'Avan Projenin Onaylanması İşlemi'\n",
            " 'Eski Eser veya Eski Esere Komşu Parsel Projelerinin Kurul Öncesi Tasdiki İşlemi'\n",
            " 'Mimari Proje Üzerinde Düzeltme İşlemi'\n",
            " 'Tescilli Parseldeki Aykırılık İşlemleri'\n",
            " 'Yapı Ruhsatı Düzenlenmesi (Yeni Yapı Ruhsatı) İşlemi'\n",
            " 'Statik İnceleme Yapılması'\n",
            " 'Yapıya İlişkin Bilgi Formu (YİBF) Değişikliği'\n",
            " 'Proje Suret Tasdiki (Aslı Gibidir Onayı) İşlemi'\n",
            " 'Kat İrtifakı Kurulması İşlemi' 'Vatandaştan Gelen İş Başvuru İşlemleri'\n",
            " 'Kamu Çalışanlarının Nakil Talepleri İşlemleri' 'İşçi Alımı']\n",
            "İşlem Yapılan Alt Konu : ['Taziye Hizmetleri' nan 'Talep'\n",
            " 'Telefon Numarasının Sistemden Çıkarılması'\n",
            " 'Telefon Numarasının Sisteme Eklenmesi' 'Şikayet'\n",
            " 'Billboard, Pankart ve Afişlerin Kaldırılması' 'Bilgi ve Belge Talepleri'\n",
            " 'Web, Mobil, Masaüstü Tasarım, Yazılım ve Entegrasyon Talepleri'\n",
            " 'Bilgi Belge Talep' 'Talep ve Şikayetler' 'Araç Tahsisi Okul'\n",
            " 'Araç Tahsisi Resmi Kurum' 'Araç Tahsisi Vatandaş' 'Bayrak Şikayetleri'\n",
            " 'Teşekkür' 'Personel Şikayetleri' 'Vatandaştan Gelen Talepler'\n",
            " 'Günlük İzin Başvurusu' 'Izgara, Baca ve Kanal Yapım İşi'\n",
            " 'Izgara Temizliği' 'Sınır Elemanı Talebi' 'Baca ve Kanal Temizliği'\n",
            " 'Izgara, Baca ve Kanal Onarım İşi' 'Delinatör (Esnek) Talebi'\n",
            " 'Bank, Oyun gurubu, Spor Aletleri ve Kent Mobilyaları ile İlgili Talep ve Şikayetler'\n",
            " 'Diğer' 'Kültür Merkezi STK ve Okulların Başvurusu' 'Görüş'\n",
            " 'Kültür Merkezi Seminer Başvurusu' 'Sinema Geceleri'\n",
            " 'Emlak Vergisi Bildirimi (Bina)' 'Mükellefe Bina Beyanı Örneği Verilmesi'\n",
            " 'Emlak Vergisi Bildirimi (Arsa)' 'Emekliler İçin Tek Mesken Muafiyeti'\n",
            " 'İlan Reklam Bildirimi' 'Çevre Temizlik Bildirimi'\n",
            " 'Hiçbir Geliri Olmayanlar İçin Tek Mesken Muafiyeti'\n",
            " 'Tahakkuk Düzeltme İşlemleri-İlan ve Reklam'\n",
            " 'Tahakkuk Düzeltme İşlemleri-ÇTV' 'Tahakkuk Düzeltme İşlemleri-Bina'\n",
            " 'Dilekçe cevap yazıları'\n",
            " 'Çevre Temizlik Vergisi Tahakkuk ve Tahsilat Düzeltme ve Terkin İşlemleri'\n",
            " 'Bina İçin Rayiç Bedel Bildirim' 'Tahakkuk Düzeltme İşlemleri-Arsa'\n",
            " 'Bina Vergisi Tahakkuk ve Tahsilat Düzeltme ve Terkin İşlemleri'\n",
            " 'Engelliler İçin Tek Mesken Muafiyeti' 'Kısıtlılık Uygulamaları'\n",
            " 'Eski Sicilin Gerçek Kişiye Bağlanması' 'Diğer Talep ve Şikayetler'\n",
            " 'Ağaç Budaması (özel mülkiyet)' 'Yeşil Alan Düzenleme'\n",
            " 'Ağaç Kesimi (özel mülkiyet)' 'Ağaç Budama (kamu)' 'Ağaç Dikim'\n",
            " 'Parklardaki Aydınlatma ile İlgili Talep ve Şikayetler'\n",
            " 'Oyun Grubu ve Kent Mobilyalarının Onarımı'\n",
            " 'Çam Kese Tırtılı ile İlgili Talepler' 'Bank Kaldırılması'\n",
            " 'Ağaç Kesim İle İlgili Talep ve Şikayetler' 'Ağaç Budama (Kamu)'\n",
            " 'Park ve Yeşil Alanlardaki Ağaç ve Ağaççık İlaçlama Talepleri'\n",
            " 'Bank Konulması' 'Ağaç Kesimi (Kamu)'\n",
            " 'Havuz, Heykel ve Tesisat ile İlgili Talep ve Şikayetler'\n",
            " 'Spor Sahaları ile İlgili Talep ve Şikayetler'\n",
            " 'Personel ile İlgili Teşekkür ve Şikayetler' 'Özel Mülkiyete Ait Ağaçlar'\n",
            " 'Park ve Yeşil Alanlardaki Sinek İlaçlama Talepleri'\n",
            " 'Kamu Ağaç Budama ve Kesim' 'Özel Mülkiyet Ağaç Budama ve Kesim'\n",
            " 'Kamuya Ait Ağaçlar'\n",
            " 'Amerikan Beyaz Kelebeği Tırtılı ile İlgili Talepler'\n",
            " 'Oyun Grubu Konulması' 'İhbar' 'Çöp Kovası Konulması'\n",
            " 'Yeşil Dişbudak Tırtılı İle İlgili Talepler'\n",
            " 'Reçine Kelebeği ile İlgili Talepler'\n",
            " 'Parkların Temizliği Hakkında Talep ve Şikayetler'\n",
            " 'Bitki Sulama İşlemleri' 'Yazılı İmar Durumu Verilmesi'\n",
            " 'Diğer Numarataj İşlemleri'\n",
            " 'Gerçek Veya Tüzel Kişilerin 1/5000 Veya 1/1000 Ölçekli Plan Teklifine İlişkin Görüş Verilmesi'\n",
            " 'UAVT Adres Kodu İşlemleri'\n",
            " 'Gerçek Veya Tüzel Kişilerin Bilgi ve Belge Talebi'\n",
            " 'Yapı Ruhsatı Numarataj İşlemleri'\n",
            " 'Evde Bakım, Hasta Nakil ve Ambulans Hizmetleri'\n",
            " 'Sağlık Hizmetleri ve Personelleri ile İlgili Şikayetler'\n",
            " 'Yuva Başvuruları' 'Talep, Öneri ve Şikayetler'\n",
            " 'Budanmış Ağaç Dalları ve Bahçe Atıklarının Alınması'\n",
            " 'Yer Değiştirilmesi İşlemleri' 'Molozların Alınması'\n",
            " 'Yenileme ve Yeni Konteyner İşlemleri' 'Evsel Atık Toplanması'\n",
            " 'Eski Ev Eşyalarının Kaldırılması'\n",
            " 'Personel ile İlgili Talep, Şikayt ve Teşekkür'\n",
            " 'Cadde ve Sokakların Yıkanması' 'Tamir İşlemleri'\n",
            " 'Cadde ve Sokakların Süpürülmesi' 'Mıntıka Temizliği'\n",
            " 'Yıkanması İşlemleri' 'Sahipsiz Ölü Hayvanların Alınması'\n",
            " 'Kamu Alanlarının Yıkanması' 'Metruk Bina Şikayetleri'\n",
            " 'İzinsiz Tadilat Şikayetleri' 'Sınır İhlali Şikayetleri'\n",
            " 'Yapım Aşamasındaki Yapıların Denetimi'\n",
            " 'Kaçak ve Ruhsata Aykırı Yapıların Denetimi'\n",
            " 'Konut Malikleri Kira Yardımı' 'İnşaat Gürültü Şikayetleri'\n",
            " 'Kaldırım İşgali' 'Muhtelif Şikayetler' 'İşyeri Denetim Talepleri'\n",
            " 'Önlem Alınmadan Yapılan İnşaat Şikayetleri'\n",
            " 'Moloz ve Çöplerin Uygunsuz Alanlara Atılması' 'Dilenci Şikayetleri'\n",
            " 'Seyyar Satıcı Şikayetleri' 'Pazar Yeri Şikayetleri' 'Yol İşgalleri'\n",
            " 'Atık Su Boşaltım İşlemleri' 'Gürültü'\n",
            " 'Mesai Saatleri Dışında Çalışma Yapan İnşaat Şikayetleri'\n",
            " 'Plakasız Hurda Araç Şikayetleri' 'Pazar Yeri Denetim'\n",
            " 'Apartman Şikayetleri' 'Müdürlüklerden Gelen Tebligatlar'\n",
            " 'Mangal Şikayetleri' 'Kurban Satış Yeri Şikayetleri'\n",
            " 'Çevresel Gürültü Kontrolü' 'Elektromanyetik Kirliliğin Kontrolü'\n",
            " 'Tekstil Atıklar' 'Ambalaj Atıkları' 'Görüntü Kirliliği'\n",
            " 'Koku, Duman Kirliliği' 'Cam Ambalaj Atıkları' 'Atık Piller'\n",
            " 'Hava Kirliliği Kontrolü' 'Diğer Atıklar' 'Çevre Festivali'\n",
            " 'Yapı Ruhsatı Düzenlenmesi (Tadilat Ruhsatı) İşlemi İkinci Başvuru'\n",
            " 'Yapı Ruhsatı Düzenlenmesi (Güçlendirme Ruhsatı) İşlemi İlk Başvuru'\n",
            " 'Tescilli Parseldeki Tescilli Yapı İşlemleri'\n",
            " 'İkinci Başvuru (Eksik Evrak)' 'Birinci Başvuru']\n",
            "İşlem Yapılan Süre Birimi : ['Gün' nan 'İş Günü' 'Ay' 'Dakika' 'Saat']\n",
            "Kurum Görüşü : ['Sayın Mert Aydın, &nbsp;&nbsp;&nbsp;&nbsp;&nbsp;&nbsp;&nbsp;&nbsp;&nbsp;&nbsp;&nbsp;&nbsp;&nbsp;&nbsp;&nbsp;&nbsp;İlgi talep doğrultusunda 02.01.2019 tarihinde taziye evi ziyaret edilerek ikramlıklar iletilmiştir. İlginize teşekkür eder, iyi günler dileriz. Saygılarımızla Kadıköy Belediyesi Çağrı Merkezi 444 55 22'\n",
            " 'Sayın İrem KOÇ; &nbsp;&nbsp;İlgili talep doğrultusunda 02.01.2019 tarihinde taziye evi ziyaret edilerek ikramlıklar iletilmiştir.İlginize teşekkür eder iyi günler dileriz. &nbsp;&nbsp;Saygılarımızla. &nbsp;Kadıköy Belediyesi &nbsp;Çağrı Merkezi &nbsp; 444 55 22'\n",
            " 'Sayın Korhan Bey; &nbsp; &nbsp; &nbsp;&nbsp;İlgili talep doğrultusunda 02.01.2019 tarihinde taziye evi ziyaret edilerek ikramlıklar iletilmiştir.İlginize teşekkür eder iyi günler dileriz. &nbsp;&nbsp;Saygılarımızla. &nbsp;Kadıköy belediyesi &nbsp;Çağrı Merkezi &nbsp; 444 55 22'\n",
            " ...\n",
            " \"Sayın Büşra IŞIK; &nbsp;Belediyemizin şu an için memur ve kadrolu işçi alımına yönelik herhangi bir çalışması bulunmamaktadır. Yerleştirmeler, memur alımları için adayların KPSS&rsquo;de aldığı puan doğrultusunda yaptıkları tercih uyarınca ÖSYM tarafından gerçekleştirilmektedir. Sözleşmeli memur alımları ile ilgili olarak kamu kurumlarının ilanlarını Devlet Personel Başkanlığı'nın resmi internet sayfasında yer alan Kamu Personel İlanları bölümünden takip edebilirsiniz. İşçi personel alımlarında, KPSS puanı doğrultusunda kamu kurumlarının, İş Kurumu&rsquo;nda ilanının olması gerekmektedir. Tüm statüdeki alımlar, Devlet Personel Başkanlığı internet sitesinde ilana çıkılarak yapılmaktadır. 1 Ocak 2018 tarihli ve 30288 sayılı Resmi Gazete&rsquo;de yayımlanan 696 Sayılı KHK sonrası kamu kurumlarında personele dayalı hizmet alımı sona erdirildiğinden öz geçmişleriniz kurumumuzdaki müdürlüklere, hizmet alımında değerlendirilmek suretiyle yönlendirilememektedir. Kadıköy Belediyesi, belediye şirketi işçisi ihtiyacını, KASDAŞ üzerinden İşkur&rsquo;a ilan vermek suretiyle yapmaktadır. Kurumumuzun ve diğer kamu kurumlarının alım ilanlarını İş-Kur'un &quot;Kurum Dışı İlanlar&quot; sayfasından takip edebilirsiniz. Bilgilerinize rica olunur. İlginize teşekkür eder, iyi günler dileriz. Saygılarımızla Kadıköy Belediyesi Çağrı Merkezi 444 55 22&nbsp;\"\n",
            " \"Sayın Batuhan ERDOĞAN, &nbsp;Belediyemizin şu an için memur ve kadrolu işçi alımına yönelik herhangi bir çalışması bulunmamaktadır. Yerleştirmeler, memur alımları için adayların KPSS&rsquo;de aldığı puan doğrultusunda yaptıkları tercih uyarınca ÖSYM tarafından gerçekleştirilmektedir. Sözleşmeli memur alımları ile ilgili olarak kamu kurumlarının ilanlarını Devlet Personel Başkanlığı'nın resmi internet sayfasında yer alan Kamu Personel İlanları bölümünden takip edebilirsiniz. İşçi personel alımlarında, KPSS puanı doğrultusunda kamu kurumlarının, İş Kurumu&rsquo;nda ilanının olması gerekmektedir. Tüm statüdeki alımlar, Devlet Personel Başkanlığı internet sitesinde ilana çıkılarak yapılmaktadır. &nbsp; &nbsp;1 Ocak 2018 tarihli ve 30288 sayılı Resmi Gazete&rsquo;de yayımlanan 696 Sayılı KHK sonrası kamu kurumlarında personele dayalı hizmet alımı sona erdirildiğinden öz geçmişleriniz kurumumuzdaki müdürlüklere, hizmet alımında değerlendirilmek suretiyle yönlendirilememektedir. &nbsp;Kadıköy Belediyesi, belediye şirketi işçisi ihtiyacını, KASDAŞ üzerinden İşkur&rsquo;a ilan vermek suretiyle yapmaktadır. Kurumumuzun ve diğer kamu kurumlarının alım ilanlarını İş-Kur'un &quot;Kurum Dışı İlanlar&quot; sayfasından takip edebilirsiniz. İlginize teşekkür eder, iyi günler dileriz. Kadıköy Belediyesi&nbsp;&nbsp;&nbsp;&nbsp;&nbsp;&nbsp; Çağrı Merkezi 444 55 22 &nbsp;\"\n",
            " 'Belediyemizin şu an için memur ve kadrolu işçi alımına yönelik herhangi bir çalışması bulunmamaktadır. Yerleştirmeler, memur alımları için adayların KPSS\\x92de aldığı puan doğrultusunda yaptıkları tercih uyarınca ÖSYM tarafından gerçekleştirilmektedir. Sözleşmeli memur alımları ile ilgili olarak kamu kurumlarının ilanlarını Devlet Personel Başkanlığı\\'nın resmi internet sayfasında yer alan Kamu Personel İlanları bölümünden takip edebilirsiniz. İşçi personel alımlarında, KPSS puanı doğrultusunda kamu kurumlarının, İş Kurumu\\x92nda ilanının olması gerekmektedir. Tüm statüdeki alımlar, Devlet Personel Başkanlığı internet sitesinde ilana çıkılarak yapılmaktadır. 1 Ocak 2018 tarihli ve 30288 sayılı Resmi Gazete\\x92de yayımlanan 696 Sayılı KHK sonrası kamu kurumlarında personele dayalı hizmet alımı sona erdirildiğinden öz geçmişleriniz kurumumuzdaki müdürlüklere, hizmet alımında değerlendirilmek suretiyle yönlendirilememektedir. Kadıköy Belediyesi, belediye şirketi işçisi ihtiyacını, KASDAŞ üzerinden İşkur\\x92a ilan vermek suretiyle yapmaktadır. Kurumumuzun ve diğer kamu kurumlarının alım ilanlarını İş-Kur\\'un \"Kurum Dışı İlanlar\" sayfasından takip edebilirsiniz. Bilgilerinize rica ederim.']\n"
          ],
          "name": "stdout"
        }
      ]
    },
    {
      "cell_type": "code",
      "metadata": {
        "id": "ny_tB7CFXNhM",
        "colab_type": "code",
        "outputId": "595dd775-2bb3-4186-9f93-7177e0e779bc",
        "colab": {
          "base_uri": "https://localhost:8080/",
          "height": 35
        }
      },
      "source": [
        "veri = veri.drop_duplicates()\n",
        "veri.shape"
      ],
      "execution_count": 0,
      "outputs": [
        {
          "output_type": "execute_result",
          "data": {
            "text/plain": [
              "(15566, 23)"
            ]
          },
          "metadata": {
            "tags": []
          },
          "execution_count": 86
        }
      ]
    },
    {
      "cell_type": "code",
      "metadata": {
        "id": "9WZhkLQra1Fk",
        "colab_type": "code",
        "outputId": "55ebb233-9506-4dc8-bff4-f4d18c7301cc",
        "colab": {
          "base_uri": "https://localhost:8080/",
          "height": 35
        }
      },
      "source": [
        "sum(veri[\"Doküman Metin\"].isna())/len(veri)*100"
      ],
      "execution_count": 0,
      "outputs": [
        {
          "output_type": "execute_result",
          "data": {
            "text/plain": [
              "11.91057432866504"
            ]
          },
          "metadata": {
            "tags": []
          },
          "execution_count": 87
        }
      ]
    },
    {
      "cell_type": "code",
      "metadata": {
        "id": "WmCO7NfKXg-m",
        "colab_type": "code",
        "outputId": "1ab3c0e9-717e-40a5-dc85-67938de6fbdd",
        "colab": {
          "base_uri": "https://localhost:8080/",
          "height": 35
        }
      },
      "source": [
        "import numpy as np\n",
        "veri = veri.dropna(subset=['Doküman Metin'])\n",
        "veri.shape"
      ],
      "execution_count": 0,
      "outputs": [
        {
          "output_type": "execute_result",
          "data": {
            "text/plain": [
              "(13712, 23)"
            ]
          },
          "metadata": {
            "tags": []
          },
          "execution_count": 88
        }
      ]
    },
    {
      "cell_type": "code",
      "metadata": {
        "id": "6kXpjn4nXrv8",
        "colab_type": "code",
        "outputId": "ab435d26-cb84-4779-cd00-cce70eea59c4",
        "colab": {
          "base_uri": "https://localhost:8080/",
          "height": 35
        }
      },
      "source": [
        "veri = veri.dropna(subset=['Kapsam'])\n",
        "veri.shape"
      ],
      "execution_count": 0,
      "outputs": [
        {
          "output_type": "execute_result",
          "data": {
            "text/plain": [
              "(13712, 23)"
            ]
          },
          "metadata": {
            "tags": []
          },
          "execution_count": 89
        }
      ]
    },
    {
      "cell_type": "code",
      "metadata": {
        "id": "XzRe5BvHbKM_",
        "colab_type": "code",
        "outputId": "5664637e-a380-447f-dbe7-f2f4026d8e86",
        "colab": {
          "base_uri": "https://localhost:8080/",
          "height": 126
        }
      },
      "source": [
        "veri['Doküman Metin'] = veri['Doküman Metin'].str.lower()\n",
        "veri['Doküman Metin'].head()"
      ],
      "execution_count": 0,
      "outputs": [
        {
          "output_type": "execute_result",
          "data": {
            "text/plain": [
              "0    i̇lgili adrese ikramlık talebinde bulunulmuştu...\n",
              "2    i̇lgili adrese ikramlık talep edilmiştir.bilgi...\n",
              "4    i̇lgili adres için ikramlık talep edildi.bilgi...\n",
              "6    fikirtepe mah.kader sok. no : 29/3 ikramlık ta...\n",
              "8    05353074596 telefonun numarasının sms sistemin...\n",
              "Name: Doküman Metin, dtype: object"
            ]
          },
          "metadata": {
            "tags": []
          },
          "execution_count": 90
        }
      ]
    },
    {
      "cell_type": "code",
      "metadata": {
        "id": "GzvEvpENZ9H-",
        "colab_type": "code",
        "outputId": "ace751de-a59f-4dd1-d2f9-b16d539f1c51",
        "colab": {
          "base_uri": "https://localhost:8080/",
          "height": 217
        }
      },
      "source": [
        "veri['Doküman Metin'].str.rsplit(' ',1).str[1].head(10)"
      ],
      "execution_count": 0,
      "outputs": [
        {
          "output_type": "execute_result",
          "data": {
            "text/plain": [
              "0     bulunulmuştur.bilgilerinize.\n",
              "2                                 \n",
              "4                edildi.bilginize.\n",
              "6                edildi.bilginize.\n",
              "8                   bilgilerinize.\n",
              "9          bulunuldu.bi̇lgi̇ni̇ze.\n",
              "11         bulunuldu.bi̇lgi̇ni̇ze.\n",
              "12                  bilgilerinize.\n",
              "13     edilmektedir.bilgilerinize.\n",
              "15      edi̇ldi̇.bi̇lgi̇leri̇ni̇ze\n",
              "Name: Doküman Metin, dtype: object"
            ]
          },
          "metadata": {
            "tags": []
          },
          "execution_count": 91
        }
      ]
    },
    {
      "cell_type": "code",
      "metadata": {
        "id": "q5RBSsnIX-eO",
        "colab_type": "code",
        "outputId": "a61cf192-e1aa-46a4-e674-52ead61d5776",
        "colab": {
          "base_uri": "https://localhost:8080/",
          "height": 1000
        }
      },
      "source": [
        "veri['Doküman Metin'].str.rsplit(' ',1).str[1].str.rsplit('.').str[1].head(100)"
      ],
      "execution_count": 0,
      "outputs": [
        {
          "output_type": "execute_result",
          "data": {
            "text/plain": [
              "0          bilgilerinize\n",
              "2                    NaN\n",
              "4              bilginize\n",
              "6              bilginize\n",
              "8                       \n",
              "9           bi̇lgi̇ni̇ze\n",
              "11          bi̇lgi̇ni̇ze\n",
              "12                      \n",
              "13         bilgilerinize\n",
              "15     bi̇lgi̇leri̇ni̇ze\n",
              "17          bi̇lgi̇ni̇ze\n",
              "18             bilginize\n",
              "20             bilginize\n",
              "21             bilginize\n",
              "22                      \n",
              "23                      \n",
              "24         bilgilerinize\n",
              "26                      \n",
              "27                   NaN\n",
              "29                      \n",
              "30                      \n",
              "31                   NaN\n",
              "33                   NaN\n",
              "34         bilgilerinize\n",
              "36             bilginize\n",
              "37                      \n",
              "38                      \n",
              "40                      \n",
              "42                      \n",
              "44                      \n",
              "             ...        \n",
              "96                      \n",
              "97         bilgilerinize\n",
              "98                      \n",
              "99         bilgilerinize\n",
              "101                     \n",
              "102                     \n",
              "103                     \n",
              "104                     \n",
              "105                     \n",
              "106                    )\n",
              "107        bilgilerinize\n",
              "108        bilgilerinize\n",
              "109        bilgilerinize\n",
              "110        bilgilerinize\n",
              "111            bilginize\n",
              "112                  NaN\n",
              "113            bilginize\n",
              "114                     \n",
              "115                     \n",
              "117                     \n",
              "119                     \n",
              "121        bilgilerinize\n",
              "123        bilgilerinize\n",
              "124                     \n",
              "125        bilgilerinize\n",
              "126                     \n",
              "127                     \n",
              "128                     \n",
              "129                     \n",
              "130                     \n",
              "Name: Doküman Metin, Length: 100, dtype: object"
            ]
          },
          "metadata": {
            "tags": []
          },
          "execution_count": 92
        }
      ]
    },
    {
      "cell_type": "code",
      "metadata": {
        "id": "TKtVb_eOYDwI",
        "colab_type": "code",
        "outputId": "f8eabf75-cd00-4fea-f40c-71fd3394315c",
        "colab": {
          "base_uri": "https://localhost:8080/",
          "height": 198
        }
      },
      "source": [
        "veri['kelime_sayisi'] = veri['Doküman Metin'].apply(lambda x: len(str(x).split(\" \")))\n",
        "veri[['Doküman Metin','kelime_sayisi']].head()"
      ],
      "execution_count": 0,
      "outputs": [
        {
          "output_type": "execute_result",
          "data": {
            "text/html": [
              "<div>\n",
              "<style scoped>\n",
              "    .dataframe tbody tr th:only-of-type {\n",
              "        vertical-align: middle;\n",
              "    }\n",
              "\n",
              "    .dataframe tbody tr th {\n",
              "        vertical-align: top;\n",
              "    }\n",
              "\n",
              "    .dataframe thead th {\n",
              "        text-align: right;\n",
              "    }\n",
              "</style>\n",
              "<table border=\"1\" class=\"dataframe\">\n",
              "  <thead>\n",
              "    <tr style=\"text-align: right;\">\n",
              "      <th></th>\n",
              "      <th>Doküman Metin</th>\n",
              "      <th>kelime_sayisi</th>\n",
              "    </tr>\n",
              "  </thead>\n",
              "  <tbody>\n",
              "    <tr>\n",
              "      <th>0</th>\n",
              "      <td>i̇lgili adrese ikramlık talebinde bulunulmuştu...</td>\n",
              "      <td>5</td>\n",
              "    </tr>\n",
              "    <tr>\n",
              "      <th>2</th>\n",
              "      <td>i̇lgili adrese ikramlık talep edilmiştir.bilgi...</td>\n",
              "      <td>6</td>\n",
              "    </tr>\n",
              "    <tr>\n",
              "      <th>4</th>\n",
              "      <td>i̇lgili adres için ikramlık talep edildi.bilgi...</td>\n",
              "      <td>6</td>\n",
              "    </tr>\n",
              "    <tr>\n",
              "      <th>6</th>\n",
              "      <td>fikirtepe mah.kader sok. no : 29/3 ikramlık ta...</td>\n",
              "      <td>9</td>\n",
              "    </tr>\n",
              "    <tr>\n",
              "      <th>8</th>\n",
              "      <td>05353074596 telefonun numarasının sms sistemin...</td>\n",
              "      <td>9</td>\n",
              "    </tr>\n",
              "  </tbody>\n",
              "</table>\n",
              "</div>"
            ],
            "text/plain": [
              "                                       Doküman Metin  kelime_sayisi\n",
              "0  i̇lgili adrese ikramlık talebinde bulunulmuştu...              5\n",
              "2  i̇lgili adrese ikramlık talep edilmiştir.bilgi...              6\n",
              "4  i̇lgili adres için ikramlık talep edildi.bilgi...              6\n",
              "6  fikirtepe mah.kader sok. no : 29/3 ikramlık ta...              9\n",
              "8  05353074596 telefonun numarasının sms sistemin...              9"
            ]
          },
          "metadata": {
            "tags": []
          },
          "execution_count": 93
        }
      ]
    },
    {
      "cell_type": "code",
      "metadata": {
        "id": "IzVlFEdwYnPf",
        "colab_type": "code",
        "outputId": "12412831-3a17-4fdb-d6e0-99546790444d",
        "colab": {
          "base_uri": "https://localhost:8080/",
          "height": 198
        }
      },
      "source": [
        "def avg_word(sentence):\n",
        "  words = sentence.split()\n",
        "  return (sum(len(word) for word in words)/len(words))\n",
        "\n",
        "veri['ort_kelime'] = veri['Doküman Metin'].apply(lambda x: avg_word(x))\n",
        "veri[['Doküman Metin','ort_kelime']].head()"
      ],
      "execution_count": 0,
      "outputs": [
        {
          "output_type": "execute_result",
          "data": {
            "text/html": [
              "<div>\n",
              "<style scoped>\n",
              "    .dataframe tbody tr th:only-of-type {\n",
              "        vertical-align: middle;\n",
              "    }\n",
              "\n",
              "    .dataframe tbody tr th {\n",
              "        vertical-align: top;\n",
              "    }\n",
              "\n",
              "    .dataframe thead th {\n",
              "        text-align: right;\n",
              "    }\n",
              "</style>\n",
              "<table border=\"1\" class=\"dataframe\">\n",
              "  <thead>\n",
              "    <tr style=\"text-align: right;\">\n",
              "      <th></th>\n",
              "      <th>Doküman Metin</th>\n",
              "      <th>ort_kelime</th>\n",
              "    </tr>\n",
              "  </thead>\n",
              "  <tbody>\n",
              "    <tr>\n",
              "      <th>0</th>\n",
              "      <td>i̇lgili adrese ikramlık talebinde bulunulmuştu...</td>\n",
              "      <td>11.600000</td>\n",
              "    </tr>\n",
              "    <tr>\n",
              "      <th>2</th>\n",
              "      <td>i̇lgili adrese ikramlık talep edilmiştir.bilgi...</td>\n",
              "      <td>10.200000</td>\n",
              "    </tr>\n",
              "    <tr>\n",
              "      <th>4</th>\n",
              "      <td>i̇lgili adres için ikramlık talep edildi.bilgi...</td>\n",
              "      <td>7.666667</td>\n",
              "    </tr>\n",
              "    <tr>\n",
              "      <th>6</th>\n",
              "      <td>fikirtepe mah.kader sok. no : 29/3 ikramlık ta...</td>\n",
              "      <td>6.555556</td>\n",
              "    </tr>\n",
              "    <tr>\n",
              "      <th>8</th>\n",
              "      <td>05353074596 telefonun numarasının sms sistemin...</td>\n",
              "      <td>10.000000</td>\n",
              "    </tr>\n",
              "  </tbody>\n",
              "</table>\n",
              "</div>"
            ],
            "text/plain": [
              "                                       Doküman Metin  ort_kelime\n",
              "0  i̇lgili adrese ikramlık talebinde bulunulmuştu...   11.600000\n",
              "2  i̇lgili adrese ikramlık talep edilmiştir.bilgi...   10.200000\n",
              "4  i̇lgili adres için ikramlık talep edildi.bilgi...    7.666667\n",
              "6  fikirtepe mah.kader sok. no : 29/3 ikramlık ta...    6.555556\n",
              "8  05353074596 telefonun numarasının sms sistemin...   10.000000"
            ]
          },
          "metadata": {
            "tags": []
          },
          "execution_count": 94
        }
      ]
    },
    {
      "cell_type": "code",
      "metadata": {
        "id": "lOGZimIEYtsV",
        "colab_type": "code",
        "outputId": "b3d8db63-3ea6-46fb-f226-bb283aeb7471",
        "colab": {
          "base_uri": "https://localhost:8080/",
          "height": 72
        }
      },
      "source": [
        "import nltk\n",
        "nltk.download('stopwords')"
      ],
      "execution_count": 0,
      "outputs": [
        {
          "output_type": "stream",
          "text": [
            "[nltk_data] Downloading package stopwords to /root/nltk_data...\n",
            "[nltk_data]   Package stopwords is already up-to-date!\n"
          ],
          "name": "stdout"
        },
        {
          "output_type": "execute_result",
          "data": {
            "text/plain": [
              "True"
            ]
          },
          "metadata": {
            "tags": []
          },
          "execution_count": 95
        }
      ]
    },
    {
      "cell_type": "code",
      "metadata": {
        "id": "9eeum78-Ywyh",
        "colab_type": "code",
        "outputId": "e6cc9344-eaae-4e93-b353-052c7fc0dbcd",
        "colab": {
          "base_uri": "https://localhost:8080/",
          "height": 198
        }
      },
      "source": [
        "from nltk.corpus import stopwords\n",
        "stop = []\n",
        "stop = stopwords.words('turkish')\n",
        "stop.extend([\"bilginize\", \"bilgilerinize\", \".bilginize\", \n",
        "             \".bilgilerinize\", \"bilginize.\", \"bilgilerinize.\", \n",
        "             \".bilginize.\", \".bilgilerinize.\", \"saygılarımla\", \"saygılarımla.\"\n",
        "             \".saygılarımla\", \".saygılarımla.\"])\n",
        "\n",
        "veri['dolgu_sayisi'] = veri['Doküman Metin'].apply(lambda x: len([x for x in x.split() if x in stop]))\n",
        "veri[['Doküman Metin','dolgu_sayisi']].head()"
      ],
      "execution_count": 0,
      "outputs": [
        {
          "output_type": "execute_result",
          "data": {
            "text/html": [
              "<div>\n",
              "<style scoped>\n",
              "    .dataframe tbody tr th:only-of-type {\n",
              "        vertical-align: middle;\n",
              "    }\n",
              "\n",
              "    .dataframe tbody tr th {\n",
              "        vertical-align: top;\n",
              "    }\n",
              "\n",
              "    .dataframe thead th {\n",
              "        text-align: right;\n",
              "    }\n",
              "</style>\n",
              "<table border=\"1\" class=\"dataframe\">\n",
              "  <thead>\n",
              "    <tr style=\"text-align: right;\">\n",
              "      <th></th>\n",
              "      <th>Doküman Metin</th>\n",
              "      <th>dolgu_sayisi</th>\n",
              "    </tr>\n",
              "  </thead>\n",
              "  <tbody>\n",
              "    <tr>\n",
              "      <th>0</th>\n",
              "      <td>i̇lgili adrese ikramlık talebinde bulunulmuştu...</td>\n",
              "      <td>0</td>\n",
              "    </tr>\n",
              "    <tr>\n",
              "      <th>2</th>\n",
              "      <td>i̇lgili adrese ikramlık talep edilmiştir.bilgi...</td>\n",
              "      <td>0</td>\n",
              "    </tr>\n",
              "    <tr>\n",
              "      <th>4</th>\n",
              "      <td>i̇lgili adres için ikramlık talep edildi.bilgi...</td>\n",
              "      <td>1</td>\n",
              "    </tr>\n",
              "    <tr>\n",
              "      <th>6</th>\n",
              "      <td>fikirtepe mah.kader sok. no : 29/3 ikramlık ta...</td>\n",
              "      <td>0</td>\n",
              "    </tr>\n",
              "    <tr>\n",
              "      <th>8</th>\n",
              "      <td>05353074596 telefonun numarasının sms sistemin...</td>\n",
              "      <td>1</td>\n",
              "    </tr>\n",
              "  </tbody>\n",
              "</table>\n",
              "</div>"
            ],
            "text/plain": [
              "                                       Doküman Metin  dolgu_sayisi\n",
              "0  i̇lgili adrese ikramlık talebinde bulunulmuştu...             0\n",
              "2  i̇lgili adrese ikramlık talep edilmiştir.bilgi...             0\n",
              "4  i̇lgili adres için ikramlık talep edildi.bilgi...             1\n",
              "6  fikirtepe mah.kader sok. no : 29/3 ikramlık ta...             0\n",
              "8  05353074596 telefonun numarasının sms sistemin...             1"
            ]
          },
          "metadata": {
            "tags": []
          },
          "execution_count": 96
        }
      ]
    },
    {
      "cell_type": "code",
      "metadata": {
        "id": "nhzY52yOY4bv",
        "colab_type": "code",
        "outputId": "4c56a876-5869-4989-cbb9-5e6c2c453a62",
        "colab": {
          "base_uri": "https://localhost:8080/",
          "height": 219
        }
      },
      "source": [
        "print(stop)\n",
        "veri.dolgu_sayisi.describe()"
      ],
      "execution_count": 0,
      "outputs": [
        {
          "output_type": "stream",
          "text": [
            "['acaba', 'ama', 'aslında', 'az', 'bazı', 'belki', 'biri', 'birkaç', 'birşey', 'biz', 'bu', 'çok', 'çünkü', 'da', 'daha', 'de', 'defa', 'diye', 'eğer', 'en', 'gibi', 'hem', 'hep', 'hepsi', 'her', 'hiç', 'için', 'ile', 'ise', 'kez', 'ki', 'kim', 'mı', 'mu', 'mü', 'nasıl', 'ne', 'neden', 'nerde', 'nerede', 'nereye', 'niçin', 'niye', 'o', 'sanki', 'şey', 'siz', 'şu', 'tüm', 've', 'veya', 'ya', 'yani', 'bilginize', 'bilgilerinize', '.bilginize', '.bilgilerinize', 'bilginize.', 'bilgilerinize.', '.bilginize.', '.bilgilerinize.', 'saygılarımla', 'saygılarımla..saygılarımla', '.saygılarımla.']\n"
          ],
          "name": "stdout"
        },
        {
          "output_type": "execute_result",
          "data": {
            "text/plain": [
              "count    13712.000000\n",
              "mean         2.271222\n",
              "std          3.534201\n",
              "min          0.000000\n",
              "25%          1.000000\n",
              "50%          1.000000\n",
              "75%          3.000000\n",
              "max         59.000000\n",
              "Name: dolgu_sayisi, dtype: float64"
            ]
          },
          "metadata": {
            "tags": []
          },
          "execution_count": 97
        }
      ]
    },
    {
      "cell_type": "code",
      "metadata": {
        "id": "sAqDhKL1Y-Q_",
        "colab_type": "code",
        "outputId": "cfd8a23e-4cce-4ebf-9fe7-dc31c0f7e8ed",
        "colab": {
          "base_uri": "https://localhost:8080/",
          "height": 35
        }
      },
      "source": [
        "veri['rakam_sayisi'] = veri['Doküman Metin'].apply(lambda x: len([x for x in x.split() if x.isdigit()]))\n",
        "veri[['Doküman Metin', 'rakam_sayisi']].head()\n",
        "veri[\"rakam_sayisi\"].unique()"
      ],
      "execution_count": 0,
      "outputs": [
        {
          "output_type": "execute_result",
          "data": {
            "text/plain": [
              "array([ 0,  1,  3,  4,  2,  8,  5,  9,  6, 12, 10,  7, 15, 13, 19, 18, 28])"
            ]
          },
          "metadata": {
            "tags": []
          },
          "execution_count": 98
        }
      ]
    },
    {
      "cell_type": "code",
      "metadata": {
        "id": "C97URilEZIlY",
        "colab_type": "code",
        "colab": {}
      },
      "source": [
        "veri['Doküman Metin'] = veri['Doküman Metin'].str.replace('.',' ')\n"
      ],
      "execution_count": 0,
      "outputs": []
    },
    {
      "cell_type": "code",
      "metadata": {
        "id": "QauiwwEUZeDp",
        "colab_type": "code",
        "outputId": "192acadf-0716-4a6d-8432-e7cf01822b2e",
        "colab": {
          "base_uri": "https://localhost:8080/",
          "height": 126
        }
      },
      "source": [
        "veri['Doküman Metin'] = veri['Doküman Metin'].str.replace('[^\\w\\s]','')\n",
        "veri['Doküman Metin'].head()"
      ],
      "execution_count": 0,
      "outputs": [
        {
          "output_type": "execute_result",
          "data": {
            "text/plain": [
              "0    ilgili adrese ikramlık talebinde bulunulmuştur...\n",
              "2    ilgili adrese ikramlık talep edilmiştir bilgil...\n",
              "4    ilgili adres için ikramlık talep edildi bilgin...\n",
              "6    fikirtepe mah kader sok  no  293 ikramlık tale...\n",
              "8    05353074596 telefonun numarasının sms sistemin...\n",
              "Name: Doküman Metin, dtype: object"
            ]
          },
          "metadata": {
            "tags": []
          },
          "execution_count": 100
        }
      ]
    },
    {
      "cell_type": "code",
      "metadata": {
        "id": "p-Zw2P_0ciSd",
        "colab_type": "code",
        "outputId": "ac4f6a66-6527-4823-d230-899c57358db2",
        "colab": {
          "base_uri": "https://localhost:8080/",
          "height": 126
        }
      },
      "source": [
        "veri['Doküman Metin'] = veri['Doküman Metin'].str.replace('\\d+', '')\n",
        "veri['Doküman Metin'].head()"
      ],
      "execution_count": 0,
      "outputs": [
        {
          "output_type": "execute_result",
          "data": {
            "text/plain": [
              "0    ilgili adrese ikramlık talebinde bulunulmuştur...\n",
              "2    ilgili adrese ikramlık talep edilmiştir bilgil...\n",
              "4    ilgili adres için ikramlık talep edildi bilgin...\n",
              "6    fikirtepe mah kader sok  no   ikramlık talep e...\n",
              "8     telefonun numarasının sms sisteminden çıkartı...\n",
              "Name: Doküman Metin, dtype: object"
            ]
          },
          "metadata": {
            "tags": []
          },
          "execution_count": 101
        }
      ]
    },
    {
      "cell_type": "code",
      "metadata": {
        "id": "7YVcDi21cpl0",
        "colab_type": "code",
        "outputId": "7b2a0a90-21cc-4ad2-c21d-1233552c9188",
        "colab": {
          "base_uri": "https://localhost:8080/",
          "height": 126
        }
      },
      "source": [
        "veri['Doküman Metin'] = veri['Doküman Metin'].apply(lambda x: \" \".join(x for x in x.split() if x not in stop))\n",
        "veri['Doküman Metin'].head()"
      ],
      "execution_count": 0,
      "outputs": [
        {
          "output_type": "execute_result",
          "data": {
            "text/plain": [
              "0       ilgili adrese ikramlık talebinde bulunulmuştur\n",
              "2              ilgili adrese ikramlık talep edilmiştir\n",
              "4                   ilgili adres ikramlık talep edildi\n",
              "6     fikirtepe mah kader sok no ikramlık talep edildi\n",
              "8    telefonun numarasının sms sisteminden çıkartıl...\n",
              "Name: Doküman Metin, dtype: object"
            ]
          },
          "metadata": {
            "tags": []
          },
          "execution_count": 102
        }
      ]
    },
    {
      "cell_type": "code",
      "metadata": {
        "id": "8FeoAqPCcuxF",
        "colab_type": "code",
        "outputId": "8b0c275a-db2b-4fe0-daae-c73916271a53",
        "colab": {
          "base_uri": "https://localhost:8080/",
          "height": 435
        }
      },
      "source": [
        "freq = pd.Series(' '.join(veri['Doküman Metin']).split()).value_counts()[:30]\n",
        "freq = freq[freq>1000]\n",
        "print(freq)"
      ],
      "execution_count": 0,
      "outputs": [
        {
          "output_type": "stream",
          "text": [
            "mah              6117\n",
            "no               5634\n",
            "sok              4367\n",
            "olduğu           4296\n",
            "talep            4074\n",
            "ilgili           3604\n",
            "bir              3468\n",
            "iletildi         3232\n",
            "adreste          3161\n",
            "bulunan          3086\n",
            "bildirildi       1856\n",
            "edildi           1801\n",
            "cad              1676\n",
            "sokak            1646\n",
            "olarak           1544\n",
            "ederim           1303\n",
            "önünde           1198\n",
            "iletilmiştir     1191\n",
            "istenmektedir    1167\n",
            "yapılması        1132\n",
            "ediyorum         1084\n",
            "park             1081\n",
            "dtype: int64\n"
          ],
          "name": "stdout"
        }
      ]
    },
    {
      "cell_type": "code",
      "metadata": {
        "id": "mk6tBOFAc0LJ",
        "colab_type": "code",
        "outputId": "e4a72d1d-5f64-424f-8232-ac454d296069",
        "colab": {
          "base_uri": "https://localhost:8080/",
          "height": 417
        }
      },
      "source": [
        "freq.pop(\"talep\")\n",
        "freq"
      ],
      "execution_count": 0,
      "outputs": [
        {
          "output_type": "execute_result",
          "data": {
            "text/plain": [
              "mah              6117\n",
              "no               5634\n",
              "sok              4367\n",
              "olduğu           4296\n",
              "ilgili           3604\n",
              "bir              3468\n",
              "iletildi         3232\n",
              "adreste          3161\n",
              "bulunan          3086\n",
              "bildirildi       1856\n",
              "edildi           1801\n",
              "cad              1676\n",
              "sokak            1646\n",
              "olarak           1544\n",
              "ederim           1303\n",
              "önünde           1198\n",
              "iletilmiştir     1191\n",
              "istenmektedir    1167\n",
              "yapılması        1132\n",
              "ediyorum         1084\n",
              "park             1081\n",
              "dtype: int64"
            ]
          },
          "metadata": {
            "tags": []
          },
          "execution_count": 104
        }
      ]
    },
    {
      "cell_type": "code",
      "metadata": {
        "id": "JI-Igadfc21w",
        "colab_type": "code",
        "outputId": "c6e00be9-1f44-400b-f95d-93239ddc52ca",
        "colab": {
          "base_uri": "https://localhost:8080/",
          "height": 126
        }
      },
      "source": [
        "freq = list(freq.index)\n",
        "veri['Doküman Metin'] = veri['Doküman Metin'].apply(lambda x: \" \".join(x for x in x.split() if x not in freq))\n",
        "veri['Doküman Metin'].head()"
      ],
      "execution_count": 0,
      "outputs": [
        {
          "output_type": "execute_result",
          "data": {
            "text/plain": [
              "0              adrese ikramlık talebinde bulunulmuştur\n",
              "2                     adrese ikramlık talep edilmiştir\n",
              "4                                 adres ikramlık talep\n",
              "6                       fikirtepe kader ikramlık talep\n",
              "8    telefonun numarasının sms sisteminden çıkartıl...\n",
              "Name: Doküman Metin, dtype: object"
            ]
          },
          "metadata": {
            "tags": []
          },
          "execution_count": 105
        }
      ]
    },
    {
      "cell_type": "code",
      "metadata": {
        "id": "eRDura4ic9eZ",
        "colab_type": "code",
        "outputId": "63c4a1a4-f41a-4571-856e-55650e665cee",
        "colab": {
          "base_uri": "https://localhost:8080/",
          "height": 1000
        }
      },
      "source": [
        "freq2 = pd.Series(' '.join(veri['Doküman Metin']).split()).value_counts()#[-100:]\n",
        "freq2 = freq2[freq2<5.1]\n",
        "freq2\n"
      ],
      "execution_count": 0,
      "outputs": [
        {
          "output_type": "execute_result",
          "data": {
            "text/plain": [
              "sulari             5\n",
              "arzetmektedir      5\n",
              "sığınak            5\n",
              "göktepe            5\n",
              "sahalara           5\n",
              "olabileceğini      5\n",
              "aylin              5\n",
              "biçilmesini        5\n",
              "talebinin          5\n",
              "attım              5\n",
              "eş                 5\n",
              "belediyeyi         5\n",
              "köpüklü            5\n",
              "araştırılmasını    5\n",
              "yazmıştım          5\n",
              "havaların          5\n",
              "mecbur             5\n",
              "babalari           5\n",
              "şahsıma            5\n",
              "erik               5\n",
              "çanak              5\n",
              "kullandığını       5\n",
              "tamamının          5\n",
              "zeytin             5\n",
              "sonucun            5\n",
              "kullanıyorum       5\n",
              "mecburen           5\n",
              "çarpması           5\n",
              "betonla            5\n",
              "bilir              5\n",
              "                  ..\n",
              "çikinti            1\n",
              "gürpinar           1\n",
              "önunde             1\n",
              "yakanlar           1\n",
              "penceresini        1\n",
              "lazza              1\n",
              "erişime            1\n",
              "gerçekleştiğini    1\n",
              "etsın              1\n",
              "nigtangale         1\n",
              "uyanmaya           1\n",
              "yönetiminden       1\n",
              "dokusunu           1\n",
              "tuğlaçıbaşı        1\n",
              "bekletilmesini     1\n",
              "kemikleri          1\n",
              "atespare           1\n",
              "dökümüne           1\n",
              "ekmeklerin         1\n",
              "müraacet           1\n",
              "yatma              1\n",
              "dahilindemi        1\n",
              "uğurelli           1\n",
              "fotoğrafini        1\n",
              "apartmanıma        1\n",
              "teredddüt          1\n",
              "mangaltüp          1\n",
              "wooi               1\n",
              "kırıldığıaraç      1\n",
              "kalkmıyor          1\n",
              "Length: 32230, dtype: int64"
            ]
          },
          "metadata": {
            "tags": []
          },
          "execution_count": 106
        }
      ]
    },
    {
      "cell_type": "code",
      "metadata": {
        "id": "t7LxPBhudD3k",
        "colab_type": "code",
        "outputId": "3e886d91-1da3-49bd-ef61-be4a7d7b5f47",
        "colab": {
          "base_uri": "https://localhost:8080/",
          "height": 126
        }
      },
      "source": [
        "freq2 = list(freq2.index)\n",
        "veri['Doküman Metin'] = veri['Doküman Metin'].apply(lambda x: \" \".join(x for x in x.split() if x not in freq2))\n",
        "veri['Doküman Metin'].head()"
      ],
      "execution_count": 0,
      "outputs": [
        {
          "output_type": "execute_result",
          "data": {
            "text/plain": [
              "0              adrese ikramlık talebinde bulunulmuştur\n",
              "2                     adrese ikramlık talep edilmiştir\n",
              "4                                 adres ikramlık talep\n",
              "6                             fikirtepe ikramlık talep\n",
              "8    telefonun numarasının sms sisteminden çıkartıl...\n",
              "Name: Doküman Metin, dtype: object"
            ]
          },
          "metadata": {
            "tags": []
          },
          "execution_count": 107
        }
      ]
    },
    {
      "cell_type": "code",
      "metadata": {
        "id": "cOzgJwNpgXin",
        "colab_type": "code",
        "outputId": "db3d95ec-5839-42c0-9233-6f7edf00d43a",
        "colab": {
          "base_uri": "https://localhost:8080/",
          "height": 35
        }
      },
      "source": [
        "!pip install snowballstemmer"
      ],
      "execution_count": 0,
      "outputs": [
        {
          "output_type": "stream",
          "text": [
            "Requirement already satisfied: snowballstemmer in /usr/local/lib/python3.6/dist-packages (1.9.0)\n"
          ],
          "name": "stdout"
        }
      ]
    },
    {
      "cell_type": "code",
      "metadata": {
        "id": "AGfr7w-bgkaI",
        "colab_type": "code",
        "outputId": "e68114c3-51fc-4d43-ee49-a8ec17442bb8",
        "colab": {
          "base_uri": "https://localhost:8080/",
          "height": 1000
        }
      },
      "source": [
        "from snowballstemmer import TurkishStemmer\n",
        "turkStem=TurkishStemmer()\n",
        "veri['Doküman Metin'].apply(lambda x: \" \".join(turkStem.stemWord(x) for x in x.split()))"
      ],
      "execution_count": 0,
      "outputs": [
        {
          "output_type": "execute_result",
          "data": {
            "text/plain": [
              "0                             adres ikramlık talep bulunul\n",
              "2                                adres ikramlık talep edil\n",
              "4                                     adres ikramlık talep\n",
              "6                                  fikirtep ikramlık talep\n",
              "8               telefo numara sms sistem çıkartılmas talep\n",
              "9                 belirtile adres e ikramlik talep bulunul\n",
              "11                      belirtile adres ikra talep bulunul\n",
              "12         numara sahip vatandaş sms sistem çıkmak istedik\n",
              "13       iletiş numara bilgilendirme iptal edilmes tale...\n",
              "15       mayis güneşli kat vefat e şükrü şer tepsi ikra...\n",
              "17               kozyataği kocayol b blok d ikramlik talep\n",
              "18                       rasimpaş recaiza d ikramlık talep\n",
              "20                                         sms iptal talep\n",
              "21                              sms gelmemes talep bulunul\n",
              "22                                            mesaj atılma\n",
              "23                                        mesaj gönderilme\n",
              "24       suadi em alipaş kat vefat e bugu akşa ikramlık...\n",
              "26             telefo numara siste çıkarılma mesaj istemek\n",
              "27       göztep mahalles mustaf mazhar bey d te otura a...\n",
              "29       istanbul sınır iç ikamet vatandaş kadıköy bele...\n",
              "30       suadi haza tarih adres gi adlı firma yaptık be...\n",
              "31                                    tarih ikramlık talep\n",
              "33                    numara siste çıkarılma mesaj istemek\n",
              "34       caferak prof vehbi saridal adre vefat e arif a...\n",
              "36                 acıbade tek sites a blok ikramlık talep\n",
              "37       zühtüpaş hasa kamil sporel e adres ikramlık ta...\n",
              "38               numar dair kat tarih ikramlık talep etmek\n",
              "40                  fikirtep vefat e kadir çet ikramlık is\n",
              "42                     göztep tepegöz cenaz ev ikramlık is\n",
              "44       göztep mh sk dair kat vefat e fatma doğru ikra...\n",
              "                               ...                        \n",
              "16110                              mimar proje yangı işlem\n",
              "16111    fenerbahçe ku inşaat çalışmas olduk ses olduk ...\n",
              "16114                                                  kat\n",
              "16115    caferak rizapaş belirtile adres apartma yan ta...\n",
              "16117    t c kadiköy belediyes imar şehircilik müdürlük...\n",
              "16118    osmanak piriçavuş belirtile adet ahşap metruk ...\n",
              "16120    imar şehircilik müdürlük proje yükseklik kat a...\n",
              "16121    rasimpaş elmaliçeşme boş ala çevre açık içer t...\n",
              "16122    fenerbahçe cafe kapatarak dük salo yaptık izin...\n",
              "16123    sn yetkil eş bedia ad kayıtlı ola parsel yapıl...\n",
              "16124    göztep tanzimat apt oturmak yan arka bina kent...\n",
              "16125    merhap oturduk iska olup olmadık öğrenmek isti...\n",
              "16126    say ben çam elema al yapılacak üniversites ana...\n",
              "16128    öncelik çalışma başarı di saygı sunar ke ad de...\n",
              "16130    hale mer büyükşehir belediye tabi e zabi görev...\n",
              "16132    danışmanlık an yük deva etmek kıs sürel çalışm...\n",
              "16133                                    iş başvurus çevre\n",
              "16134    say an yaptık kadar doğru bilemiyor şekil pers...\n",
              "16137    merhap ben süleyma demirel üniversites bilgisa...\n",
              "16141    sosyal hizmet bölüm yıl bugu kadar sosyal dest...\n",
              "16143    personel gönder bulunmak ver rica hüsey iş güv...\n",
              "16144                                               başvur\n",
              "16145    şerdil başka merhap lütfe okur kadıköy belediy...\n",
              "16146    iş başvurus kadıköy belediye ya kadıköy beledi...\n",
              "16147    belediye yıl görev teknik hizmet mimar görev d...\n",
              "16148    say başka merhap öncelik siz rahatsiz ettik di...\n",
              "16149    mimar iş başvurus say büyük pek mağaz ofis kon...\n",
              "16152    merhap ben peyzaj bölüm ye ol peyzaj çalışa de...\n",
              "16153    i gün i çalışma diliyor aktif şekil iş ek ba u...\n",
              "16154                    kadıköy belediye çalışmak istiyor\n",
              "Name: Doküman Metin, Length: 13712, dtype: object"
            ]
          },
          "metadata": {
            "tags": []
          },
          "execution_count": 109
        }
      ]
    },
    {
      "cell_type": "code",
      "metadata": {
        "id": "ooWBqi7jZ2jQ",
        "colab_type": "code",
        "outputId": "2399756f-8ace-45fb-f7a5-8422ff794bf7",
        "colab": {
          "base_uri": "https://localhost:8080/",
          "height": 52
        }
      },
      "source": [
        "from sklearn.model_selection import train_test_split\n",
        "y = veri[\"Kapsam\"]\n",
        "sentences = veri[\"Doküman Metin\"]\n",
        "sentences_train, sentences_test, y_train, y_test = train_test_split(sentences, y, test_size=0.20, stratify = y, random_state=42)\n",
        "print(sentences_train.shape)\n",
        "print(sentences_test.shape)"
      ],
      "execution_count": 0,
      "outputs": [
        {
          "output_type": "stream",
          "text": [
            "(10969,)\n",
            "(2743,)\n"
          ],
          "name": "stdout"
        }
      ]
    },
    {
      "cell_type": "code",
      "metadata": {
        "id": "hPFvr4zVaYTr",
        "colab_type": "code",
        "outputId": "012ee763-ab51-45c0-fa27-e449eef31ac1",
        "colab": {
          "base_uri": "https://localhost:8080/",
          "height": 52
        }
      },
      "source": [
        "from sklearn.feature_extraction.text import CountVectorizer\n",
        "\n",
        "vectorizer = CountVectorizer()\n",
        "vectorizer.fit(sentences_train)\n",
        "\n",
        "X_train = vectorizer.transform(sentences_train)\n",
        "X_test  = vectorizer.transform(sentences_test)\n",
        "X_train"
      ],
      "execution_count": 0,
      "outputs": [
        {
          "output_type": "execute_result",
          "data": {
            "text/plain": [
              "<10969x6817 sparse matrix of type '<class 'numpy.int64'>'\n",
              "\twith 175104 stored elements in Compressed Sparse Row format>"
            ]
          },
          "metadata": {
            "tags": []
          },
          "execution_count": 111
        }
      ]
    },
    {
      "cell_type": "markdown",
      "metadata": {
        "id": "c6YuFWgXa258",
        "colab_type": "text"
      },
      "source": [
        "RANDOM FOREST REGRESİON\n"
      ]
    },
    {
      "cell_type": "code",
      "metadata": {
        "id": "jI9gH5C1a_Ev",
        "colab_type": "code",
        "colab": {}
      },
      "source": [
        "from sklearn.ensemble import RandomForestClassifier\n",
        "clf = RandomForestClassifier(n_estimators=100)\n",
        "clf.fit(X_train,y_train)\n",
        "y_pred_rf = clf.predict(X_test)\n",
        "y_pred2_rf = clf.predict(X_train)"
      ],
      "execution_count": 0,
      "outputs": []
    },
    {
      "cell_type": "code",
      "metadata": {
        "id": "1cTjWekleS9r",
        "colab_type": "code",
        "outputId": "744342c7-9082-42cd-d369-870730dc0e05",
        "colab": {
          "base_uri": "https://localhost:8080/",
          "height": 52
        }
      },
      "source": [
        "from sklearn import metrics\n",
        "from sklearn.metrics import f1_score\n",
        "print(\"Test Accuracy:\",metrics.accuracy_score(y_test, y_pred_rf))\n",
        "print(\"Train Accuracy:\",metrics.accuracy_score(y_train, y_pred2_rf))\n"
      ],
      "execution_count": 0,
      "outputs": [
        {
          "output_type": "stream",
          "text": [
            "Test Accuracy: 0.8148013124316442\n",
            "Train Accuracy: 0.9982678457471055\n"
          ],
          "name": "stdout"
        }
      ]
    },
    {
      "cell_type": "code",
      "metadata": {
        "id": "0QBlCIsDkNgP",
        "colab_type": "code",
        "outputId": "beddff0d-76e9-4811-f025-37b485c2c388",
        "colab": {
          "base_uri": "https://localhost:8080/",
          "height": 70
        }
      },
      "source": [
        "f1_score(y_test, y_pred_rf, average='macro')"
      ],
      "execution_count": 0,
      "outputs": [
        {
          "output_type": "stream",
          "text": [
            "/usr/local/lib/python3.6/dist-packages/sklearn/metrics/classification.py:1437: UndefinedMetricWarning: F-score is ill-defined and being set to 0.0 in labels with no predicted samples.\n",
            "  'precision', 'predicted', average, warn_for)\n"
          ],
          "name": "stderr"
        },
        {
          "output_type": "execute_result",
          "data": {
            "text/plain": [
              "0.478569014959791"
            ]
          },
          "metadata": {
            "tags": []
          },
          "execution_count": 114
        }
      ]
    },
    {
      "cell_type": "markdown",
      "metadata": {
        "id": "5oy4FEqJgPeY",
        "colab_type": "text"
      },
      "source": [
        "SVM"
      ]
    },
    {
      "cell_type": "code",
      "metadata": {
        "id": "4RHsryZ4gS7U",
        "colab_type": "code",
        "colab": {}
      },
      "source": [
        "from sklearn import svm\n",
        "\n",
        "clf = svm.SVC(kernel='linear') \n",
        "\n",
        "clf.fit(X_train, y_train)\n",
        "\n",
        "y_pred_svm = clf.predict(X_test)\n",
        "y_pred2_svm = clf.predict(X_train)\n"
      ],
      "execution_count": 0,
      "outputs": []
    },
    {
      "cell_type": "code",
      "metadata": {
        "id": "2_9O1a3lgj3q",
        "colab_type": "code",
        "outputId": "f8fd7963-6622-4ee7-efd3-8a1f7f200cd1",
        "colab": {
          "base_uri": "https://localhost:8080/",
          "height": 52
        }
      },
      "source": [
        "from sklearn import metrics\n",
        "\n",
        "print(\"Test Accuracy:\",metrics.accuracy_score(y_test, y_pred_svm))\n",
        "print(\"Train Accuracy:\",metrics.accuracy_score(y_train, y_pred2_svm))"
      ],
      "execution_count": 0,
      "outputs": [
        {
          "output_type": "stream",
          "text": [
            "Test Accuracy: 0.7633977397010573\n",
            "Train Accuracy: 0.9688212234478987\n"
          ],
          "name": "stdout"
        }
      ]
    },
    {
      "cell_type": "code",
      "metadata": {
        "id": "xSmjsLqXkJNC",
        "colab_type": "code",
        "outputId": "2413aac4-7a1c-4b78-a949-6e4f38cdd4ac",
        "colab": {
          "base_uri": "https://localhost:8080/",
          "height": 34
        }
      },
      "source": [
        "f1_score(y_test, y_pred_svm, average='macro')"
      ],
      "execution_count": 0,
      "outputs": [
        {
          "output_type": "execute_result",
          "data": {
            "text/plain": [
              "0.47650188361075607"
            ]
          },
          "metadata": {
            "tags": []
          },
          "execution_count": 73
        }
      ]
    },
    {
      "cell_type": "code",
      "metadata": {
        "id": "SDfR796VkYWi",
        "colab_type": "code",
        "colab": {}
      },
      "source": [
        ""
      ],
      "execution_count": 0,
      "outputs": []
    },
    {
      "cell_type": "markdown",
      "metadata": {
        "id": "21Bv4mEsjzFS",
        "colab_type": "text"
      },
      "source": [
        "DECISION TREE\n"
      ]
    },
    {
      "cell_type": "code",
      "metadata": {
        "id": "YMdFY51SkG4j",
        "colab_type": "code",
        "colab": {}
      },
      "source": [
        "import pandas as pd\n",
        "from sklearn.tree import DecisionTreeClassifier \n",
        "from sklearn import metrics\n",
        "clf = DecisionTreeClassifier()\n",
        "\n",
        "clf = clf.fit(X_train,y_train)\n",
        "\n",
        "y_pred_dt = clf.predict(X_test)\n",
        "y_pred2_dt = clf.predict(X_train)\n"
      ],
      "execution_count": 0,
      "outputs": []
    },
    {
      "cell_type": "code",
      "metadata": {
        "id": "a5TGi6hbkpR4",
        "colab_type": "code",
        "outputId": "0f1130ee-2bef-4043-8f61-404151b97a49",
        "colab": {
          "base_uri": "https://localhost:8080/",
          "height": 52
        }
      },
      "source": [
        "print(\"Test Accuracy:\",metrics.accuracy_score(y_test, y_pred_dt))\n",
        "print(\"Train Accuracy:\",metrics.accuracy_score(y_train, y_pred2_dt))\n"
      ],
      "execution_count": 0,
      "outputs": [
        {
          "output_type": "stream",
          "text": [
            "Test Accuracy: 0.7491797302223843\n",
            "Train Accuracy: 0.9983590117604157\n"
          ],
          "name": "stdout"
        }
      ]
    },
    {
      "cell_type": "code",
      "metadata": {
        "id": "sv46m2yAjBXA",
        "colab_type": "code",
        "outputId": "22155afb-9862-4612-a9a3-851e9f011b24",
        "colab": {
          "base_uri": "https://localhost:8080/",
          "height": 34
        }
      },
      "source": [
        "f1_score(y_test, y_pred_dt, average='macro')"
      ],
      "execution_count": 0,
      "outputs": [
        {
          "output_type": "execute_result",
          "data": {
            "text/plain": [
              "0.47967109679979386"
            ]
          },
          "metadata": {
            "tags": []
          },
          "execution_count": 72
        }
      ]
    },
    {
      "cell_type": "markdown",
      "metadata": {
        "id": "kBXphzFGY-tj",
        "colab_type": "text"
      },
      "source": [
        "LOGİSTİC REGRESSİON\n"
      ]
    },
    {
      "cell_type": "code",
      "metadata": {
        "id": "oFTNzWw4ZB-H",
        "colab_type": "code",
        "outputId": "054893f0-d031-4ab4-8c8a-b858e2820c2c",
        "colab": {
          "base_uri": "https://localhost:8080/",
          "height": 123
        }
      },
      "source": [
        "from sklearn.linear_model import LogisticRegression\n",
        "\n",
        "classifier = LogisticRegression()\n",
        "classifier.fit(X_train, y_train)\n",
        "\n",
        "train_score = classifier.score(X_train, y_train)\n",
        "test_score = classifier.score(X_test, y_test)\n",
        "\n",
        "y_pred = classifier.predict(X_train)\n",
        "y_pred2 = classifier.predict(X_test)\n",
        "\n",
        "print(\"Train Accuracy:\", train_score)\n",
        "print(\"Test Accuracy:\", test_score)"
      ],
      "execution_count": 0,
      "outputs": [
        {
          "output_type": "stream",
          "text": [
            "/usr/local/lib/python3.6/dist-packages/sklearn/linear_model/logistic.py:432: FutureWarning: Default solver will be changed to 'lbfgs' in 0.22. Specify a solver to silence this warning.\n",
            "  FutureWarning)\n",
            "/usr/local/lib/python3.6/dist-packages/sklearn/linear_model/logistic.py:469: FutureWarning: Default multi_class will be changed to 'auto' in 0.22. Specify the multi_class option to silence this warning.\n",
            "  \"this warning.\", FutureWarning)\n"
          ],
          "name": "stderr"
        },
        {
          "output_type": "stream",
          "text": [
            "Train Accuracy: 0.9287993436047042\n",
            "Test Accuracy: 0.7998541742617572\n"
          ],
          "name": "stdout"
        }
      ]
    },
    {
      "cell_type": "code",
      "metadata": {
        "id": "c85Lqg5gkch-",
        "colab_type": "code",
        "outputId": "3e7904eb-ed15-49dd-848b-145d457d0b57",
        "colab": {
          "base_uri": "https://localhost:8080/",
          "height": 34
        }
      },
      "source": [
        "f1_score(y_test, y_pred2, average='macro')"
      ],
      "execution_count": 0,
      "outputs": [
        {
          "output_type": "execute_result",
          "data": {
            "text/plain": [
              "0.35981955264076204"
            ]
          },
          "metadata": {
            "tags": []
          },
          "execution_count": 76
        }
      ]
    },
    {
      "cell_type": "markdown",
      "metadata": {
        "id": "kx3fzQOsc8op",
        "colab_type": "text"
      },
      "source": [
        "RANDOM FOREST REGRESSOR SEÇİMİNDEN SONRA"
      ]
    },
    {
      "cell_type": "code",
      "metadata": {
        "id": "PYypfP1KdKQH",
        "colab_type": "code",
        "outputId": "dd8f7a39-9e57-4750-fa19-1158c37e8418",
        "colab": {
          "base_uri": "https://localhost:8080/",
          "height": 1000
        }
      },
      "source": [
        "from sklearn.model_selection import GridSearchCV\n",
        "# Create the parameter grid based on the results of random search\n",
        "param_grid = {\n",
        "   'bootstrap': [True],\n",
        "   'max_depth': [30, 100, 150],\n",
        "   'max_features': [30, 50, 80],\n",
        "   'min_samples_leaf': [1,3],\n",
        "   'min_samples_split': [3, 8, 10],\n",
        "   'n_estimators': [150],\n",
        "   'random_state': [42],\n",
        "   'verbose': [2],\n",
        "   'n_jobs': [-1]\n",
        "}\n",
        "# Create a based model\n",
        "rf = RandomForestClassifier()\n",
        "# Instantiate the grid search model\n",
        "grid_search = GridSearchCV(estimator = rf, param_grid = param_grid,\n",
        "                         cv = 3, n_jobs = -1, verbose = 2)\n",
        "\n",
        "grid_search.fit(X_train, y_train)\n",
        "print(grid_search.best_params_)\n",
        "best_grid = grid_search.best_estimator_\n",
        "print(best_grid)\n",
        "\n",
        "print(\"************************\")\n",
        "print(\"F1 Score: \",f1_score(y_test,y_pred_rf, average='macro' ))\n",
        "print(\"Test Accuracy:\",metrics.accuracy_score(y_test, y_pred_rf))\n",
        "print(\"Train Accuracy:\",metrics.accuracy_score(y_train, y_pred2_rf))\n",
        "\n",
        "print(\"************************\")\n"
      ],
      "execution_count": 0,
      "outputs": [
        {
          "output_type": "stream",
          "text": [
            "Fitting 3 folds for each of 54 candidates, totalling 162 fits\n"
          ],
          "name": "stdout"
        },
        {
          "output_type": "stream",
          "text": [
            "[Parallel(n_jobs=-1)]: Using backend LokyBackend with 2 concurrent workers.\n",
            "[Parallel(n_jobs=-1)]: Done  37 tasks      | elapsed:   29.3s\n",
            "[Parallel(n_jobs=-1)]: Done 158 tasks      | elapsed:  4.5min\n",
            "[Parallel(n_jobs=-1)]: Done 162 out of 162 | elapsed:  4.6min finished\n",
            "[Parallel(n_jobs=-1)]: Using backend ThreadingBackend with 2 concurrent workers.\n"
          ],
          "name": "stderr"
        },
        {
          "output_type": "stream",
          "text": [
            "building tree 1 of 150\n",
            "building tree 2 of 150\n",
            "building tree 3 of 150\n",
            "building tree 4 of 150\n",
            "building tree 5 of 150\n",
            "building tree 6 of 150\n",
            "building tree 7 of 150\n",
            "building tree 8 of 150\n",
            "building tree 9 of 150\n",
            "building tree 10 of 150\n",
            "building tree 11 of 150\n",
            "building tree 12 of 150\n",
            "building tree 13 of 150\n",
            "building tree 14 of 150\n",
            "building tree 15 of 150\n",
            "building tree 16 of 150\n",
            "building tree 17 of 150\n",
            "building tree 18 of 150\n",
            "building tree 19 of 150\n",
            "building tree 20 of 150\n",
            "building tree 21 of 150\n",
            "building tree 22 of 150\n",
            "building tree 23 of 150\n",
            "building tree 24 of 150\n",
            "building tree 25 of 150\n",
            "building tree 26 of 150\n",
            "building tree 27 of 150\n",
            "building tree 28 of 150\n",
            "building tree 29 of 150\n",
            "building tree 30 of 150\n",
            "building tree 31 of 150\n",
            "building tree 32 of 150\n",
            "building tree 33 of 150\n",
            "building tree 34 of 150\n",
            "building tree 35 of 150\n",
            "building tree 36 of 150\n",
            "building tree 37 of 150\n",
            "building tree 38 of 150\n",
            "building tree 39 of 150\n"
          ],
          "name": "stdout"
        },
        {
          "output_type": "stream",
          "text": [
            "[Parallel(n_jobs=-1)]: Done  37 tasks      | elapsed:    1.6s\n"
          ],
          "name": "stderr"
        },
        {
          "output_type": "stream",
          "text": [
            "building tree 40 of 150\n",
            "building tree 41 of 150\n",
            "building tree 42 of 150\n",
            "building tree 43 of 150\n",
            "building tree 44 of 150\n",
            "building tree 45 of 150\n",
            "building tree 46 of 150\n",
            "building tree 47 of 150\n",
            "building tree 48 of 150\n",
            "building tree 49 of 150\n",
            "building tree 50 of 150\n",
            "building tree 51 of 150\n",
            "building tree 52 of 150\n",
            "building tree 53 of 150\n",
            "building tree 54 of 150\n",
            "building tree 55 of 150\n",
            "building tree 56 of 150\n",
            "building tree 57 of 150\n",
            "building tree 58 of 150\n",
            "building tree 59 of 150\n",
            "building tree 60 of 150\n",
            "building tree 61 of 150\n",
            "building tree 62 of 150\n",
            "building tree 63 of 150\n",
            "building tree 64 of 150\n",
            "building tree 65 of 150\n",
            "building tree 66 of 150\n",
            "building tree 67 of 150\n",
            "building tree 68 of 150\n",
            "building tree 69 of 150\n",
            "building tree 70 of 150\n",
            "building tree 71 of 150\n",
            "building tree 72 of 150\n",
            "building tree 73 of 150\n",
            "building tree 74 of 150\n",
            "building tree 75 of 150\n",
            "building tree 76 of 150\n",
            "building tree 77 of 150\n",
            "building tree 78 of 150\n",
            "building tree 79 of 150\n",
            "building tree 80 of 150\n",
            "building tree 81 of 150\n",
            "building tree 82 of 150\n",
            "building tree 83 of 150\n",
            "building tree 84 of 150\n",
            "building tree 85 of 150\n",
            "building tree 86 of 150\n",
            "building tree 87 of 150\n",
            "building tree 88 of 150\n",
            "building tree 89 of 150\n",
            "building tree 90 of 150\n",
            "building tree 91 of 150\n",
            "building tree 92 of 150\n",
            "building tree 93 of 150\n",
            "building tree 94 of 150\n",
            "building tree 95 of 150\n",
            "building tree 96 of 150\n",
            "building tree 97 of 150\n",
            "building tree 98 of 150\n",
            "building tree 99 of 150\n",
            "building tree 100 of 150\n",
            "building tree 101 of 150\n",
            "building tree 102 of 150\n",
            "building tree 103 of 150\n",
            "building tree 104 of 150\n",
            "building tree 105 of 150\n",
            "building tree 106 of 150\n",
            "building tree 107 of 150\n",
            "building tree 108 of 150\n",
            "building tree 109 of 150\n",
            "building tree 110 of 150\n",
            "building tree 111 of 150\n",
            "building tree 112 of 150\n",
            "building tree 113 of 150\n",
            "building tree 114 of 150\n",
            "building tree 115 of 150\n",
            "building tree 116 of 150\n",
            "building tree 117 of 150\n",
            "building tree 118 of 150\n",
            "building tree 119 of 150\n",
            "building tree 120 of 150\n",
            "building tree 121 of 150\n",
            "building tree 122 of 150\n",
            "building tree 123 of 150\n",
            "building tree 124 of 150\n",
            "building tree 125 of 150\n",
            "building tree 126 of 150\n",
            "building tree 127 of 150\n",
            "building tree 128 of 150\n",
            "building tree 129 of 150\n",
            "building tree 130 of 150\n",
            "building tree 131 of 150\n",
            "building tree 132 of 150\n",
            "building tree 133 of 150\n",
            "building tree 134 of 150\n",
            "building tree 135 of 150\n",
            "building tree 136 of 150\n",
            "building tree 137 of 150\n",
            "building tree 138 of 150\n",
            "building tree 139 of 150\n",
            "building tree 140 of 150\n",
            "building tree 141 of 150\n",
            "building tree 142 of 150\n",
            "building tree 143 of 150\n",
            "building tree 144 of 150\n",
            "building tree 145 of 150\n",
            "building tree 146 of 150\n",
            "building tree 147 of 150\n",
            "building tree 148 of 150\n",
            "building tree 149 of 150\n",
            "building tree 150 of 150\n",
            "{'bootstrap': True, 'max_depth': 150, 'max_features': 80, 'min_samples_leaf': 1, 'min_samples_split': 3, 'n_estimators': 150, 'n_jobs': -1, 'random_state': 42, 'verbose': 2}\n",
            "RandomForestClassifier(bootstrap=True, class_weight=None, criterion='gini',\n",
            "                       max_depth=150, max_features=80, max_leaf_nodes=None,\n",
            "                       min_impurity_decrease=0.0, min_impurity_split=None,\n",
            "                       min_samples_leaf=1, min_samples_split=3,\n",
            "                       min_weight_fraction_leaf=0.0, n_estimators=150,\n",
            "                       n_jobs=-1, oob_score=False, random_state=42, verbose=2,\n",
            "                       warm_start=False)\n",
            "************************\n",
            "F1 Score:  0.48057691468216446\n",
            "Test Accuracy: 0.8148013124316442\n",
            "Train Accuracy: 0.9982678457471055\n",
            "************************\n"
          ],
          "name": "stdout"
        },
        {
          "output_type": "stream",
          "text": [
            "[Parallel(n_jobs=-1)]: Done 150 out of 150 | elapsed:    6.2s finished\n",
            "/usr/local/lib/python3.6/dist-packages/sklearn/metrics/classification.py:1437: UndefinedMetricWarning: F-score is ill-defined and being set to 0.0 in labels with no predicted samples.\n",
            "  'precision', 'predicted', average, warn_for)\n"
          ],
          "name": "stderr"
        }
      ]
    },
    {
      "cell_type": "markdown",
      "metadata": {
        "id": "-6mEGXpW6kT3",
        "colab_type": "text"
      },
      "source": [
        "1. DENEME\n",
        "\n",
        "Değerler aşağıdaki gibi verildiğinde;\n",
        "\n",
        "param_grid = {\n",
        "   'bootstrap': [True],\n",
        "   'max_depth': [5, 15, 30],\n",
        "   'max_features': [10, 30],\n",
        "   'min_samples_leaf': [3, 5],\n",
        "   'min_samples_split': [8, 12],\n",
        "   'n_estimators': [100],\n",
        "   'random_state': [42],\n",
        "   'verbose': [2],\n",
        "   'n_jobs': [-1]\n",
        "}\n",
        "\n",
        "SONUÇ;\n",
        "\n",
        "{'bootstrap': True, 'max_depth': 30, 'max_features': 30, 'min_samples_leaf': 3, 'min_samples_split': 8, 'n_estimators': 100, 'n_jobs': -1, 'random_state': 42, 'verbose': 2}\n",
        "RandomForestClassifier(bootstrap=True, class_weight=None, criterion='gini',\n",
        "                       max_depth=30, max_features=30, max_leaf_nodes=None,\n",
        "                       min_impurity_decrease=0.0, min_impurity_split=None,\n",
        "                       min_samples_leaf=3, min_samples_split=8,\n",
        "                       min_weight_fraction_leaf=0.0, n_estimators=100,\n",
        "                       n_jobs=-1, oob_score=False, random_state=42, verbose=2,\n",
        "                       warm_start=False)\n",
        "[Parallel(n_jobs=-1)]: Done 100 out of 100 | elapsed:    0.3s finished"
      ]
    },
    {
      "cell_type": "markdown",
      "metadata": {
        "id": "S8EpdFbx_Css",
        "colab_type": "text"
      },
      "source": [
        "2. DENEME\n",
        "\n",
        "param_grid = {\n",
        "   'bootstrap': [True],\n",
        "   'max_depth': [30, 100, 150],\n",
        "   'max_features': [30, 50, 80],\n",
        "   'min_samples_leaf': [1,3],\n",
        "   'min_samples_split': [3, 8, 10],\n",
        "   'n_estimators': [150],\n",
        "   'random_state': [42],\n",
        "   'verbose': [2],\n",
        "   'n_jobs': [-1]\n",
        "}\n",
        "\n",
        "SONUÇ:\n",
        "\n",
        "{'bootstrap': True, 'max_depth': 150, 'max_features': 80, 'min_samples_leaf': 1, 'min_samples_split': 3, 'n_estimators': 150, 'n_jobs': -1, 'random_state': 42, 'verbose': 2}\n",
        "RandomForestClassifier(bootstrap=True, class_weight=None, criterion='gini',\n",
        "                       max_depth=150, max_features=80, max_leaf_nodes=None,\n",
        "                       min_impurity_decrease=0.0, min_impurity_split=None,\n",
        "                       min_samples_leaf=1, min_samples_split=3,\n",
        "                       min_weight_fraction_leaf=0.0, n_estimators=150,\n",
        "                       n_jobs=-1, oob_score=False, random_state=42, verbose=2,\n",
        "                       warm_start=False)\n",
        "\n",
        "\n",
        "\n",
        "```\n",
        "# This is formatted as code\n",
        "```\n",
        "\n"
      ]
    },
    {
      "cell_type": "code",
      "metadata": {
        "id": "kOp5CwNH7KGh",
        "colab_type": "code",
        "colab": {}
      },
      "source": [
        ""
      ],
      "execution_count": 0,
      "outputs": []
    }
  ]
}