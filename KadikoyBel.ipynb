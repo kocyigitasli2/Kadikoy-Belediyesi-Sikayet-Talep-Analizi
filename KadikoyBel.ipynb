{
  "nbformat": 4,
  "nbformat_minor": 0,
  "metadata": {
    "colab": {
      "name": "KadikoyBel.ipynb",
      "version": "0.3.2",
      "provenance": [],
      "toc_visible": true,
      "include_colab_link": true
    },
    "kernelspec": {
      "name": "python3",
      "display_name": "Python 3"
    }
  },
  "cells": [
    {
      "cell_type": "markdown",
      "metadata": {
        "id": "view-in-github",
        "colab_type": "text"
      },
      "source": [
        "<a href=\"https://colab.research.google.com/github/duyqu-chan/Sikayet-Talep-Analizi/blob/master/KadikoyBel.ipynb\" target=\"_parent\"><img src=\"https://colab.research.google.com/assets/colab-badge.svg\" alt=\"Open In Colab\"/></a>"
      ]
    },
    {
      "cell_type": "markdown",
      "metadata": {
        "id": "Usw_8JnH5jAH",
        "colab_type": "text"
      },
      "source": [
        "# Şikayet Verisi Analizi\n",
        "\n",
        "\n",
        "---\n",
        "\n",
        "\n",
        "##### Duygu Can\n",
        "##### Yapay Zeka Yaz Atölyesi\n",
        "##### 18 - 31 Ağustos 2019, Kadıköy IDEA\n",
        "\n",
        "\n",
        "---\n",
        "\n",
        "\n",
        "Bu çalışmada Kadıköy Belediyesi'ne gönderilen metinlerin şikayet, talep, vs. gibi sınıflandırılması yapılacaktır. *Kapsam* ve *Döküman Metin* kolonları arasındaki ilişki incelenecektir."
      ]
    },
    {
      "cell_type": "code",
      "metadata": {
        "id": "rApo9P7R5gKH",
        "colab_type": "code",
        "colab": {
          "base_uri": "https://localhost:8080/",
          "height": 122
        },
        "outputId": "dc818296-bab9-4fd2-a6e4-906fe224b299"
      },
      "source": [
        "# Run this cell to mount your Google Drive.\n",
        "from google.colab import drive\n",
        "drive.mount('/content/drive')"
      ],
      "execution_count": 1,
      "outputs": [
        {
          "output_type": "stream",
          "text": [
            "Go to this URL in a browser: https://accounts.google.com/o/oauth2/auth?client_id=947318989803-6bn6qk8qdgf4n4g3pfee6491hc0brc4i.apps.googleusercontent.com&redirect_uri=urn%3Aietf%3Awg%3Aoauth%3A2.0%3Aoob&scope=email%20https%3A%2F%2Fwww.googleapis.com%2Fauth%2Fdocs.test%20https%3A%2F%2Fwww.googleapis.com%2Fauth%2Fdrive%20https%3A%2F%2Fwww.googleapis.com%2Fauth%2Fdrive.photos.readonly%20https%3A%2F%2Fwww.googleapis.com%2Fauth%2Fpeopleapi.readonly&response_type=code\n",
            "\n",
            "Enter your authorization code:\n",
            "··········\n",
            "Mounted at /content/drive\n"
          ],
          "name": "stdout"
        }
      ]
    },
    {
      "cell_type": "markdown",
      "metadata": {
        "id": "FrrKBXVV6-f9",
        "colab_type": "text"
      },
      "source": [
        "Veriyi okuma"
      ]
    },
    {
      "cell_type": "code",
      "metadata": {
        "id": "-fHxOIpv7CHb",
        "colab_type": "code",
        "colab": {
          "base_uri": "https://localhost:8080/",
          "height": 564
        },
        "outputId": "79763483-52c2-46a0-fc16-6892f5e9f54c"
      },
      "source": [
        "import pandas as pd\n",
        "df = pd.read_excel(\"/content/drive/My Drive/YapayzekaAtolyesi/EEVR_D-Evrak_iletisim_detay.xlsx\")\n",
        "df.tail(5)"
      ],
      "execution_count": 10,
      "outputs": [
        {
          "output_type": "execute_result",
          "data": {
            "text/html": [
              "<div>\n",
              "<style scoped>\n",
              "    .dataframe tbody tr th:only-of-type {\n",
              "        vertical-align: middle;\n",
              "    }\n",
              "\n",
              "    .dataframe tbody tr th {\n",
              "        vertical-align: top;\n",
              "    }\n",
              "\n",
              "    .dataframe thead th {\n",
              "        text-align: right;\n",
              "    }\n",
              "</style>\n",
              "<table border=\"1\" class=\"dataframe\">\n",
              "  <thead>\n",
              "    <tr style=\"text-align: right;\">\n",
              "      <th></th>\n",
              "      <th>Birim Adı</th>\n",
              "      <th>Evrak Türü</th>\n",
              "      <th>Doküman No</th>\n",
              "      <th>Kapsam</th>\n",
              "      <th>Geliş Şekli</th>\n",
              "      <th>Doküman Metin</th>\n",
              "      <th>Evrak Zaman</th>\n",
              "      <th>Evrak Sonuç Zaman</th>\n",
              "      <th>Hedef/Miat Tarihi</th>\n",
              "      <th>İşlem Süresi</th>\n",
              "      <th>Evrak Sonuç Durum</th>\n",
              "      <th>Doküman Adres Mahalle</th>\n",
              "      <th>Doküman Adres Pafta</th>\n",
              "      <th>Doküman Adres Ada</th>\n",
              "      <th>Doküman Adres Parsel</th>\n",
              "      <th>Doküman Yer Adresi</th>\n",
              "      <th>Süre Durumu</th>\n",
              "      <th>İşlem Durumu</th>\n",
              "      <th>İşlem Yapılan Konu</th>\n",
              "      <th>İşlem Yapılan Alt Konu</th>\n",
              "      <th>İşlem Yapılan Süre</th>\n",
              "      <th>İşlem Yapılan Süre Birimi</th>\n",
              "      <th>Kurum Görüşü</th>\n",
              "    </tr>\n",
              "  </thead>\n",
              "  <tbody>\n",
              "    <tr>\n",
              "      <th>16150</th>\n",
              "      <td>NaN</td>\n",
              "      <td>NaN</td>\n",
              "      <td>286038</td>\n",
              "      <td>Talep</td>\n",
              "      <td>Web Form</td>\n",
              "      <td>NaN</td>\n",
              "      <td>05/07/2019 10:43:58</td>\n",
              "      <td>08/07/2019 08:56:52</td>\n",
              "      <td>2019-07-08 16:23:42</td>\n",
              "      <td>2 gün 04:03:10.00</td>\n",
              "      <td>Tamamlandı-Olumlu</td>\n",
              "      <td>HASANPAŞA MAH.</td>\n",
              "      <td>136</td>\n",
              "      <td>494</td>\n",
              "      <td>52</td>\n",
              "      <td>NaN</td>\n",
              "      <td>Süresi İçinde</td>\n",
              "      <td>İş Bitti</td>\n",
              "      <td>Bilgi Belge Talepleri ve Yazışmalar</td>\n",
              "      <td>Dilekçe cevap yazıları</td>\n",
              "      <td>3.0</td>\n",
              "      <td>İş Günü</td>\n",
              "      <td>Sayın Sabina AZİZOVA; &amp;nbsp;Belediyemizin şu a...</td>\n",
              "    </tr>\n",
              "    <tr>\n",
              "      <th>16151</th>\n",
              "      <td>NaN</td>\n",
              "      <td>NaN</td>\n",
              "      <td>286095</td>\n",
              "      <td>Talep</td>\n",
              "      <td>Web Form</td>\n",
              "      <td>NaN</td>\n",
              "      <td>05/07/2019 10:49:38</td>\n",
              "      <td>08/07/2019 08:55:37</td>\n",
              "      <td>2019-07-08 16:36:26</td>\n",
              "      <td>2 gün 03:49:11.00</td>\n",
              "      <td>Tamamlandı-Olumlu</td>\n",
              "      <td>HASANPAŞA MAH.</td>\n",
              "      <td>136</td>\n",
              "      <td>494</td>\n",
              "      <td>52</td>\n",
              "      <td>NaN</td>\n",
              "      <td>Süresi İçinde</td>\n",
              "      <td>İş Bitti</td>\n",
              "      <td>Bilgi Belge Talepleri ve Yazışmalar</td>\n",
              "      <td>Dilekçe cevap yazıları</td>\n",
              "      <td>3.0</td>\n",
              "      <td>İş Günü</td>\n",
              "      <td>Sayın Dılbar ALIYEVA; &amp;nbsp;Belediyemizin şu a...</td>\n",
              "    </tr>\n",
              "    <tr>\n",
              "      <th>16152</th>\n",
              "      <td>NaN</td>\n",
              "      <td>NaN</td>\n",
              "      <td>289454</td>\n",
              "      <td>Talep</td>\n",
              "      <td>Web Form</td>\n",
              "      <td>Merhaba, ben Peyzaj Mimarlığı bölümünden yeni ...</td>\n",
              "      <td>08/07/2019 10:04:10</td>\n",
              "      <td>08/07/2019 10:18:14</td>\n",
              "      <td>2019-07-09 11:30:00</td>\n",
              "      <td>0 gün 01:48:14.00</td>\n",
              "      <td>Tamamlandı-Olumlu</td>\n",
              "      <td>HASANPAŞA MAH.</td>\n",
              "      <td>NaN</td>\n",
              "      <td>NaN</td>\n",
              "      <td>NaN</td>\n",
              "      <td>CUMHURİYET MAH., BAYRAKLI SOK., FATİH BEY APAR...</td>\n",
              "      <td>Süresi İçinde</td>\n",
              "      <td>İş Bitti</td>\n",
              "      <td>Bilgi Belge Talepleri ve Yazışmalar</td>\n",
              "      <td>Dilekçe cevap yazıları</td>\n",
              "      <td>3.0</td>\n",
              "      <td>İş Günü</td>\n",
              "      <td>Sayın Büşra IŞIK; &amp;nbsp;Belediyemizin şu an iç...</td>\n",
              "    </tr>\n",
              "    <tr>\n",
              "      <th>16153</th>\n",
              "      <td>NaN</td>\n",
              "      <td>NaN</td>\n",
              "      <td>295153</td>\n",
              "      <td>Talep</td>\n",
              "      <td>Web Form</td>\n",
              "      <td>İyi günler, iyi çalışmalar diliyorum. Aktif bi...</td>\n",
              "      <td>16/07/2019 08:39:06</td>\n",
              "      <td>16/07/2019 15:47:29</td>\n",
              "      <td>2019-07-17 16:00:00</td>\n",
              "      <td>2 gün 02:47:29.00</td>\n",
              "      <td>Tamamlandı-Olumlu</td>\n",
              "      <td>* Mahalle Seçilmedi</td>\n",
              "      <td>NaN</td>\n",
              "      <td>NaN</td>\n",
              "      <td>NaN</td>\n",
              "      <td>NaN</td>\n",
              "      <td>Süresi İçinde</td>\n",
              "      <td>İş Bitti</td>\n",
              "      <td>Bilgi Belge Talepleri ve Yazışmalar</td>\n",
              "      <td>Dilekçe cevap yazıları</td>\n",
              "      <td>3.0</td>\n",
              "      <td>İş Günü</td>\n",
              "      <td>Sayın Batuhan ERDOĞAN, &amp;nbsp;Belediyemizin şu ...</td>\n",
              "    </tr>\n",
              "    <tr>\n",
              "      <th>16154</th>\n",
              "      <td>NaN</td>\n",
              "      <td>NaN</td>\n",
              "      <td>307478</td>\n",
              "      <td>Talep</td>\n",
              "      <td>Web Form</td>\n",
              "      <td>İşsizim kadıköy belediyesinde çalışmak istiyorum.</td>\n",
              "      <td>25/07/2019 14:00:13</td>\n",
              "      <td>25/07/2019 14:06:52</td>\n",
              "      <td>2019-07-30 16:00:00</td>\n",
              "      <td>0 gün 01:06:52.00</td>\n",
              "      <td>Tamamlandı-Olumlu</td>\n",
              "      <td>* Mahalle Seçilmedi</td>\n",
              "      <td>NaN</td>\n",
              "      <td>NaN</td>\n",
              "      <td>NaN</td>\n",
              "      <td>NaN</td>\n",
              "      <td>Süresi İçinde</td>\n",
              "      <td>İş Bitti</td>\n",
              "      <td>Bilgi Belge Talepleri ve Yazışmalar</td>\n",
              "      <td>Dilekçe cevap yazıları</td>\n",
              "      <td>3.0</td>\n",
              "      <td>İş Günü</td>\n",
              "      <td>Belediyemizin şu an için memur ve kadrolu işçi...</td>\n",
              "    </tr>\n",
              "  </tbody>\n",
              "</table>\n",
              "</div>"
            ],
            "text/plain": [
              "      Birim Adı  ...                                       Kurum Görüşü\n",
              "16150       NaN  ...  Sayın Sabina AZİZOVA; &nbsp;Belediyemizin şu a...\n",
              "16151       NaN  ...  Sayın Dılbar ALIYEVA; &nbsp;Belediyemizin şu a...\n",
              "16152       NaN  ...  Sayın Büşra IŞIK; &nbsp;Belediyemizin şu an iç...\n",
              "16153       NaN  ...  Sayın Batuhan ERDOĞAN, &nbsp;Belediyemizin şu ...\n",
              "16154       NaN  ...  Belediyemizin şu an için memur ve kadrolu işçi...\n",
              "\n",
              "[5 rows x 23 columns]"
            ]
          },
          "metadata": {
            "tags": []
          },
          "execution_count": 10
        }
      ]
    },
    {
      "cell_type": "markdown",
      "metadata": {
        "id": "epX2Nei1JLsU",
        "colab_type": "text"
      },
      "source": [
        "Veri tabanımızda 16155 örnek, 23 kolon var."
      ]
    },
    {
      "cell_type": "code",
      "metadata": {
        "id": "s9xVgooQJMr4",
        "colab_type": "code",
        "colab": {
          "base_uri": "https://localhost:8080/",
          "height": 34
        },
        "outputId": "fc567c1b-0cab-4546-b724-beef9844eab9"
      },
      "source": [
        "df.shape"
      ],
      "execution_count": 18,
      "outputs": [
        {
          "output_type": "execute_result",
          "data": {
            "text/plain": [
              "(16155, 23)"
            ]
          },
          "metadata": {
            "tags": []
          },
          "execution_count": 18
        }
      ]
    },
    {
      "cell_type": "markdown",
      "metadata": {
        "id": "Re3-bpE59MIy",
        "colab_type": "text"
      },
      "source": [
        "Veri tiplerini görüntülüyelim"
      ]
    },
    {
      "cell_type": "code",
      "metadata": {
        "id": "YMlv0kNW9RKo",
        "colab_type": "code",
        "colab": {
          "base_uri": "https://localhost:8080/",
          "height": 425
        },
        "outputId": "c7d68e02-0bce-4313-ac59-1e909acf5d51"
      },
      "source": [
        "df.dtypes"
      ],
      "execution_count": 6,
      "outputs": [
        {
          "output_type": "execute_result",
          "data": {
            "text/plain": [
              "Birim Adı                            object\n",
              "Evrak Türü                           object\n",
              "Doküman No                            int64\n",
              "Kapsam                               object\n",
              "Geliş Şekli                          object\n",
              "Doküman Metin                        object\n",
              "Evrak Zaman                          object\n",
              "Evrak Sonuç Zaman                    object\n",
              "Hedef/Miat Tarihi            datetime64[ns]\n",
              "İşlem Süresi                         object\n",
              "Evrak Sonuç Durum                    object\n",
              "Doküman Adres Mahalle                object\n",
              "Doküman Adres Pafta                  object\n",
              "Doküman Adres Ada                    object\n",
              "Doküman Adres Parsel                 object\n",
              "Doküman Yer Adresi                   object\n",
              "Süre Durumu                          object\n",
              "İşlem Durumu                         object\n",
              "İşlem Yapılan Konu                   object\n",
              "İşlem Yapılan Alt Konu               object\n",
              "İşlem Yapılan Süre                  float64\n",
              "İşlem Yapılan Süre Birimi            object\n",
              "Kurum Görüşü                         object\n",
              "dtype: object"
            ]
          },
          "metadata": {
            "tags": []
          },
          "execution_count": 6
        }
      ]
    },
    {
      "cell_type": "markdown",
      "metadata": {
        "id": "w9bcScURI5Y-",
        "colab_type": "text"
      },
      "source": [
        "Kategorik kolonların özgün değerlerine bakalım (Bazıları nümerik olmalıydı)."
      ]
    },
    {
      "cell_type": "code",
      "metadata": {
        "id": "8lPYS1ep9gk-",
        "colab_type": "code",
        "colab": {
          "base_uri": "https://localhost:8080/",
          "height": 1000
        },
        "outputId": "4c37f2f3-5cd6-4939-c7fe-268cb69918ab"
      },
      "source": [
        "for col in df.columns:\n",
        "  if df[col].dtype.name == \"object\":\n",
        "    print(col, \":\", df[col].unique())\n",
        "  "
      ],
      "execution_count": 9,
      "outputs": [
        {
          "output_type": "stream",
          "text": [
            "Birim Adı : ['Basın Yayın ve Halkla İlişkiler Müdürlüğü' nan 'Bilgi İşlem Müdürlüğü'\n",
            " 'Destek Hizmetleri Müdürlüğü' 'Emlak ve İstimlak Müdürlüğü'\n",
            " 'Fen İşleri Müdürlüğü' 'Gençlik ve Spor Hizmetleri Müdürlüğü'\n",
            " 'Kentsel Tasarım Müdürlüğü' 'Kültür ve Sosyal İşler Müdürlüğü'\n",
            " 'Mali Hizmetler Müdürlüğü' 'Park ve Bahçeler Müdürlüğü'\n",
            " 'Plan ve Proje Müdürlüğü' 'Ruhsat ve Denetim Müdürlüğü'\n",
            " 'Sağlık İşleri Müdürlüğü' 'Sosyal Destek Hizmetleri Müdürlüğü'\n",
            " 'Temizlik İşleri Müdürlüğü' 'Ulaşım Hizmetleri Müdürlüğü'\n",
            " 'Yapı Kontrol Müdürlüğü' 'Yazı İşleri Müdürlüğü' 'Zabıta Müdürlüğü'\n",
            " 'Çevre Koruma ve Kontrol Müdürlüğü' 'Özel Kalem Müdürlüğü'\n",
            " 'İmar ve Şehircilik Müdürlüğü' 'İnsan Kaynakları ve Eğitim Müdürlüğü']\n",
            "Evrak Türü : ['Gelen Evrak' nan]\n",
            "Kapsam : ['Talep' nan 'Şikayet' 'İhbar' 'Öneri' 'Teşekkür']\n",
            "Geliş Şekli : ['Telefon' nan 'Web Form']\n",
            "Doküman Metin : ['İlgili adrese ikramlık talebinde bulunulmuştur.Bilgilerinize.' nan\n",
            " 'İlgili adrese ikramlık talep edilmiştir.Bilgilerinize. ' ...\n",
            " 'Merhaba, ben Peyzaj Mimarlığı bölümünden yeni mezun oldum, kariyerime bu kurumda Peyzaj Mimarı çalışanı olarak devam etmek istemekteyim. Olumlu sonuçlanmasını temenni etmekteyim.'\n",
            " \"İyi günler, iyi çalışmalar diliyorum. Aktif bir şekilde iş aramaktayım. CV'im ektedir. Bana uygun pozisyonunuz olursa geri dönüşünüzü bekliyorum.\"\n",
            " 'İşsizim kadıköy belediyesinde çalışmak istiyorum.']\n",
            "Evrak Zaman : ['02/01/2019 09:35:05' nan '02/01/2019 09:34:18' ... '08/07/2019 10:04:10'\n",
            " '16/07/2019 08:39:06' '25/07/2019 14:00:13']\n",
            "Evrak Sonuç Zaman : ['03/01/2019 11:00:08' nan '03/01/2019 10:56:33' ... '08/07/2019 10:18:14'\n",
            " '16/07/2019 15:47:29' '25/07/2019 14:06:52']\n",
            "İşlem Süresi : ['1 gün 02:30:08.00' nan '1 gün 02:26:33.00' ... '2 gün 03:49:11.00'\n",
            " '0 gün 01:48:14.00' '0 gün 01:06:52.00']\n",
            "Evrak Sonuç Durum : ['Tamamlandı-Olumlu' nan 'Tamamlandı-Olumsuz' 'İptal-Vazgeçme']\n",
            "Doküman Adres Mahalle : ['SAHRAYICEDİT MAH.' nan 'SUADİYE MAH.' 'ACIBADEM MAH.' 'FİKİRTEPE MAH.'\n",
            " 'HASANPAŞA MAH.' 'CADDEBOSTAN MAH.' '19 MAYIS MAH.' '* Mahalle Seçilmedi'\n",
            " 'RASİMPAŞA MAH.' 'GÖZTEPE MAH.' 'CAFERAĞA MAH.' 'ZÜHTÜPAŞA MAH.'\n",
            " 'FENERYOLU MAH.' 'OSMANAĞA MAH.' 'KOŞUYOLU MAH.' 'EĞİTİM MAH.'\n",
            " 'MERDİVENKÖY MAH.' 'DUMLUPINAR MAH.' 'ERENKÖY MAH.' 'BOSTANCI MAH.'\n",
            " 'KOZYATAĞI MAH.' 'FENERBAHÇE MAH.']\n",
            "Doküman Adres Pafta : ['175' nan '118' '140' '287' '142' '172/3' '49' '120' '151' '11' '152' '-'\n",
            " '104' '108/2' '132' '155/2' '143' '194' '145' '168' '179' '102' '7'\n",
            " '106/3' '90' '161' '67' '94' '97' '20' '174' '105' '47' '108/1' '193'\n",
            " '176' '177' '18' '154' '101' '107/1' '48' '178/1' '272' '192' '60' '139'\n",
            " '8' '100' '150' '57/1' '157' '114' '112' 'p.104' '160' '98' '122' '166'\n",
            " '56' '106/2' '141' '271' '21' '119' '50' '51' '185' '158' '283' '146'\n",
            " '12' '133' '170' '162' '109' '43' '131' '282' '148' '25' '124' '144'\n",
            " '191' '136' '180' '110' '106/1' '58' '149' '129' '70' '163' '172/1' 'U76'\n",
            " '130' '89' '206' '68' '156' '10' '30' '96' '28' '155/1' '103' '33' '32'\n",
            " '121' '29' '31' '165' '86' '173' '38' '187' '171' '265' '106/4' '6' '53'\n",
            " '36' '1' '77' '52' '286' '186' '284' '135' '0' '14' '172' '27' '61' '117'\n",
            " '45' '107/2' '65' '24' '184' '123' '73' '22' '183' '189' '167' '40' '113'\n",
            " '15' '5' '84' '154/1' '69' '39' '101-103' '164' '91' '267' '35' '178/2'\n",
            " '111' '125' '169' '270' '72' '296' '34' '116' '147' '57' '82' '159' '108'\n",
            " '44' '37' '81' '188' '75' '19' '71' '93' '87' '62' '230' '2' '23' '115'\n",
            " '59' '95' '88' '155' '195' '9' '4' '46' '83' '79' '138' '63' '266' '17'\n",
            " '137' '268' '227' '126' '76' '153' '16' '207' '269' '85' '*' '80' '3'\n",
            " '78' '66' '99' '106' '294' '194/1' '54' '74' '55' '92' 'p.67' '42'\n",
            " '194-286' '13' '182']\n",
            "Doküman Adres Ada : ['3157' nan '532' '1448' '3431' '482' '1415' '256' '1326' '420' '1274'\n",
            " '578' '0' '394' '440' '463' '1449' '1276' '767' '744' '1126/239' '1023'\n",
            " '1076' '1262' '3224' '3313' '432' '1204' '1198' '1167' '3189' '876'\n",
            " '1042' '3208' '3205' '275' '1133' '7' '838' '404' '219' '1406' '1273'\n",
            " '3240' '3109' '1438' '1026' '621' '1077' '764' '1452' '1318' '622' '712'\n",
            " '1249' '2976' '186' '1062' '1012' '3181' '284' '1119' '1086' '1235'\n",
            " '1199' '562' '2888' '589' '1243' '666' '1268' '861' '2990' '987' '3106'\n",
            " '672' '996' '539' '411' '901' '1064' '3133' '403' '2769' '382' '480'\n",
            " '680' '3142' '1068' '113' '536' '213' '627' '442' '728' '998' '620'\n",
            " '2398' '437' '1405' '719' '1208' '659' '3441' '1051' '398' '10' '466'\n",
            " '1173' '3115' '3151' '465' '1096' '501' '902' '878' '2972' '1171' '834'\n",
            " '1177' '3167' '1282' '3316' '1383' '837' '1236' '95' '441' '543' '601'\n",
            " '110' '751' '494' '3091' '1078' '645' '3179' '502' '1212' '1305' '410'\n",
            " '1015' '1410' '586' '1285' '468' '3309' '870' '393' '1451' '1126' '2225'\n",
            " '715' '3122' '641' '2948' '459' '830' '2959' '421' '506' '1057' '3134'\n",
            " '1232' '839' '3194' '664' '891' '1334' '8' '522' '140' '992' '195' '1172'\n",
            " '565' '1337' '142' '974' '848' '1200' '401' '151' '3108' '3121' '150'\n",
            " '1231' '1213' '3176' '841' '1404' '3367' '3315' '566' '1325' '412' '761'\n",
            " '1165' '136' '3152' '836' '3211' '350' '3125' '3159' '127' '723' '1440'\n",
            " '2173' '2969' '1' '3039' '1238' '198' '119' '846' '673' '875' '368'\n",
            " '1176' '367' '858' '365' '3197' '206' '1260' '1407' '1070' '1351' '211'\n",
            " '3253' '2379' '405' '956' '722' '2222' '2230' '1156' '53' '496' '1097'\n",
            " '2967' '3256' '28' '982' '1416' '16' '3237' '395' '883' '3139' '378'\n",
            " '3241' '3207' '217' '1264' '590' '3238' '843' '94' '993' '564' '951'\n",
            " '1441' '3071' '779' '3247' '531' '629' '3003' '3076' '1170' '864' '1153'\n",
            " '1099' '399' '1148' '1095' '3156' '3161' '361' '315' '704' '1112' '1040'\n",
            " '3100' '109' '478' '1302' '602' '1016' '720' '3242' '1022' '1726' '396'\n",
            " '757' '850' '3144' '3154' '3168' '662' '860' '949' '690' '714' '1400'\n",
            " '3164' '3111' '197' '223/16' '356' '3149' '324' '138' '146' '1219' '521'\n",
            " '3231' '263' '431' '3408' '3086' '700' '3123' '691' '2952' '1166' '887'\n",
            " '114' '490' '737' '1267' '2961' '962' '373' '3113' '2889' '406' '419'\n",
            " '1120' '710' '495' '648' '857' '265' '2395' '1430' '1106' '1107' '607'\n",
            " '1338' '1240' '3188' '2983' '2997' '1352' '215' '3246' '2977' '392'\n",
            " '1403' '538' '833' '1007' '19' '40' '3063' '832' '642' '1092' '1345'\n",
            " '364' '1266' '2982' '190' '442/57' '184' '182' '3180' '80' '79' '70'\n",
            " '988' '267' '1333' '3398' '3407' '1435' '1335' '973' '1259' '157' '592'\n",
            " '1248' '435' '3204' '193' '3201' '3227' '363' '865' '3177' '99' '3401/3'\n",
            " '3401' '384' '279' '655' '670' '212' '899' '391' '1439' '3068' '2187'\n",
            " '3030' '383' '1288' '3241/209' '3169' '106' '2364' '3090' '1278' '2975'\n",
            " '91' '3094' '687' '643' '3097' '548' '2974' '3203/200' '635' '1300' '563'\n",
            " '2179' '500' '257' '984' '3112' '985' '1442' '330' '1422' '3198' '1434'\n",
            " '584' '3868' '1446' '400' '665' '1154' '1210' '130' '3414' '594' '1216'\n",
            " '535' '1280' '1098' '896' '1437' '675' '3138' '1245/16' '428' '3252'\n",
            " '105' '118' '409' '879' '124' '1414' '1058' '347' '1425' '467' '746'\n",
            " '667' '3203' '2963' '3411' '2984' '696' '108' '712/26' '1286' '87' '1315'\n",
            " '760' '122' '72' '3257' '719/72' '408' '1079' '762' '3228' '1085' '3117'\n",
            " '1014' '1017' '226' '3229' '316' '191' '346' '1113' '443' '1408' '626'\n",
            " '1413' '3191' '1409' '862' '969' '963' '625' '693' '1306' '204' '724'\n",
            " '1244' '703' '3402' '1436' '1214' '3397' '2329' '3183' '2986' '2955'\n",
            " '1271' '886' '2397' '223' '475' '1021' '332' '68' '25' '529' '3175'\n",
            " '1245' '717' '612' '292' '702' '353' '1327' '1237' '657' '413' '3307'\n",
            " '716' '351' '976' '1162' '3092' '308' '1055' '2895' '173 PARSEL' '968'\n",
            " '646' '863' '2971' '957' '1163' '1217' '1303' '2737' '214' '1116' '661'\n",
            " '56' '1336' '1205' '132' '656' '3294' '376' '2940' '859' '851' '1142'\n",
            " '681' '1018' '516' '126' '1221' '144' '76' '872' '3148' '477' '528'\n",
            " '3119' '3135' '1418' '2879' '3153' '1144' '523' '147' '3158' '3243' '628'\n",
            " '160' '3096' '544' '1445' '289' '893' '831' '2346' '234' '1065' '203'\n",
            " '1239' '1201' '3141' '3034' '3145' '3310' '1020' '1245 / 17-16-14' '768'\n",
            " '1130' '1284' '1197' '3244' '3403' '613' '65' '1211' '1191' '508' '1388'\n",
            " '1025' '139' '4' '63' '187' '162' '961' '1069' '230' '1317' '727' '3450'\n",
            " '2981' '1091' '155' '3218' '343' '596' '121' '418' '3060' '997' '3178'\n",
            " '474' '890' '1164' '2999' '259' '258' '2992' '148' '313' '2176' '1229'\n",
            " '295' '201' '260' '152' '644' '2' '1222' '2337' '306' '3118' '12' '2277'\n",
            " '2752' '486' '3215' '1370' '3393' '3093' '960' '1855' '3293' '707' '2980'\n",
            " '450' '1084' '668' '3137' '141' '547' '13' '3124' '37' '713' '3057'\n",
            " '3095' '38' '1402' '2336' '507' '3143' '3308' '650' '2885' '449' '3103'\n",
            " '2991' '331' '2899' '660' '224' '43' '208' '451' '464' '493' '264' '1141'\n",
            " '34718' '60' '881' '145' '975' '3136' '866' '3283' '218' '181' '73'\n",
            " '2288' '473' '357' '1150' '3225' '117' '3423' '882' '2941' '280' '159'\n",
            " '484' '2963/47' '349' '2978' '540' '3214' '1155' '1153 - 109' '1431'\n",
            " '3199' '345' '476' '*' '192' '1310' '1041' '2183' '341' '163' '111'\n",
            " '1401' '17' '1168' '335' '323' '318' '446' '3006' '1147' '1215' '1121'\n",
            " '1044' '981' '205' '778' '2229' '2251' '671' '3146' '950' '2740' '161'\n",
            " '3044' '93' '2886' '207' '42' '3058' '322' '26' '874' '873' '2956' '599'\n",
            " '36' '210' '1281' '1175' '504' '669' '3404' '447' '134' '726' '1043'\n",
            " '3196' 'B PARSEL' '176' '2998' '240' '3105' '1432' '1169' '3099' '603'\n",
            " '244' '527' '718' '326' '892' '97' '2399' '647' '252' '143' '1117' '75'\n",
            " '3147' '44' '232' '438' '512' '980' '1087' '682' '362' '1081' '196'\n",
            " '2968' '1145' '32' '3429' '1115' '329' '302' '339' '104' '1856' '123'\n",
            " '1233' '2177' '222' '360' '3165' '15' '3217' '414' '48' '3031' '156'\n",
            " '178' '835' '637' '314' '338' '3173' '3116' '1094' '2381' '49' '3098'\n",
            " '497/24' '970' '450/61' '1853' '730' '995' '334' '614']\n",
            "Doküman Adres Parsel : ['148' nan '16' '221' '7' '9' '190' '37' '23' '13' '18' '41' '0' '2' '17'\n",
            " '24' '54' '50' '3' '157' '69' '106' '48' '118' '169' '196' '34' '26' '30'\n",
            " '33' '79' '1' '10' '82' '111' '102' '35' '171' '91' '218' '62' '129'\n",
            " '186' '72' '88' '137' '172' '132' '55' '5' '80' '25' '139' '64' '279'\n",
            " '90' '27' '12' '8' '185' '243' '4' '19' '81' '78' '56' '38' '42' '275'\n",
            " '84' '159' '153' '6' '201' '122' '66' '31' '22' '44' '67' '57' '210'\n",
            " '273' '252' '144' '29' '21' '51' '11' '89' '39' '117' '76' '20' '43' '97'\n",
            " '140' '52' '74' '151' '208' '15' '121' '40' '101' '59' '58' '96' '116'\n",
            " '32' '293' '203' '85' '147' '98' '104' '152' '228' '128' '164' '77' '149'\n",
            " '287' '94' '175' '141' '60' '45' '138' '73' '63' '270' '181' '184' '70'\n",
            " '109' '174' '126' '114' '177' '92' '395' '318' '123' '127' '71' '366'\n",
            " '189' '282' '28' '145' '202' '161' '14' '53' '65' '99' '68/B' '47' '133'\n",
            " '107' '176' '244' '230' '213' '170' '237' '150' '158' '142' '165' '166'\n",
            " '108' '110' '36' '120' '134' '263' '155' '344' '112' '179' '197' '135'\n",
            " '160' '103' '131' '46' '214' '68' '199' '217' '87' '192' '75' '162' '163'\n",
            " '271' '124' '86' '130' '329' '248' '194' '198' '180' '154' '182' '211'\n",
            " '281' '20 VE 21' '49' '231' '61' '83' '229' '183' '191' '264' '136' '232'\n",
            " '105' '100' '242' '361' '234' '233' '311' '207' '167' '206' '125' '209'\n",
            " '93' '249' '216' '146' '343' '168' '247' '205' '173' '357' '239' '119'\n",
            " '204' '340' '156' '220' '113' '350' '257' '321' '267' '356' '374' '224'\n",
            " '235' '369' '304' '302' '334' '178' '246' '187' '397' '259' '227' '193'\n",
            " '295' '95' '307' '200' '250' '223' '280' '225']\n",
            "Doküman Yer Adresi : [nan 'ACIBADEM MAH., TUR SK. No : 3/9, KADIKÖY-İSTANBUL'\n",
            " 'İNÖNÜ, ULUSU, FATIH No : 101/10, KADIKÖY-İSTANBUL' ...\n",
            " '19 MAYIS MAH., OKUR SK. No : 16/6, Kat : 3, KADIKÖY-İSTANBUL, 5093239902'\n",
            " 'SUADİYE MAH., HALİMAĞA SK., OZEN No : 21/9, KADIKÖY-İSTANBUL, 1576039679'\n",
            " 'CUMHURİYET MAH., BAYRAKLI SOK., FATİH BEY APARTMANI, 6/2, KARTAL-İSTANBUL']\n",
            "Süre Durumu : ['Süresi İçinde' nan 'Süreyi Aştı']\n",
            "İşlem Durumu : ['İş Bitti' nan]\n",
            "İşlem Yapılan Konu : ['Genel Hizmetler' nan 'Talep, Şikayet ve Görüşler'\n",
            " 'Bilgi Belge Talepleri ve Yazışmalar'\n",
            " 'Afiş, Billboard ve Pankart Basılması, Asılması ve Kaldırılması Talepleri'\n",
            " 'E-Uygulama ve Yazılım Çalışmaları'\n",
            " 'Veri girişi İşleme ve Aktarma İşleri' 'Araç Talebi'\n",
            " 'Talep ve Şikayetler' 'Belediyeye Ait Taşınmazların Kiraya Verilmesi'\n",
            " '6306 Sayılı Kanun Çerçevesinde Pay Satışı İşlemleri'\n",
            " 'Yeni Bina Önü Kaldırım Yapımı İşlemleri'\n",
            " 'Yağmur suyu Kanal Yapım, Bakım ve Temizliği İşlemleri'\n",
            " 'Kaldırım Bakım ve Onarım İşi' 'Asfalt Kaplama Yapım İşlemleri'\n",
            " 'Cadde ve Sokaklara Bakım Onarım İşlemleri' 'Yol Daraltma Talepleri'\n",
            " 'Karla Mücadele İşlemleri' 'Asfalt Bakım ve Onarım İşlemleri'\n",
            " 'Engelli Park Yeri Yapımları' 'Okulların Bakım ve Onarımı İşi'\n",
            " 'Belediyemiz Hizmet Binaları ve Kamu Binaları Bakım ve Onarım İşi'\n",
            " 'Mural Festivali'\n",
            " 'Kültür Merkezlerinin Salon Tahsis Taleplerinin Karşılanması'\n",
            " 'Dış Mekan Etkinlikleri' 'Bildirim İşlemleri-Web'\n",
            " 'Bina Vergisi Bildirim Örneği Verilmesi'\n",
            " 'Adres ve Kimlik Tespiti Taleplerinin Karşılanması'\n",
            " 'Tahakkuk Düzeltme İşlemlerinin Yapılması (Tahakkuk)'\n",
            " 'Bildirim İşlemleri' 'Yasal Muafiyetlerinin Uygulanması'\n",
            " 'Tahsilat Makbuz Sureti' 'Vergi Borcu Uzlaşmaları'\n",
            " 'İşyeri Kapanış Beyanı Verilmesi'\n",
            " 'Tahsilat Terkin ve Düzeltme İşlemlerinin Yapılması'\n",
            " 'Arsa Metrekare Birim Bedellerinin Bildirilmesi'\n",
            " 'Mahsup ve Ödeme İadelerinin Yapılması' 'Tapuya Rayiç Bedel Bildirilmesi'\n",
            " 'Tecil ve Taksitlendirme İşlemlerinin Yapılması' 'İcra Servisi Talepleri'\n",
            " 'Haciz Varakası Düzenlenmesi' 'Ödeme İşlemleri'\n",
            " 'Eski Sicil Bilgilerinin TCKN/VKN Bilgilerine Bağlanması'\n",
            " 'Ağaç Budama ve Kesim ile İlgili Talepleri'\n",
            " 'Ağaç Dikim ve Yeşil Alanların Düzenlenme İşlemlerinin Yapılması'\n",
            " 'İzinsiz Ağaç Kesim İşlemleri'\n",
            " 'Bank, Oyun gurubu, Spor Aletleri ve Kent Mobilyalarının Yerleşim Alanlarına Koyulması ve Tamir Edilmesi'\n",
            " 'Ağaçların İlaçlanması ile ilgili Şikayet ve Talepler'\n",
            " 'Tescilli Parsellere İlişkin İşlemler' 'Ağaç Nakil Taleplerinin Alınması'\n",
            " 'İmar Durumu Verilmesi' 'Cadde Sokak İsimlendirme İşlemleri'\n",
            " 'Adres Tespit, Numarataj Belirleme İşlemlerinin Yapılması'\n",
            " 'Resmi Kurumların Veya Gerçek/Tüzel Kişilerin Görüş Talepleri'\n",
            " 'Resmi Kurumlardan, Diğer Müdürlüklerden Gelen Adres Tespit, Numarataj Belirleme İşlemlerinin Yapılması'\n",
            " 'Mahkeme ve Resmi Kurum İşlemleri' 'Kurum İçi-Dışı Bilgi Belge Talepleri'\n",
            " 'İşyerleri ile İlgili Talep ve Şikayetler'\n",
            " 'Başruvu Sahibi Bilgi Belge Talebi Cevabı' 'Görüş Sorma'\n",
            " 'Poliklinik Hizmetleri'\n",
            " 'Sağlık Hizmetleri ve Personelleri ile İlgili Talep, Şikayet, Öneri ve Teşekklürler'\n",
            " 'Yuva İşlemleri' 'Sosyoekonomik Yardımların Yapılması'\n",
            " 'Molozların Toplanması, Budanmış Ağaç Dalları, Evsel Atık Eşyaların ve Bahçe Atıklarının Alınması'\n",
            " 'Çöp Konteyneri İşlemlerinin Yapılması'\n",
            " 'Proje ve İskan Aşamasında Çöp Konteyneri Talepleri'\n",
            " 'Temizlik Hizmetleri İle İlgili Talep ve Şikayetler'\n",
            " 'Yapı Denetiminin Yapılması İşlemleri' 'Yapı Kayıt Belgesi İşlemleri'\n",
            " 'İş Deneyim Belgesi Düzenlenmesi İşlemi'\n",
            " 'Kentsel Dönüşüm Projesi Kapsamında Kira Yardımı yapılması için Başvuruların Alınması, İncelenmesi ve Bağlanması'\n",
            " 'Zabıta Talep ve Şikayetler İşlemleri' 'Zabıta Başvuru İşlemleri'\n",
            " 'Pazar Denetim işlemleri' 'Tebligatlar' 'Çevre Denetim İşlemleri'\n",
            " 'Atık Yönetimi Denetim İşlemleri' 'Kumbara ve Konteyner Temini'\n",
            " 'Tabela, Afiş El İlanı Başvurularının Alımı'\n",
            " 'Atık Yönetimi ile İlgili Talep ve Şikayetler' 'Sıfır Atık'\n",
            " 'Atık Yönetimi İşleri' 'Atık Yönetimi Etkinlik ve Eğitim İşlemleri'\n",
            " 'Salon Tahsis Talepleri'\n",
            " 'Yapı Ruhsatı Düzenlenmesi (Tadilat Ruhsatı) İşlemi'\n",
            " 'Avan Projenin Onaylanması İşlemi'\n",
            " 'Eski Eser veya Eski Esere Komşu Parsel Projelerinin Kurul Öncesi Tasdiki İşlemi'\n",
            " 'Mimari Proje Üzerinde Düzeltme İşlemi'\n",
            " 'Tescilli Parseldeki Aykırılık İşlemleri'\n",
            " 'Yapı Ruhsatı Düzenlenmesi (Yeni Yapı Ruhsatı) İşlemi'\n",
            " 'Statik İnceleme Yapılması'\n",
            " 'Yapıya İlişkin Bilgi Formu (YİBF) Değişikliği'\n",
            " 'Proje Suret Tasdiki (Aslı Gibidir Onayı) İşlemi'\n",
            " 'Kat İrtifakı Kurulması İşlemi' 'Vatandaştan Gelen İş Başvuru İşlemleri'\n",
            " 'Kamu Çalışanlarının Nakil Talepleri İşlemleri' 'İşçi Alımı']\n",
            "İşlem Yapılan Alt Konu : ['Taziye Hizmetleri' nan 'Talep'\n",
            " 'Telefon Numarasının Sistemden Çıkarılması'\n",
            " 'Telefon Numarasının Sisteme Eklenmesi' 'Şikayet'\n",
            " 'Billboard, Pankart ve Afişlerin Kaldırılması' 'Bilgi ve Belge Talepleri'\n",
            " 'Web, Mobil, Masaüstü Tasarım, Yazılım ve Entegrasyon Talepleri'\n",
            " 'Bilgi Belge Talep' 'Talep ve Şikayetler' 'Araç Tahsisi Okul'\n",
            " 'Araç Tahsisi Resmi Kurum' 'Araç Tahsisi Vatandaş' 'Bayrak Şikayetleri'\n",
            " 'Teşekkür' 'Personel Şikayetleri' 'Vatandaştan Gelen Talepler'\n",
            " 'Günlük İzin Başvurusu' 'Izgara, Baca ve Kanal Yapım İşi'\n",
            " 'Izgara Temizliği' 'Sınır Elemanı Talebi' 'Baca ve Kanal Temizliği'\n",
            " 'Izgara, Baca ve Kanal Onarım İşi' 'Delinatör (Esnek) Talebi'\n",
            " 'Bank, Oyun gurubu, Spor Aletleri ve Kent Mobilyaları ile İlgili Talep ve Şikayetler'\n",
            " 'Diğer' 'Kültür Merkezi STK ve Okulların Başvurusu' 'Görüş'\n",
            " 'Kültür Merkezi Seminer Başvurusu' 'Sinema Geceleri'\n",
            " 'Emlak Vergisi Bildirimi (Bina)' 'Mükellefe Bina Beyanı Örneği Verilmesi'\n",
            " 'Emlak Vergisi Bildirimi (Arsa)' 'Emekliler İçin Tek Mesken Muafiyeti'\n",
            " 'İlan Reklam Bildirimi' 'Çevre Temizlik Bildirimi'\n",
            " 'Hiçbir Geliri Olmayanlar İçin Tek Mesken Muafiyeti'\n",
            " 'Tahakkuk Düzeltme İşlemleri-İlan ve Reklam'\n",
            " 'Tahakkuk Düzeltme İşlemleri-ÇTV' 'Tahakkuk Düzeltme İşlemleri-Bina'\n",
            " 'Dilekçe cevap yazıları'\n",
            " 'Çevre Temizlik Vergisi Tahakkuk ve Tahsilat Düzeltme ve Terkin İşlemleri'\n",
            " 'Bina İçin Rayiç Bedel Bildirim' 'Tahakkuk Düzeltme İşlemleri-Arsa'\n",
            " 'Bina Vergisi Tahakkuk ve Tahsilat Düzeltme ve Terkin İşlemleri'\n",
            " 'Engelliler İçin Tek Mesken Muafiyeti' 'Kısıtlılık Uygulamaları'\n",
            " 'Eski Sicilin Gerçek Kişiye Bağlanması' 'Diğer Talep ve Şikayetler'\n",
            " 'Ağaç Budaması (özel mülkiyet)' 'Yeşil Alan Düzenleme'\n",
            " 'Ağaç Kesimi (özel mülkiyet)' 'Ağaç Budama (kamu)' 'Ağaç Dikim'\n",
            " 'Parklardaki Aydınlatma ile İlgili Talep ve Şikayetler'\n",
            " 'Oyun Grubu ve Kent Mobilyalarının Onarımı'\n",
            " 'Çam Kese Tırtılı ile İlgili Talepler' 'Bank Kaldırılması'\n",
            " 'Ağaç Kesim İle İlgili Talep ve Şikayetler' 'Ağaç Budama (Kamu)'\n",
            " 'Park ve Yeşil Alanlardaki Ağaç ve Ağaççık İlaçlama Talepleri'\n",
            " 'Bank Konulması' 'Ağaç Kesimi (Kamu)'\n",
            " 'Havuz, Heykel ve Tesisat ile İlgili Talep ve Şikayetler'\n",
            " 'Spor Sahaları ile İlgili Talep ve Şikayetler'\n",
            " 'Personel ile İlgili Teşekkür ve Şikayetler' 'Özel Mülkiyete Ait Ağaçlar'\n",
            " 'Park ve Yeşil Alanlardaki Sinek İlaçlama Talepleri'\n",
            " 'Kamu Ağaç Budama ve Kesim' 'Özel Mülkiyet Ağaç Budama ve Kesim'\n",
            " 'Kamuya Ait Ağaçlar'\n",
            " 'Amerikan Beyaz Kelebeği Tırtılı ile İlgili Talepler'\n",
            " 'Oyun Grubu Konulması' 'İhbar' 'Çöp Kovası Konulması'\n",
            " 'Yeşil Dişbudak Tırtılı İle İlgili Talepler'\n",
            " 'Reçine Kelebeği ile İlgili Talepler'\n",
            " 'Parkların Temizliği Hakkında Talep ve Şikayetler'\n",
            " 'Bitki Sulama İşlemleri' 'Yazılı İmar Durumu Verilmesi'\n",
            " 'Diğer Numarataj İşlemleri'\n",
            " 'Gerçek Veya Tüzel Kişilerin 1/5000 Veya 1/1000 Ölçekli Plan Teklifine İlişkin Görüş Verilmesi'\n",
            " 'UAVT Adres Kodu İşlemleri'\n",
            " 'Gerçek Veya Tüzel Kişilerin Bilgi ve Belge Talebi'\n",
            " 'Yapı Ruhsatı Numarataj İşlemleri'\n",
            " 'Evde Bakım, Hasta Nakil ve Ambulans Hizmetleri'\n",
            " 'Sağlık Hizmetleri ve Personelleri ile İlgili Şikayetler'\n",
            " 'Yuva Başvuruları' 'Talep, Öneri ve Şikayetler'\n",
            " 'Budanmış Ağaç Dalları ve Bahçe Atıklarının Alınması'\n",
            " 'Yer Değiştirilmesi İşlemleri' 'Molozların Alınması'\n",
            " 'Yenileme ve Yeni Konteyner İşlemleri' 'Evsel Atık Toplanması'\n",
            " 'Eski Ev Eşyalarının Kaldırılması'\n",
            " 'Personel ile İlgili Talep, Şikayt ve Teşekkür'\n",
            " 'Cadde ve Sokakların Yıkanması' 'Tamir İşlemleri'\n",
            " 'Cadde ve Sokakların Süpürülmesi' 'Mıntıka Temizliği'\n",
            " 'Yıkanması İşlemleri' 'Sahipsiz Ölü Hayvanların Alınması'\n",
            " 'Kamu Alanlarının Yıkanması' 'Metruk Bina Şikayetleri'\n",
            " 'İzinsiz Tadilat Şikayetleri' 'Sınır İhlali Şikayetleri'\n",
            " 'Yapım Aşamasındaki Yapıların Denetimi'\n",
            " 'Kaçak ve Ruhsata Aykırı Yapıların Denetimi'\n",
            " 'Konut Malikleri Kira Yardımı' 'İnşaat Gürültü Şikayetleri'\n",
            " 'Kaldırım İşgali' 'Muhtelif Şikayetler' 'İşyeri Denetim Talepleri'\n",
            " 'Önlem Alınmadan Yapılan İnşaat Şikayetleri'\n",
            " 'Moloz ve Çöplerin Uygunsuz Alanlara Atılması' 'Dilenci Şikayetleri'\n",
            " 'Seyyar Satıcı Şikayetleri' 'Pazar Yeri Şikayetleri' 'Yol İşgalleri'\n",
            " 'Atık Su Boşaltım İşlemleri' 'Gürültü'\n",
            " 'Mesai Saatleri Dışında Çalışma Yapan İnşaat Şikayetleri'\n",
            " 'Plakasız Hurda Araç Şikayetleri' 'Pazar Yeri Denetim'\n",
            " 'Apartman Şikayetleri' 'Müdürlüklerden Gelen Tebligatlar'\n",
            " 'Mangal Şikayetleri' 'Kurban Satış Yeri Şikayetleri'\n",
            " 'Çevresel Gürültü Kontrolü' 'Elektromanyetik Kirliliğin Kontrolü'\n",
            " 'Tekstil Atıklar' 'Ambalaj Atıkları' 'Görüntü Kirliliği'\n",
            " 'Koku, Duman Kirliliği' 'Cam Ambalaj Atıkları' 'Atık Piller'\n",
            " 'Hava Kirliliği Kontrolü' 'Diğer Atıklar' 'Çevre Festivali'\n",
            " 'Yapı Ruhsatı Düzenlenmesi (Tadilat Ruhsatı) İşlemi İkinci Başvuru'\n",
            " 'Yapı Ruhsatı Düzenlenmesi (Güçlendirme Ruhsatı) İşlemi İlk Başvuru'\n",
            " 'Tescilli Parseldeki Tescilli Yapı İşlemleri'\n",
            " 'İkinci Başvuru (Eksik Evrak)' 'Birinci Başvuru']\n",
            "İşlem Yapılan Süre Birimi : ['Gün' nan 'İş Günü' 'Ay' 'Dakika' 'Saat']\n",
            "Kurum Görüşü : ['Sayın Mert Aydın, &nbsp;&nbsp;&nbsp;&nbsp;&nbsp;&nbsp;&nbsp;&nbsp;&nbsp;&nbsp;&nbsp;&nbsp;&nbsp;&nbsp;&nbsp;&nbsp;İlgi talep doğrultusunda 02.01.2019 tarihinde taziye evi ziyaret edilerek ikramlıklar iletilmiştir. İlginize teşekkür eder, iyi günler dileriz. Saygılarımızla Kadıköy Belediyesi Çağrı Merkezi 444 55 22'\n",
            " 'Sayın İrem KOÇ; &nbsp;&nbsp;İlgili talep doğrultusunda 02.01.2019 tarihinde taziye evi ziyaret edilerek ikramlıklar iletilmiştir.İlginize teşekkür eder iyi günler dileriz. &nbsp;&nbsp;Saygılarımızla. &nbsp;Kadıköy Belediyesi &nbsp;Çağrı Merkezi &nbsp; 444 55 22'\n",
            " 'Sayın Korhan Bey; &nbsp; &nbsp; &nbsp;&nbsp;İlgili talep doğrultusunda 02.01.2019 tarihinde taziye evi ziyaret edilerek ikramlıklar iletilmiştir.İlginize teşekkür eder iyi günler dileriz. &nbsp;&nbsp;Saygılarımızla. &nbsp;Kadıköy belediyesi &nbsp;Çağrı Merkezi &nbsp; 444 55 22'\n",
            " ...\n",
            " \"Sayın Büşra IŞIK; &nbsp;Belediyemizin şu an için memur ve kadrolu işçi alımına yönelik herhangi bir çalışması bulunmamaktadır. Yerleştirmeler, memur alımları için adayların KPSS&rsquo;de aldığı puan doğrultusunda yaptıkları tercih uyarınca ÖSYM tarafından gerçekleştirilmektedir. Sözleşmeli memur alımları ile ilgili olarak kamu kurumlarının ilanlarını Devlet Personel Başkanlığı'nın resmi internet sayfasında yer alan Kamu Personel İlanları bölümünden takip edebilirsiniz. İşçi personel alımlarında, KPSS puanı doğrultusunda kamu kurumlarının, İş Kurumu&rsquo;nda ilanının olması gerekmektedir. Tüm statüdeki alımlar, Devlet Personel Başkanlığı internet sitesinde ilana çıkılarak yapılmaktadır. 1 Ocak 2018 tarihli ve 30288 sayılı Resmi Gazete&rsquo;de yayımlanan 696 Sayılı KHK sonrası kamu kurumlarında personele dayalı hizmet alımı sona erdirildiğinden öz geçmişleriniz kurumumuzdaki müdürlüklere, hizmet alımında değerlendirilmek suretiyle yönlendirilememektedir. Kadıköy Belediyesi, belediye şirketi işçisi ihtiyacını, KASDAŞ üzerinden İşkur&rsquo;a ilan vermek suretiyle yapmaktadır. Kurumumuzun ve diğer kamu kurumlarının alım ilanlarını İş-Kur'un &quot;Kurum Dışı İlanlar&quot; sayfasından takip edebilirsiniz. Bilgilerinize rica olunur. İlginize teşekkür eder, iyi günler dileriz. Saygılarımızla Kadıköy Belediyesi Çağrı Merkezi 444 55 22&nbsp;\"\n",
            " \"Sayın Batuhan ERDOĞAN, &nbsp;Belediyemizin şu an için memur ve kadrolu işçi alımına yönelik herhangi bir çalışması bulunmamaktadır. Yerleştirmeler, memur alımları için adayların KPSS&rsquo;de aldığı puan doğrultusunda yaptıkları tercih uyarınca ÖSYM tarafından gerçekleştirilmektedir. Sözleşmeli memur alımları ile ilgili olarak kamu kurumlarının ilanlarını Devlet Personel Başkanlığı'nın resmi internet sayfasında yer alan Kamu Personel İlanları bölümünden takip edebilirsiniz. İşçi personel alımlarında, KPSS puanı doğrultusunda kamu kurumlarının, İş Kurumu&rsquo;nda ilanının olması gerekmektedir. Tüm statüdeki alımlar, Devlet Personel Başkanlığı internet sitesinde ilana çıkılarak yapılmaktadır. &nbsp; &nbsp;1 Ocak 2018 tarihli ve 30288 sayılı Resmi Gazete&rsquo;de yayımlanan 696 Sayılı KHK sonrası kamu kurumlarında personele dayalı hizmet alımı sona erdirildiğinden öz geçmişleriniz kurumumuzdaki müdürlüklere, hizmet alımında değerlendirilmek suretiyle yönlendirilememektedir. &nbsp;Kadıköy Belediyesi, belediye şirketi işçisi ihtiyacını, KASDAŞ üzerinden İşkur&rsquo;a ilan vermek suretiyle yapmaktadır. Kurumumuzun ve diğer kamu kurumlarının alım ilanlarını İş-Kur'un &quot;Kurum Dışı İlanlar&quot; sayfasından takip edebilirsiniz. İlginize teşekkür eder, iyi günler dileriz. Kadıköy Belediyesi&nbsp;&nbsp;&nbsp;&nbsp;&nbsp;&nbsp; Çağrı Merkezi 444 55 22 &nbsp;\"\n",
            " 'Belediyemizin şu an için memur ve kadrolu işçi alımına yönelik herhangi bir çalışması bulunmamaktadır. Yerleştirmeler, memur alımları için adayların KPSS\\x92de aldığı puan doğrultusunda yaptıkları tercih uyarınca ÖSYM tarafından gerçekleştirilmektedir. Sözleşmeli memur alımları ile ilgili olarak kamu kurumlarının ilanlarını Devlet Personel Başkanlığı\\'nın resmi internet sayfasında yer alan Kamu Personel İlanları bölümünden takip edebilirsiniz. İşçi personel alımlarında, KPSS puanı doğrultusunda kamu kurumlarının, İş Kurumu\\x92nda ilanının olması gerekmektedir. Tüm statüdeki alımlar, Devlet Personel Başkanlığı internet sitesinde ilana çıkılarak yapılmaktadır. 1 Ocak 2018 tarihli ve 30288 sayılı Resmi Gazete\\x92de yayımlanan 696 Sayılı KHK sonrası kamu kurumlarında personele dayalı hizmet alımı sona erdirildiğinden öz geçmişleriniz kurumumuzdaki müdürlüklere, hizmet alımında değerlendirilmek suretiyle yönlendirilememektedir. Kadıköy Belediyesi, belediye şirketi işçisi ihtiyacını, KASDAŞ üzerinden İşkur\\x92a ilan vermek suretiyle yapmaktadır. Kurumumuzun ve diğer kamu kurumlarının alım ilanlarını İş-Kur\\'un \"Kurum Dışı İlanlar\" sayfasından takip edebilirsiniz. Bilgilerinize rica ederim.']\n"
          ],
          "name": "stdout"
        }
      ]
    },
    {
      "cell_type": "markdown",
      "metadata": {
        "id": "H9fw_LRdHIdO",
        "colab_type": "text"
      },
      "source": [
        "## Kayıp Veri Temizleme"
      ]
    },
    {
      "cell_type": "markdown",
      "metadata": {
        "id": "d_ML6QscIjGu",
        "colab_type": "text"
      },
      "source": [
        "*Döküman Metin* kolonunun ~%15'i boş, bunlar temizlenmeli."
      ]
    },
    {
      "cell_type": "code",
      "metadata": {
        "id": "moNn_tCZHQao",
        "colab_type": "code",
        "colab": {
          "base_uri": "https://localhost:8080/",
          "height": 34
        },
        "outputId": "88cb82bd-3bb6-4d79-c6e6-bdabf1409ae2"
      },
      "source": [
        "sum(df[\"Doküman Metin\"].isna())/len(df)*100"
      ],
      "execution_count": 25,
      "outputs": [
        {
          "output_type": "execute_result",
          "data": {
            "text/plain": [
              "15.122253172392448"
            ]
          },
          "metadata": {
            "tags": []
          },
          "execution_count": 25
        }
      ]
    },
    {
      "cell_type": "code",
      "metadata": {
        "id": "MGOmOnyEKoZg",
        "colab_type": "code",
        "colab": {
          "base_uri": "https://localhost:8080/",
          "height": 34
        },
        "outputId": "51c4aa99-c816-4352-e2c4-af904ab412e4"
      },
      "source": [
        "import numpy as np\n",
        "#df2 = df.copy()\n",
        "df = df.dropna(subset=['Doküman Metin'])\n",
        "#df = df[df['Doküman Metin'] != np.nan]\n",
        "df.shape"
      ],
      "execution_count": 26,
      "outputs": [
        {
          "output_type": "execute_result",
          "data": {
            "text/plain": [
              "(13712, 23)"
            ]
          },
          "metadata": {
            "tags": []
          },
          "execution_count": 26
        }
      ]
    },
    {
      "cell_type": "code",
      "metadata": {
        "id": "119KMtipLdo6",
        "colab_type": "code",
        "colab": {
          "base_uri": "https://localhost:8080/",
          "height": 34
        },
        "outputId": "15680e42-ff89-407c-bfad-1aed7dae80ce"
      },
      "source": [
        "sum(df[\"Doküman Metin\"].isnull())/len(df)*100"
      ],
      "execution_count": 21,
      "outputs": [
        {
          "output_type": "execute_result",
          "data": {
            "text/plain": [
              "15.122253172392448"
            ]
          },
          "metadata": {
            "tags": []
          },
          "execution_count": 21
        }
      ]
    },
    {
      "cell_type": "markdown",
      "metadata": {
        "id": "rcaLQNkcKFNt",
        "colab_type": "text"
      },
      "source": [
        "Kapsam kolonunun ~%14'ü boş, bunlar da temizlenmeli."
      ]
    },
    {
      "cell_type": "code",
      "metadata": {
        "id": "-E-LInZPHQjA",
        "colab_type": "code",
        "colab": {
          "base_uri": "https://localhost:8080/",
          "height": 34
        },
        "outputId": "45d7bb7e-5912-411b-b8c9-f2784f746fdd"
      },
      "source": [
        "sum(df[\"Kapsam\"].isnull())/len(df)*100"
      ],
      "execution_count": 19,
      "outputs": [
        {
          "output_type": "execute_result",
          "data": {
            "text/plain": [
              "14.992262457443516"
            ]
          },
          "metadata": {
            "tags": []
          },
          "execution_count": 19
        }
      ]
    },
    {
      "cell_type": "code",
      "metadata": {
        "id": "8iaaWAhyP5oB",
        "colab_type": "code",
        "colab": {
          "base_uri": "https://localhost:8080/",
          "height": 34
        },
        "outputId": "320a9f98-e8a4-40d2-801d-93998c8c62ca"
      },
      "source": [
        "df = df.dropna(subset=['Kapsam'])\n",
        "df.shape"
      ],
      "execution_count": 27,
      "outputs": [
        {
          "output_type": "execute_result",
          "data": {
            "text/plain": [
              "(13712, 23)"
            ]
          },
          "metadata": {
            "tags": []
          },
          "execution_count": 27
        }
      ]
    },
    {
      "cell_type": "markdown",
      "metadata": {
        "id": "_zucKWjtwnWg",
        "colab_type": "text"
      },
      "source": [
        "## Ön-işleme\n",
        " ### Büyük/Küçük Harf\n",
        " \n",
        " *Döküman Metin* kolonunundaki girdilerin hepsini küçük harf yapalım çünkü *nltk* kütüphanesindeki dolgu sözcükleri küçük harfle yazılmış.\n",
        " "
      ]
    },
    {
      "cell_type": "code",
      "metadata": {
        "id": "14wcTcOm2mKI",
        "colab_type": "code",
        "colab": {
          "base_uri": "https://localhost:8080/",
          "height": 119
        },
        "outputId": "a58efa1c-d406-404d-c4e7-cd52d877bfae"
      },
      "source": [
        "df['Doküman Metin'] = df['Doküman Metin'].str.lower()\n",
        "df['Doküman Metin'].head()"
      ],
      "execution_count": 44,
      "outputs": [
        {
          "output_type": "execute_result",
          "data": {
            "text/plain": [
              "0    i̇lgili adrese ikramlık talebinde bulunulmuştu...\n",
              "2    i̇lgili adrese ikramlık talep edilmiştir.bilgi...\n",
              "4    i̇lgili adres için ikramlık talep edildi.bilgi...\n",
              "6    fikirtepe mah.kader sok. no : 29/3 ikramlık ta...\n",
              "8    05353074596 telefonun numarasının sms sistemin...\n",
              "Name: Doküman Metin, dtype: object"
            ]
          },
          "metadata": {
            "tags": []
          },
          "execution_count": 44
        }
      ]
    },
    {
      "cell_type": "markdown",
      "metadata": {
        "id": "BPOHjQGmBJci",
        "colab_type": "text"
      },
      "source": [
        "### Son Sözler...\n",
        "\n",
        "Metin içeriğinin son kelimeleri incelendiğinde dilekçelerin \"bilginize\", \"bilgilerinize\" bittiği gözlemlendi. Dolgu sözcüğü olarak ele alınabilirler. Bazen bu kelimeler basit bir yazım hatası yüzünden önceki kelimeye bitişik yazılmıştır. \".\" karakterleri \" \" (boşluk) ile değiştirilerek, bu kelimeler dolgu kelimesi listesine eklenebilir.\n"
      ]
    },
    {
      "cell_type": "code",
      "metadata": {
        "id": "rhPH8hQ-BRVp",
        "colab_type": "code",
        "colab": {
          "base_uri": "https://localhost:8080/",
          "height": 204
        },
        "outputId": "05eb294c-3f5b-43d1-961b-ff87aafc5335"
      },
      "source": [
        "df['Doküman Metin'].str.rsplit(' ',1).str[1].head(10)"
      ],
      "execution_count": 67,
      "outputs": [
        {
          "output_type": "execute_result",
          "data": {
            "text/plain": [
              "0     bulunulmuştur.bilgilerinize.\n",
              "2                                 \n",
              "4                edildi.bilginize.\n",
              "6                edildi.bilginize.\n",
              "8                   bilgilerinize.\n",
              "9          bulunuldu.bi̇lgi̇ni̇ze.\n",
              "11         bulunuldu.bi̇lgi̇ni̇ze.\n",
              "12                  bilgilerinize.\n",
              "13     edilmektedir.bilgilerinize.\n",
              "15      edi̇ldi̇.bi̇lgi̇leri̇ni̇ze\n",
              "Name: Doküman Metin, dtype: object"
            ]
          },
          "metadata": {
            "tags": []
          },
          "execution_count": 67
        }
      ]
    },
    {
      "cell_type": "code",
      "metadata": {
        "id": "6rtr6GK2LMFu",
        "colab_type": "code",
        "colab": {
          "base_uri": "https://localhost:8080/",
          "height": 1000
        },
        "outputId": "77f9361b-7c2e-463f-edbc-9bbf2a81b0bc"
      },
      "source": [
        "df['Doküman Metin'].str.rsplit(' ',1).str[1].str.rsplit('.').str[1].head(100)"
      ],
      "execution_count": 81,
      "outputs": [
        {
          "output_type": "execute_result",
          "data": {
            "text/plain": [
              "0          bilgilerinize\n",
              "2                    NaN\n",
              "4              bilginize\n",
              "6              bilginize\n",
              "8                       \n",
              "9           bi̇lgi̇ni̇ze\n",
              "11          bi̇lgi̇ni̇ze\n",
              "12                      \n",
              "13         bilgilerinize\n",
              "15     bi̇lgi̇leri̇ni̇ze\n",
              "17          bi̇lgi̇ni̇ze\n",
              "18             bilginize\n",
              "20             bilginize\n",
              "21             bilginize\n",
              "22                      \n",
              "23                      \n",
              "24         bilgilerinize\n",
              "26                      \n",
              "27                   NaN\n",
              "29                      \n",
              "30                      \n",
              "31                   NaN\n",
              "33                   NaN\n",
              "34         bilgilerinize\n",
              "36             bilginize\n",
              "37                      \n",
              "38                      \n",
              "40                      \n",
              "42                      \n",
              "44                      \n",
              "             ...        \n",
              "96                      \n",
              "97         bilgilerinize\n",
              "98                      \n",
              "99         bilgilerinize\n",
              "101                     \n",
              "102                     \n",
              "103                     \n",
              "104                     \n",
              "105                     \n",
              "106                    )\n",
              "107        bilgilerinize\n",
              "108        bilgilerinize\n",
              "109        bilgilerinize\n",
              "110        bilgilerinize\n",
              "111            bilginize\n",
              "112                  NaN\n",
              "113            bilginize\n",
              "114                     \n",
              "115                     \n",
              "117                     \n",
              "119                     \n",
              "121        bilgilerinize\n",
              "123        bilgilerinize\n",
              "124                     \n",
              "125        bilgilerinize\n",
              "126                     \n",
              "127                     \n",
              "128                     \n",
              "129                     \n",
              "130                     \n",
              "Name: Doküman Metin, Length: 100, dtype: object"
            ]
          },
          "metadata": {
            "tags": []
          },
          "execution_count": 81
        }
      ]
    },
    {
      "cell_type": "markdown",
      "metadata": {
        "id": "ua9avOkLh5oq",
        "colab_type": "text"
      },
      "source": [
        "## Öznitelik Çıkarımı\n",
        "\n",
        "### Kelime Sayısı"
      ]
    },
    {
      "cell_type": "code",
      "metadata": {
        "id": "9Sv05_FSjDUN",
        "colab_type": "code",
        "colab": {
          "base_uri": "https://localhost:8080/",
          "height": 204
        },
        "outputId": "04892784-59a5-4b0b-9216-785b64f02038"
      },
      "source": [
        "df['kelime_sayisi'] = df['Doküman Metin'].apply(lambda x: len(str(x).split(\" \")))\n",
        "df[['Doküman Metin','kelime_sayisi']].head()"
      ],
      "execution_count": 45,
      "outputs": [
        {
          "output_type": "execute_result",
          "data": {
            "text/html": [
              "<div>\n",
              "<style scoped>\n",
              "    .dataframe tbody tr th:only-of-type {\n",
              "        vertical-align: middle;\n",
              "    }\n",
              "\n",
              "    .dataframe tbody tr th {\n",
              "        vertical-align: top;\n",
              "    }\n",
              "\n",
              "    .dataframe thead th {\n",
              "        text-align: right;\n",
              "    }\n",
              "</style>\n",
              "<table border=\"1\" class=\"dataframe\">\n",
              "  <thead>\n",
              "    <tr style=\"text-align: right;\">\n",
              "      <th></th>\n",
              "      <th>Doküman Metin</th>\n",
              "      <th>kelime_sayisi</th>\n",
              "    </tr>\n",
              "  </thead>\n",
              "  <tbody>\n",
              "    <tr>\n",
              "      <th>0</th>\n",
              "      <td>i̇lgili adrese ikramlık talebinde bulunulmuştu...</td>\n",
              "      <td>5</td>\n",
              "    </tr>\n",
              "    <tr>\n",
              "      <th>2</th>\n",
              "      <td>i̇lgili adrese ikramlık talep edilmiştir.bilgi...</td>\n",
              "      <td>6</td>\n",
              "    </tr>\n",
              "    <tr>\n",
              "      <th>4</th>\n",
              "      <td>i̇lgili adres için ikramlık talep edildi.bilgi...</td>\n",
              "      <td>6</td>\n",
              "    </tr>\n",
              "    <tr>\n",
              "      <th>6</th>\n",
              "      <td>fikirtepe mah.kader sok. no : 29/3 ikramlık ta...</td>\n",
              "      <td>9</td>\n",
              "    </tr>\n",
              "    <tr>\n",
              "      <th>8</th>\n",
              "      <td>05353074596 telefonun numarasının sms sistemin...</td>\n",
              "      <td>9</td>\n",
              "    </tr>\n",
              "  </tbody>\n",
              "</table>\n",
              "</div>"
            ],
            "text/plain": [
              "                                       Doküman Metin  kelime_sayisi\n",
              "0  i̇lgili adrese ikramlık talebinde bulunulmuştu...              5\n",
              "2  i̇lgili adrese ikramlık talep edilmiştir.bilgi...              6\n",
              "4  i̇lgili adres için ikramlık talep edildi.bilgi...              6\n",
              "6  fikirtepe mah.kader sok. no : 29/3 ikramlık ta...              9\n",
              "8  05353074596 telefonun numarasının sms sistemin...              9"
            ]
          },
          "metadata": {
            "tags": []
          },
          "execution_count": 45
        }
      ]
    },
    {
      "cell_type": "markdown",
      "metadata": {
        "id": "JTMR1LuHmV73",
        "colab_type": "text"
      },
      "source": [
        "### Karakter Sayısı\n",
        "\n",
        "Metin uzunluklarından karakter sayısı çıkarılmıştır. Boşluk karakterleri de sayılmıştır."
      ]
    },
    {
      "cell_type": "code",
      "metadata": {
        "id": "0COWPuQtnEQy",
        "colab_type": "code",
        "colab": {
          "base_uri": "https://localhost:8080/",
          "height": 204
        },
        "outputId": "821c324d-6f36-4987-accf-d5fc5b633b2e"
      },
      "source": [
        "df['karakter_sayisi'] = df['Doküman Metin'].str.len() ## this also includes spaces\n",
        "df[['Doküman Metin','karakter_sayisi']].head()"
      ],
      "execution_count": 46,
      "outputs": [
        {
          "output_type": "execute_result",
          "data": {
            "text/html": [
              "<div>\n",
              "<style scoped>\n",
              "    .dataframe tbody tr th:only-of-type {\n",
              "        vertical-align: middle;\n",
              "    }\n",
              "\n",
              "    .dataframe tbody tr th {\n",
              "        vertical-align: top;\n",
              "    }\n",
              "\n",
              "    .dataframe thead th {\n",
              "        text-align: right;\n",
              "    }\n",
              "</style>\n",
              "<table border=\"1\" class=\"dataframe\">\n",
              "  <thead>\n",
              "    <tr style=\"text-align: right;\">\n",
              "      <th></th>\n",
              "      <th>Doküman Metin</th>\n",
              "      <th>karakter_sayisi</th>\n",
              "    </tr>\n",
              "  </thead>\n",
              "  <tbody>\n",
              "    <tr>\n",
              "      <th>0</th>\n",
              "      <td>i̇lgili adrese ikramlık talebinde bulunulmuştu...</td>\n",
              "      <td>62</td>\n",
              "    </tr>\n",
              "    <tr>\n",
              "      <th>2</th>\n",
              "      <td>i̇lgili adrese ikramlık talep edilmiştir.bilgi...</td>\n",
              "      <td>56</td>\n",
              "    </tr>\n",
              "    <tr>\n",
              "      <th>4</th>\n",
              "      <td>i̇lgili adres için ikramlık talep edildi.bilgi...</td>\n",
              "      <td>51</td>\n",
              "    </tr>\n",
              "    <tr>\n",
              "      <th>6</th>\n",
              "      <td>fikirtepe mah.kader sok. no : 29/3 ikramlık ta...</td>\n",
              "      <td>67</td>\n",
              "    </tr>\n",
              "    <tr>\n",
              "      <th>8</th>\n",
              "      <td>05353074596 telefonun numarasının sms sistemin...</td>\n",
              "      <td>98</td>\n",
              "    </tr>\n",
              "  </tbody>\n",
              "</table>\n",
              "</div>"
            ],
            "text/plain": [
              "                                       Doküman Metin  karakter_sayisi\n",
              "0  i̇lgili adrese ikramlık talebinde bulunulmuştu...               62\n",
              "2  i̇lgili adrese ikramlık talep edilmiştir.bilgi...               56\n",
              "4  i̇lgili adres için ikramlık talep edildi.bilgi...               51\n",
              "6  fikirtepe mah.kader sok. no : 29/3 ikramlık ta...               67\n",
              "8  05353074596 telefonun numarasının sms sistemin...               98"
            ]
          },
          "metadata": {
            "tags": []
          },
          "execution_count": 46
        }
      ]
    },
    {
      "cell_type": "markdown",
      "metadata": {
        "id": "KUTFmRQPnlnU",
        "colab_type": "text"
      },
      "source": [
        "### Ortalama Kelime Uzunluğu\n",
        "\n",
        "Kullanılan kelimelerinin uzunluklarının kapsama göre farklılık gösterebileceği düşünülerek her metnin ortalam kelime uzunluğu bulunmuştur."
      ]
    },
    {
      "cell_type": "code",
      "metadata": {
        "id": "yRr7LW7xnrQI",
        "colab_type": "code",
        "colab": {
          "base_uri": "https://localhost:8080/",
          "height": 204
        },
        "outputId": "afd201a3-5d7c-4e34-c644-196b16532417"
      },
      "source": [
        "def avg_word(sentence):\n",
        "  words = sentence.split()\n",
        "  return (sum(len(word) for word in words)/len(words))\n",
        "\n",
        "df['ort_kelime'] = df['Doküman Metin'].apply(lambda x: avg_word(x))\n",
        "df[['Doküman Metin','ort_kelime']].head()"
      ],
      "execution_count": 32,
      "outputs": [
        {
          "output_type": "execute_result",
          "data": {
            "text/html": [
              "<div>\n",
              "<style scoped>\n",
              "    .dataframe tbody tr th:only-of-type {\n",
              "        vertical-align: middle;\n",
              "    }\n",
              "\n",
              "    .dataframe tbody tr th {\n",
              "        vertical-align: top;\n",
              "    }\n",
              "\n",
              "    .dataframe thead th {\n",
              "        text-align: right;\n",
              "    }\n",
              "</style>\n",
              "<table border=\"1\" class=\"dataframe\">\n",
              "  <thead>\n",
              "    <tr style=\"text-align: right;\">\n",
              "      <th></th>\n",
              "      <th>Doküman Metin</th>\n",
              "      <th>ort_kelime</th>\n",
              "    </tr>\n",
              "  </thead>\n",
              "  <tbody>\n",
              "    <tr>\n",
              "      <th>0</th>\n",
              "      <td>İlgili adrese ikramlık talebinde bulunulmuştur...</td>\n",
              "      <td>11.400000</td>\n",
              "    </tr>\n",
              "    <tr>\n",
              "      <th>2</th>\n",
              "      <td>İlgili adrese ikramlık talep edilmiştir.Bilgil...</td>\n",
              "      <td>10.000000</td>\n",
              "    </tr>\n",
              "    <tr>\n",
              "      <th>4</th>\n",
              "      <td>İlgili adres için ikramlık talep edildi.Bilgin...</td>\n",
              "      <td>7.500000</td>\n",
              "    </tr>\n",
              "    <tr>\n",
              "      <th>6</th>\n",
              "      <td>Fikirtepe Mah.Kader Sok. No : 29/3 ikramlık ta...</td>\n",
              "      <td>6.555556</td>\n",
              "    </tr>\n",
              "    <tr>\n",
              "      <th>8</th>\n",
              "      <td>05353074596 telefonun numarasının SMS sistemin...</td>\n",
              "      <td>10.000000</td>\n",
              "    </tr>\n",
              "  </tbody>\n",
              "</table>\n",
              "</div>"
            ],
            "text/plain": [
              "                                       Doküman Metin  ort_kelime\n",
              "0  İlgili adrese ikramlık talebinde bulunulmuştur...   11.400000\n",
              "2  İlgili adrese ikramlık talep edilmiştir.Bilgil...   10.000000\n",
              "4  İlgili adres için ikramlık talep edildi.Bilgin...    7.500000\n",
              "6  Fikirtepe Mah.Kader Sok. No : 29/3 ikramlık ta...    6.555556\n",
              "8  05353074596 telefonun numarasının SMS sistemin...   10.000000"
            ]
          },
          "metadata": {
            "tags": []
          },
          "execution_count": 32
        }
      ]
    },
    {
      "cell_type": "markdown",
      "metadata": {
        "id": "K8A86QxUomYa",
        "colab_type": "text"
      },
      "source": [
        "### Dolgu Sözcüğü Sayısı\n",
        "\n",
        "Dil işleme problemini çalışmaya başlamadan önce şikayet/talep metnindeki dolgu sözcüklerini atacağız. Bu kelimeler genelde içerik hakkında bilgilendirici olmayan bağlaçlar, hitaplar, vs.'dir. Yine de bilgi kaybetmemek için dolgu sözcükleri sayısını ayrı bir kolonda tutmayı uygun gördük. Önce *nltk* kütüphanesinin dolgu sözcüklerini indirelim:"
      ]
    },
    {
      "cell_type": "code",
      "metadata": {
        "id": "PWTI043rr8hm",
        "colab_type": "code",
        "colab": {
          "base_uri": "https://localhost:8080/",
          "height": 68
        },
        "outputId": "4753c70a-63cb-4884-87f4-b454da89ad36"
      },
      "source": [
        "import nltk\n",
        "nltk.download('stopwords')"
      ],
      "execution_count": 36,
      "outputs": [
        {
          "output_type": "stream",
          "text": [
            "[nltk_data] Downloading package stopwords to /root/nltk_data...\n",
            "[nltk_data]   Unzipping corpora/stopwords.zip.\n"
          ],
          "name": "stdout"
        },
        {
          "output_type": "execute_result",
          "data": {
            "text/plain": [
              "True"
            ]
          },
          "metadata": {
            "tags": []
          },
          "execution_count": 36
        }
      ]
    },
    {
      "cell_type": "code",
      "metadata": {
        "id": "42CKvRzGok7G",
        "colab_type": "code",
        "colab": {
          "base_uri": "https://localhost:8080/",
          "height": 204
        },
        "outputId": "8bddfa53-a674-42e8-ec63-44d117dedd39"
      },
      "source": [
        "from nltk.corpus import stopwords\n",
        "stop = []\n",
        "stop = stopwords.words('turkish')\n",
        "stop.extend([\"bilginize\", \"bilgilerinize\", \".bilginize\", \n",
        "             \".bilgilerinize\", \"bilginize.\", \"bilgilerinize.\", \n",
        "             \".bilginize.\", \".bilgilerinize.\", \"saygılarımla\", \"saygılarımla.\"\n",
        "             \".saygılarımla\", \".saygılarımla.\"])\n",
        "\n",
        "df['dolgu_sayisi'] = df['Doküman Metin'].apply(lambda x: len([x for x in x.split() if x in stop]))\n",
        "df[['Doküman Metin','dolgu_sayisi']].head()"
      ],
      "execution_count": 94,
      "outputs": [
        {
          "output_type": "execute_result",
          "data": {
            "text/html": [
              "<div>\n",
              "<style scoped>\n",
              "    .dataframe tbody tr th:only-of-type {\n",
              "        vertical-align: middle;\n",
              "    }\n",
              "\n",
              "    .dataframe tbody tr th {\n",
              "        vertical-align: top;\n",
              "    }\n",
              "\n",
              "    .dataframe thead th {\n",
              "        text-align: right;\n",
              "    }\n",
              "</style>\n",
              "<table border=\"1\" class=\"dataframe\">\n",
              "  <thead>\n",
              "    <tr style=\"text-align: right;\">\n",
              "      <th></th>\n",
              "      <th>Doküman Metin</th>\n",
              "      <th>dolgu_sayisi</th>\n",
              "    </tr>\n",
              "  </thead>\n",
              "  <tbody>\n",
              "    <tr>\n",
              "      <th>0</th>\n",
              "      <td>i̇lgili adrese ikramlık talebinde bulunulmuştu...</td>\n",
              "      <td>0</td>\n",
              "    </tr>\n",
              "    <tr>\n",
              "      <th>2</th>\n",
              "      <td>i̇lgili adrese ikramlık talep edilmiştir.bilgi...</td>\n",
              "      <td>0</td>\n",
              "    </tr>\n",
              "    <tr>\n",
              "      <th>4</th>\n",
              "      <td>i̇lgili adres için ikramlık talep edildi.bilgi...</td>\n",
              "      <td>1</td>\n",
              "    </tr>\n",
              "    <tr>\n",
              "      <th>6</th>\n",
              "      <td>fikirtepe mah.kader sok. no : 29/3 ikramlık ta...</td>\n",
              "      <td>0</td>\n",
              "    </tr>\n",
              "    <tr>\n",
              "      <th>8</th>\n",
              "      <td>05353074596 telefonun numarasının sms sistemin...</td>\n",
              "      <td>1</td>\n",
              "    </tr>\n",
              "  </tbody>\n",
              "</table>\n",
              "</div>"
            ],
            "text/plain": [
              "                                       Doküman Metin  dolgu_sayisi\n",
              "0  i̇lgili adrese ikramlık talebinde bulunulmuştu...             0\n",
              "2  i̇lgili adrese ikramlık talep edilmiştir.bilgi...             0\n",
              "4  i̇lgili adres için ikramlık talep edildi.bilgi...             1\n",
              "6  fikirtepe mah.kader sok. no : 29/3 ikramlık ta...             0\n",
              "8  05353074596 telefonun numarasının sms sistemin...             1"
            ]
          },
          "metadata": {
            "tags": []
          },
          "execution_count": 94
        }
      ]
    },
    {
      "cell_type": "code",
      "metadata": {
        "id": "ZVSpgJmXs_Nf",
        "colab_type": "code",
        "colab": {
          "base_uri": "https://localhost:8080/",
          "height": 207
        },
        "outputId": "3e1cb6ec-ff1b-4372-d659-a0d11a8e0638"
      },
      "source": [
        "print(stop)\n",
        "df.dolgu_sayisi.describe()"
      ],
      "execution_count": 95,
      "outputs": [
        {
          "output_type": "stream",
          "text": [
            "['acaba', 'ama', 'aslında', 'az', 'bazı', 'belki', 'biri', 'birkaç', 'birşey', 'biz', 'bu', 'çok', 'çünkü', 'da', 'daha', 'de', 'defa', 'diye', 'eğer', 'en', 'gibi', 'hem', 'hep', 'hepsi', 'her', 'hiç', 'için', 'ile', 'ise', 'kez', 'ki', 'kim', 'mı', 'mu', 'mü', 'nasıl', 'ne', 'neden', 'nerde', 'nerede', 'nereye', 'niçin', 'niye', 'o', 'sanki', 'şey', 'siz', 'şu', 'tüm', 've', 'veya', 'ya', 'yani', 'bilginize', 'bilgilerinize', '.bilginize', '.bilgilerinize', 'bilginize.', 'bilgilerinize.', '.bilginize.', '.bilgilerinize.', 'saygılarımla', 'saygılarımla..saygılarımla', '.saygılarımla.']\n"
          ],
          "name": "stdout"
        },
        {
          "output_type": "execute_result",
          "data": {
            "text/plain": [
              "count    13712.000000\n",
              "mean         2.271222\n",
              "std          3.534201\n",
              "min          0.000000\n",
              "25%          1.000000\n",
              "50%          1.000000\n",
              "75%          3.000000\n",
              "max         59.000000\n",
              "Name: dolgu_sayisi, dtype: float64"
            ]
          },
          "metadata": {
            "tags": []
          },
          "execution_count": 95
        }
      ]
    },
    {
      "cell_type": "code",
      "metadata": {
        "id": "a9sEgEn83wGI",
        "colab_type": "code",
        "colab": {
          "base_uri": "https://localhost:8080/",
          "height": 54
        },
        "outputId": "0ef67515-51ad-4e49-fc3c-87eb58ff8f6c"
      },
      "source": [
        "df[\"Doküman Metin\"][110]"
      ],
      "execution_count": 52,
      "outputs": [
        {
          "output_type": "execute_result",
          "data": {
            "text/plain": [
              "'bahse konu\\xa0 adrese vefat eden\\xa0 nihat\\xa0 zorlu\\xa0 için\\xa0 yarın öğlene ikramlık\\xa0 talep\\xa0 edildi.bilgilerinize'"
            ]
          },
          "metadata": {
            "tags": []
          },
          "execution_count": 52
        }
      ]
    },
    {
      "cell_type": "markdown",
      "metadata": {
        "id": "OCm-6INSTck4",
        "colab_type": "text"
      },
      "source": [
        "### Rakam Sayısı\n",
        "\n",
        "Metinlerde geçen rakam sayısı da bir kolonda tutulmuştur."
      ]
    },
    {
      "cell_type": "code",
      "metadata": {
        "id": "_ql2_yxKTrjA",
        "colab_type": "code",
        "colab": {
          "base_uri": "https://localhost:8080/",
          "height": 34
        },
        "outputId": "f3745785-6778-4e6e-8e2d-dd695538ccaa"
      },
      "source": [
        "df['rakam_sayisi'] = df['Doküman Metin'].apply(lambda x: len([x for x in x.split() if x.isdigit()]))\n",
        "df[['Doküman Metin', 'rakam_sayisi']].head()\n",
        "df[\"rakam_sayisi\"].unique()"
      ],
      "execution_count": 99,
      "outputs": [
        {
          "output_type": "execute_result",
          "data": {
            "text/plain": [
              "array([ 0,  1,  3,  4,  2,  8,  5,  9,  6, 12, 10,  7, 15, 13, 19, 18, 28])"
            ]
          },
          "metadata": {
            "tags": []
          },
          "execution_count": 99
        }
      ]
    },
    {
      "cell_type": "markdown",
      "metadata": {
        "id": "qnqJjBAxXFDt",
        "colab_type": "text"
      },
      "source": [
        "## Ön-işleme'ye Devam\n",
        "\n",
        "### Noktalama İşaretlerini Kaldırma\n",
        "\n",
        "Noktalama işaretleri içerik açısından bilgilendirici olmadıkları için kaldırılacaktır."
      ]
    },
    {
      "cell_type": "code",
      "metadata": {
        "id": "kk1fWfSBXUwe",
        "colab_type": "code",
        "colab": {
          "base_uri": "https://localhost:8080/",
          "height": 119
        },
        "outputId": "67ecbb88-39d6-4ebd-bff7-d76934187c49"
      },
      "source": [
        "df['Doküman Metin'] = df['Doküman Metin'].str.replace('[^\\w\\s]','')\n",
        "df['Doküman Metin'].head()"
      ],
      "execution_count": 100,
      "outputs": [
        {
          "output_type": "execute_result",
          "data": {
            "text/plain": [
              "0    ilgili adrese ikramlık talebinde bulunulmuştur...\n",
              "2    ilgili adrese ikramlık talep edilmiştirbilgile...\n",
              "4     ilgili adres için ikramlık talep edildibilginize\n",
              "6    fikirtepe mahkader sok no  293 ikramlık talep ...\n",
              "8    05353074596 telefonun numarasının sms sistemin...\n",
              "Name: Doküman Metin, dtype: object"
            ]
          },
          "metadata": {
            "tags": []
          },
          "execution_count": 100
        }
      ]
    },
    {
      "cell_type": "markdown",
      "metadata": {
        "id": "iWymZD_8iQpR",
        "colab_type": "text"
      },
      "source": [
        "### Dolgu Sözcüklerinden Kurtulma\n",
        "\n"
      ]
    },
    {
      "cell_type": "code",
      "metadata": {
        "id": "h8TxPxXTiXsU",
        "colab_type": "code",
        "colab": {
          "base_uri": "https://localhost:8080/",
          "height": 119
        },
        "outputId": "3138d726-5e19-4116-d8e0-748d9a2f5ceb"
      },
      "source": [
        "df['Doküman Metin'] = df['Doküman Metin'].apply(lambda x: \" \".join(x for x in x.split() if x not in stop))\n",
        "df['Doküman Metin'].head()"
      ],
      "execution_count": 103,
      "outputs": [
        {
          "output_type": "execute_result",
          "data": {
            "text/plain": [
              "0    ilgili adrese ikramlık talebinde bulunulmuştur...\n",
              "2    ilgili adrese ikramlık talep edilmiştirbilgile...\n",
              "4          ilgili adres ikramlık talep edildibilginize\n",
              "6    fikirtepe mahkader sok no 293 ikramlık talep e...\n",
              "8    05353074596 telefonun numarasının sms sistemin...\n",
              "Name: Doküman Metin, dtype: object"
            ]
          },
          "metadata": {
            "tags": []
          },
          "execution_count": 103
        }
      ]
    },
    {
      "cell_type": "markdown",
      "metadata": {
        "id": "PzHDC2Iwi6OR",
        "colab_type": "text"
      },
      "source": [
        "### Sık Tekrarlar\n",
        "\n",
        "Sık tekrar eden kelimeler bilgilendirici olmayacaktır. Tüm girdilerde, en sık tekrar eden 10 kelimeyi listeleyelim. \"talep\" dışındaki kelimeler, içeriğin kapsamı hakkında bilgilendirici değildir."
      ]
    },
    {
      "cell_type": "code",
      "metadata": {
        "id": "B2DSdMx8jCJ8",
        "colab_type": "code",
        "colab": {
          "base_uri": "https://localhost:8080/",
          "height": 221
        },
        "outputId": "ff2aaf79-b237-4dc6-d7a7-98bbf4a1345e"
      },
      "source": [
        "freq = pd.Series(' '.join(df['Doküman Metin']).split()).value_counts()[:11]\n",
        "freq"
      ],
      "execution_count": 105,
      "outputs": [
        {
          "output_type": "execute_result",
          "data": {
            "text/plain": [
              "mah         5869\n",
              "olduğu      4296\n",
              "no          4285\n",
              "sok         4129\n",
              "talep       4074\n",
              "ilgili      3594\n",
              "bir         3455\n",
              "adreste     3159\n",
              "bulunan     3084\n",
              "iletildi    2409\n",
              "sokak       1630\n",
              "dtype: int64"
            ]
          },
          "metadata": {
            "tags": []
          },
          "execution_count": 105
        }
      ]
    },
    {
      "cell_type": "code",
      "metadata": {
        "id": "B1xqDP1Fk8tO",
        "colab_type": "code",
        "colab": {}
      },
      "source": [
        "list.remove(element)"
      ],
      "execution_count": 0,
      "outputs": []
    },
    {
      "cell_type": "markdown",
      "metadata": {
        "id": "W1_LJ3DPHBcU",
        "colab_type": "text"
      },
      "source": [
        "## Vektörize Etme"
      ]
    },
    {
      "cell_type": "code",
      "metadata": {
        "id": "46O16O6UGhnQ",
        "colab_type": "code",
        "colab": {}
      },
      "source": [
        "from sklearn.feature_extraction.text import CountVectorizer\n",
        "\n",
        "corpus = df[\"Doküman Metin\"]\n",
        "\n",
        "#Initialize vectorizer:\n",
        "vectorizer = CountVectorizer()\n",
        "\n",
        "# Vectorize the corpus:\n",
        "X = vectorizer.fit_transform(corpus)"
      ],
      "execution_count": 0,
      "outputs": []
    },
    {
      "cell_type": "markdown",
      "metadata": {
        "id": "ZAcQ2Ze4iuqs",
        "colab_type": "text"
      },
      "source": [
        "## Kaynaklar\n",
        "\n",
        "\n",
        "\n",
        "1.   [Ultimate guide to deal with Text Data (using Python) – for Data Scientists and Engineers](https://www.analyticsvidhya.com/blog/2018/02/the-different-methods-deal-text-data-predictive-python/)\n",
        "2.   List item\n",
        "\n"
      ]
    }
  ]
}